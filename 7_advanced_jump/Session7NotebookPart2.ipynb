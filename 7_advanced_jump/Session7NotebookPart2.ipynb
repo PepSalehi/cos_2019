{
 "cells": [
  {
   "cell_type": "markdown",
   "metadata": {},
   "source": [
    "# Conic Non-linear optimization\n",
    "\n",
    "Description todo\n",
    "\n",
    "Basic idea: in part (1) we discussed how to use callbacks to solve IPs.\n",
    "In part (2) we will cover how to solve NLPs\n",
    "In part (3) we will combine parts (1)-(2) to do something cool.\n",
    "\n",
    "Credit: some of this material is adapted from the 2016 version of this course, written by Miles Lubin and Yeesian Ng. \n",
    "\n",
    "Some of this material is also adapted from the Boyd and Vandenberghe convex optimization book, specifically chapter 8."
   ]
  },
  {
   "cell_type": "markdown",
   "metadata": {},
   "source": [
    "# Part 2(a): SVM's\n",
    "Support Vector Machines are a popular model in machine learning for classification. We'll use this example to illustrate the basic use of JuMP.jl for solving nontrivial conic optimization problems.\n",
    "\n",
    "Specifically, we are going to build our own custom svm solver, so that we can constraints which off-the-shelf SVM solvers can't handle.\n",
    "\n",
    "The basic problem is that we are given a set of N points $x_1,x_2,\\ldots, x_N \\in \\mathbb{R}^n$ and labels $y_1, y_2, \\ldots, y_n \\in \\{-1,+1\\}$. And we want to find a hyperplane of the form $w^Tx-b = 0$ that separates the two classes, i.e. $w^Tx_i - b \\geq 1$ when $y_i = +1$ and $w^Tx_i - b \\leq -1$ when $y_i = -1$. This condition can be written as $y_i(w^Tx_i - b) \\geq 1, \\forall\\, i$.\n",
    "\n",
    "Such a hyperplane will not exist in general if the data overlap, so instead we'll just try to minimize violations of the constraint $y_i(w^Tx_i - b) \\geq 1, \\forall\\, i$ by adding a penalty when it is violated. The optimization problem can be stated as $$\n",
    "\\min_{w,b} \\sum_{i=1}^N \\left[\\max\\{0, 1 - y_i(w^Tx_i - b)\\}\\right] + \\gamma ||w||_2^2\n",
    "$$ Note that we penalize the norm of $w$ in order to guarantee a unique solution.\n",
    "\n",
    "Now let's write our own SVM solver!"
   ]
  },
  {
   "cell_type": "code",
   "execution_count": 97,
   "metadata": {},
   "outputs": [],
   "source": [
    "#Pkg.add(\"PyPlot\")\n",
    "using Mosek #, Pick your favourite solver here e.g. CPLEX/Gurobi. Note that you need to install Mosek to use it\n",
    "using Distributions\n",
    "using PyPlot\n",
    "using LinearAlgebra"
   ]
  },
  {
   "cell_type": "code",
   "execution_count": 8,
   "metadata": {},
   "outputs": [
    {
     "data": {
      "text/plain": [
       "gen_data (generic function with 1 method)"
      ]
     },
     "execution_count": 8,
     "metadata": {},
     "output_type": "execute_result"
    }
   ],
   "source": [
    "# Function to generate some random test data\n",
    "function gen_data(N)\n",
    "    # for +1 data, symmetric multivariate normal with center at (1,2)\n",
    "    pos = rand(MvNormal([1.0,2.0],1.0),N)\n",
    "    # for -1 data, symmetric multivariate normal with center at (-1,1)\n",
    "    neg = rand(MvNormal([-3.0,1.0],1.0),N)\n",
    "    x = [pos neg]\n",
    "    y = [fill(+1,N);fill(-1,N)]\n",
    "    return x,y\n",
    "end"
   ]
  },
  {
   "cell_type": "markdown",
   "metadata": {},
   "source": [
    "Let's see what the data look like."
   ]
  },
  {
   "cell_type": "code",
   "execution_count": 9,
   "metadata": {},
   "outputs": [
    {
     "data": {
      "image/png": "[encoded data removed]",
      "text/plain": [
       "Figure(PyObject <Figure size 640x480 with 1 Axes>)"
      ]
     },
     "metadata": {},
     "output_type": "display_data"
    }
   ],
   "source": [
    "x,y = gen_data(100)\n",
    "plot(x[1,1:100], x[2,1:100], \"ro\", x[1,101:200], x[2,101:200], \"bo\");"
   ]
  },
  {
   "cell_type": "markdown",
   "metadata": {},
   "source": [
    "Now we translate the optimization problem into JuMP form."
   ]
  },
  {
   "cell_type": "code",
   "execution_count": 28,
   "metadata": {},
   "outputs": [
    {
     "data": {
      "text/plain": [
       "svm (generic function with 1 method)"
      ]
     },
     "execution_count": 28,
     "metadata": {},
     "output_type": "execute_result"
    }
   ],
   "source": [
    "using JuMP\n",
    "const γ = 0.005\n",
    "function svm(x,y)\n",
    "    n = size(x,1) # problem dimension\n",
    "    N = size(x,2) # number of points\n",
    "    svmModel=Model(solver=MosekSolver()) #Change to the solver you are using\n",
    "    @variable(svmModel, w[1:n])\n",
    "    @variable(svmModel, b)\n",
    "    @variable(svmModel, z[1:N]>=0)\n",
    "\n",
    "\n",
    "    @constraint(svmModel,z.>=ones(N)-y.*(x'*w-b))\n",
    "    @objective(svmModel, Min, γ*w'*w+sum(z))\n",
    "    \n",
    "    status=solve(svmModel)\n",
    "    return getvalue(w), getvalue(b)\n",
    "end"
   ]
  },
  {
   "cell_type": "code",
   "execution_count": 29,
   "metadata": {},
   "outputs": [
    {
     "name": "stdout",
     "output_type": "stream",
     "text": [
      "Problem\n",
      "  Name                   :                 \n",
      "  Objective sense        : min             \n",
      "  Type                   : QO (quadratic optimization problem)\n",
      "  Constraints            : 1000            \n",
      "  Cones                  : 0               \n",
      "  Scalar variables       : 1003            \n",
      "  Matrix variables       : 0               \n",
      "  Integer variables      : 0               \n",
      "\n",
      "Optimizer started.\n",
      "Quadratic to conic reformulation started.\n",
      "Quadratic to conic reformulation terminated. Time: 0.00    \n",
      "Presolve started.\n",
      "Linear dependency checker started.\n",
      "Linear dependency checker terminated.\n",
      "Eliminator - tries                  : 0                 time                   : 0.00            \n",
      "Lin. dep.  - tries                  : 1                 time                   : 0.00            \n",
      "Lin. dep.  - number                 : 0               \n",
      "Presolve terminated. Time: 0.01    \n",
      "Problem\n",
      "  Name                   :                 \n",
      "  Objective sense        : min             \n",
      "  Type                   : QO (quadratic optimization problem)\n",
      "  Constraints            : 1000            \n",
      "  Cones                  : 0               \n",
      "  Scalar variables       : 1003            \n",
      "  Matrix variables       : 0               \n",
      "  Integer variables      : 0               \n",
      "\n",
      "Optimizer  - threads                : 12              \n",
      "Optimizer  - solved problem         : the dual        \n",
      "Optimizer  - Constraints            : 3\n",
      "Optimizer  - Cones                  : 1\n",
      "Optimizer  - Scalar variables       : 1004              conic                  : 4               \n",
      "Optimizer  - Semi-definite variables: 0                 scalarized             : 0               \n",
      "Factor     - setup time             : 0.01              dense det. time        : 0.00            \n",
      "Factor     - ML order time          : 0.00              GP order time          : 0.00            \n",
      "Factor     - nonzeros before factor : 6                 after factor           : 6               \n",
      "Factor     - dense dim.             : 0                 flops                  : 1.20e+04        \n",
      "ITE PFEAS    DFEAS    GFEAS    PRSTATUS   POBJ              DOBJ              MU       TIME  \n",
      "0   7.1e-01  6.1e+01  1.2e+00  0.00e+00   1.000000000e+03   9.971432886e+02   1.0e+00  0.03  \n",
      "1   3.8e-01  3.3e+01  4.1e-01  6.96e+00   3.374942084e+02   3.715810755e+02   5.4e-01  0.04  \n",
      "2   7.7e-02  6.7e+00  1.4e-01  2.00e+00   1.474731306e+02   1.603409541e+02   1.1e-01  0.04  \n",
      "3   2.7e-02  2.3e+00  7.3e-02  8.35e-01   1.064572179e+02   1.121539453e+02   3.8e-02  0.04  \n",
      "4   1.4e-02  1.2e+00  5.0e-02  7.31e-01   9.162139491e+01   9.513199601e+01   2.0e-02  0.04  \n",
      "5   1.1e-02  9.1e-01  4.2e-02  6.94e-01   8.559011991e+01   8.824944641e+01   1.5e-02  0.04  \n",
      "6   7.4e-03  6.4e-01  3.5e-02  7.20e-01   8.006154865e+01   8.198928161e+01   1.1e-02  0.04  \n",
      "7   5.6e-03  4.8e-01  3.1e-02  7.56e-01   7.624764101e+01   7.768640828e+01   7.9e-03  0.04  \n",
      "8   4.2e-03  3.6e-01  2.7e-02  7.57e-01   7.320922017e+01   7.428991547e+01   6.0e-03  0.04  \n",
      "9   3.2e-03  2.8e-01  2.3e-02  7.95e-01   7.080691107e+01   7.161575076e+01   4.6e-03  0.04  \n",
      "10  2.3e-03  2.0e-01  2.0e-02  7.70e-01   6.883444591e+01   6.942482028e+01   3.3e-03  0.04  \n",
      "11  1.8e-03  1.5e-01  1.8e-02  7.91e-01   6.711084137e+01   6.754020575e+01   2.5e-03  0.04  \n",
      "12  1.4e-03  1.2e-01  1.6e-02  8.20e-01   6.596837224e+01   6.629133390e+01   2.0e-03  0.04  \n",
      "13  7.7e-04  6.7e-02  1.2e-02  8.92e-01   6.400910491e+01   6.417007415e+01   1.1e-03  0.04  \n",
      "14  6.2e-04  5.3e-02  1.2e-02  9.53e-01   6.332449821e+01   6.344106178e+01   8.8e-04  0.04  \n",
      "15  3.3e-04  2.8e-02  9.1e-03  9.18e-01   6.214576252e+01   6.219937253e+01   4.6e-04  0.04  \n",
      "16  2.6e-04  2.3e-02  8.5e-03  9.42e-01   6.183993008e+01   6.187906210e+01   3.7e-04  0.04  \n",
      "17  9.5e-05  8.2e-03  6.0e-03  9.48e-01   6.109096824e+01   6.110057478e+01   1.3e-04  0.04  \n",
      "18  3.9e-06  3.4e-04  1.3e-03  9.90e-01   6.067254261e+01   6.067290781e+01   5.5e-06  0.04  \n",
      "19  1.4e-08  1.2e-06  7.5e-05  1.00e+00   6.065512055e+01   6.065512183e+01   1.9e-08  0.04  \n",
      "20  2.4e-12  8.1e-11  1.6e-12  1.00e+00   6.065505933e+01   6.065505933e+01   1.3e-12  0.05  \n",
      "Optimizer terminated. Time: 0.05    \n",
      "\n",
      "\n",
      "Interior-point solution summary\n",
      "  Problem status  : PRIMAL_AND_DUAL_FEASIBLE\n",
      "  Solution status : OPTIMAL\n",
      "  Primal.  obj: 6.0655059328e+01    nrm: 1e+01    Viol.  con: 3e-12    var: 0e+00  \n",
      "  Dual.    obj: 6.0655059328e+01    nrm: 1e+00    Viol.  con: 2e-12    var: 2e-09  \n"
     ]
    },
    {
     "data": {
      "text/plain": [
       "([2.16569, 0.641245], -1.1451882689005672)"
      ]
     },
     "execution_count": 29,
     "metadata": {},
     "output_type": "execute_result"
    }
   ],
   "source": [
    "N = 500\n",
    "x,y = gen_data(N)\n",
    "\n",
    "w,b = svm(x,y)"
   ]
  },
  {
   "cell_type": "markdown",
   "metadata": {},
   "source": [
    "And the solution?"
   ]
  },
  {
   "cell_type": "code",
   "execution_count": 30,
   "metadata": {},
   "outputs": [
    {
     "data": {
      "image/png": "[encoded data removed]",
      "text/plain": [
       "Figure(PyObject <Figure size 640x480 with 1 Axes>)"
      ]
     },
     "metadata": {},
     "output_type": "display_data"
    }
   ],
   "source": [
    "plot(x[1,1:N], x[2,1:N], \"ro\", x[1,(N+1):2N], x[2,(N+1):2N], \"bo\");\n",
    "\n",
    "xmin, xmax = xlim()\n",
    "ymin, ymax = ylim()\n",
    "y1 = (1+b-w[1]*xmin)/w[2]\n",
    "y2 = (1+b-w[1]*xmax)/w[2]\n",
    "plot([xmin,xmax], [y1,y2], \"k-\");\n",
    "y1 = (-1+b-w[1]*xmin)/w[2]\n",
    "y2 = (-1+b-w[1]*xmax)/w[2]\n",
    "plot([xmin,xmax], [y1,y2], \"k-\");\n",
    "y1 = (b-w[1]*xmin)/w[2]\n",
    "y2 = (b-w[1]*xmax)/w[2]\n",
    "ylim(ymin,ymax)\n",
    "plot([xmin,xmax], [y1,y2], \"k-\");"
   ]
  },
  {
   "cell_type": "markdown",
   "metadata": {},
   "source": [
    "# Exercise: how would you cross-validate $\\gamma$?\n",
    "Also discuss what changes you would make, to make your code scale."
   ]
  },
  {
   "cell_type": "markdown",
   "metadata": {},
   "source": [
    "Bonus exercise: if we were instead interested in hard-margin SVM, how could we generate the seperating hyperplane by solving one LP and looking at its dual?"
   ]
  },
  {
   "cell_type": "markdown",
   "metadata": {},
   "source": [
    "# Part 2(b): Non-linear discrimination via Semidefinite Optimization"
   ]
  },
  {
   "cell_type": "markdown",
   "metadata": {},
   "source": [
    "This part of the notebook is adpated from Matlab code written by Lieven Vandenberghe and Stephen Boyd\n",
    "\n",
    "A classic semidefinite optimization problem is as follows:\n",
    "\n",
    "Given a set of data points of one class $\\{x_i\\}_{i=1}^n$ and of a second class $\\{y_j\\}_{j=1}^m$, generate a quadratic function $f(\\cdot): \\mathbb{R}^n \\mapsto \\mathbb{R}$ such that $f(x_i)<0 \\ \\forall i$ and $f(y_j))>0, \\forall j$. That is, seek $P, q, r$ such that $f(x)=x^\\top Px+q^\\top x+r$, with the set of $x$ such that $f(x)=0$ providing the surface of the ellipsoid. The specifics of how this is done are laid out in section $8.6.2$ of the Boyd and Vandenberghe convex optimization book. In this class, we will skip ahead to the final formulation. \n",
    "\n",
    "It turns out that solving this problem is equivalent to solving the following semidefinite feasibility problem:\n",
    "\n",
    "\\begin{align*}\n",
    "\\min_{P, q, r} \\quad & 0\\\\\n",
    "\\text{s.t.} \\quad & x_i^\\top P x_i+q^\\top x_i+r \\geq 1, \\forall i,\\\\\n",
    "& y_j^\\top P y_j+q^\\top y_j+r \\leq -1, \\forall j,\\\\\n",
    "& P \\preceq -\\mathbb{I},\n",
    "\\end{align*}\n",
    "where the last constraint can be interpreted as \"P is a symmetric matrix with all eigenvalues at most $-1$\".\n",
    "            "
   ]
  },
  {
   "cell_type": "markdown",
   "metadata": {},
   "source": [
    "We will study this problem in a 2d setting, so that we can easily plot it."
   ]
  },
  {
   "cell_type": "code",
   "execution_count": 172,
   "metadata": {},
   "outputs": [
    {
     "data": {
      "text/plain": [
       "gen_data2 (generic function with 1 method)"
      ]
     },
     "execution_count": 172,
     "metadata": {},
     "output_type": "execute_result"
    }
   ],
   "source": [
    "# Function to generate some random test data\n",
    "function gen_data2(N, M)\n",
    "    n=2 #dimensionality of the data\n",
    "    \n",
    "    x=randn(2, N)\n",
    "    y=randn(2,M)\n",
    "\n",
    "    x = x*LinearAlgebra.diagm(vec(0.5*rand(1,N)./sqrt(sum(x.^2))));\n",
    "    y = y*LinearAlgebra.diagm(vec((2+rand(1,N))./sqrt(sum(y.^2))));\n",
    "    T = [1 -1; 2 1];  \n",
    "\n",
    "    x = T*x;  y = T*y;\n",
    "    \n",
    "    return x,y\n",
    "end"
   ]
  },
  {
   "cell_type": "code",
   "execution_count": 242,
   "metadata": {},
   "outputs": [
    {
     "name": "stderr",
     "output_type": "stream",
     "text": [
      "WARNING: Base.srand is deprecated: it has been moved to the standard library package `Random`.\n",
      "Add `using Random` to your imports.\n",
      "  likely near /Users/Ryancw2/.julia/packages/IJulia/DL02A/src/kernel.jl:41\n",
      "┌ Warning: `srand` is deprecated, use `Random.seed!` instead.\n",
      "│   caller = top-level scope at In[242]:1\n",
      "└ @ Core In[242]:1\n"
     ]
    },
    {
     "data": {
      "text/plain": [
       "([0.0884207 0.0113754 … 0.0109852 -0.0140279; 0.0416316 -0.0526907 … -0.144886 0.0184765], [-0.309182 -0.334087 … 0.342583 -0.162972; -0.376013 -0.507898 … -1.75049 0.964567])"
      ]
     },
     "execution_count": 242,
     "metadata": {},
     "output_type": "execute_result"
    }
   ],
   "source": [
    "srand(1234) #Needed some tuning to ensure that the problem is feasible\n",
    "dims=40\n",
    "x,y=gen_data2(dims,dims)"
   ]
  },
  {
   "cell_type": "markdown",
   "metadata": {},
   "source": [
    "Let's build a JuMP model to solve this problem"
   ]
  },
  {
   "cell_type": "code",
   "execution_count": 243,
   "metadata": {},
   "outputs": [
    {
     "data": {
      "text/plain": [
       "ellipsoid (generic function with 1 method)"
      ]
     },
     "execution_count": 243,
     "metadata": {},
     "output_type": "execute_result"
    }
   ],
   "source": [
    "using JuMP\n",
    "function ellipsoid(x,y)\n",
    "    p = size(x,1) # problem dimension\n",
    "    n = size(x,2) # number of points\n",
    "    m = size(y,2)\n",
    "    ellipsoidModel=Model(solver=MosekSolver(MSK_DPAR_INTPNT_CO_TOL_PFEAS=1e-4)) #Change to the solver you are using\n",
    "    @variable(ellipsoidModel, P[1:p, 1:p])\n",
    "    @variable(ellipsoidModel, q[1:p])\n",
    "    @variable(ellipsoidModel, r)\n",
    "    @constraint(ellipsoidModel, P.==P')\n",
    "    \n",
    "    @SDconstraint(ellipsoidModel, P <=-eye(p))\n",
    "    @constraint(ellipsoidModel, xi[i=1:n], x[:,i]'*P*x[:,i]+q'*x[:,i]+r>=1.0)\n",
    "    @constraint(ellipsoidModel, yi[i=1:m], y[:,i]'*P*y[:,i]+q'*y[:,i]+r<=-1.0)\n",
    "    \n",
    "    status=solve(ellipsoidModel)\n",
    "    return getvalue(P), getvalue(q), getvalue(r)\n",
    "end"
   ]
  },
  {
   "cell_type": "code",
   "execution_count": 244,
   "metadata": {},
   "outputs": [
    {
     "name": "stdout",
     "output_type": "stream",
     "text": [
      "Problem\n",
      "  Name                   :                 \n",
      "  Objective sense        : min             \n",
      "  Type                   : CONIC (conic optimization problem)\n",
      "  Constraints            : 88              \n",
      "  Cones                  : 0               \n",
      "  Scalar variables       : 7               \n",
      "  Matrix variables       : 1               \n",
      "  Integer variables      : 0               \n",
      "\n",
      "Optimizer started.\n",
      "Presolve started.\n",
      "Linear dependency checker started.\n",
      "Linear dependency checker terminated.\n",
      "Eliminator started.\n",
      "Freed constraints in eliminator : 1\n",
      "Eliminator terminated.\n",
      "Eliminator - tries                  : 1                 time                   : 0.00            \n",
      "Lin. dep.  - tries                  : 1                 time                   : 0.00            \n",
      "Lin. dep.  - number                 : 0               \n",
      "Presolve terminated. Time: 0.00    \n",
      "Problem\n",
      "  Name                   :                 \n",
      "  Objective sense        : min             \n",
      "  Type                   : CONIC (conic optimization problem)\n",
      "  Constraints            : 88              \n",
      "  Cones                  : 0               \n",
      "  Scalar variables       : 7               \n",
      "  Matrix variables       : 1               \n",
      "  Integer variables      : 0               \n",
      "\n",
      "Optimizer  - threads                : 12              \n",
      "Optimizer  - solved problem         : the primal      \n",
      "Optimizer  - Constraints            : 83\n",
      "Optimizer  - Cones                  : 1\n",
      "Optimizer  - Scalar variables       : 87                conic                  : 7               \n",
      "Optimizer  - Semi-definite variables: 1                 scalarized             : 3               \n",
      "Factor     - setup time             : 0.00              dense det. time        : 0.00            \n",
      "Factor     - ML order time          : 0.00              GP order time          : 0.00            \n",
      "Factor     - nonzeros before factor : 3486              after factor           : 3486            \n",
      "Factor     - dense dim.             : 0                 flops                  : 2.41e+05        \n",
      "ITE PFEAS    DFEAS    GFEAS    PRSTATUS   POBJ              DOBJ              MU       TIME  \n",
      "0   2.0e+00  1.0e+00  1.0e+00  0.00e+00   0.000000000e+00   0.000000000e+00   1.0e+00  0.00  \n",
      "1   8.5e-01  4.2e-01  3.9e-02  -2.85e+00  0.000000000e+00   1.123455755e+02   4.2e-01  0.00  \n",
      "2   4.9e-01  2.5e-01  2.8e-02  -6.03e+00  0.000000000e+00   7.425149430e+01   2.5e-01  0.00  \n",
      "3   1.1e-01  5.4e-02  2.8e-03  -1.36e+00  0.000000000e+00   3.746885497e+02   5.4e-02  0.00  \n",
      "4   1.9e-02  9.7e-03  4.7e-04  -2.32e-01  0.000000000e+00   4.170393925e+02   9.7e-03  0.00  \n",
      "5   2.4e-03  1.2e-03  9.5e-05  1.91e-01   0.000000000e+00   1.555555204e+02   1.2e-03  0.00  \n",
      "6   9.7e-06  4.8e-06  4.3e-06  8.17e-01   0.000000000e+00   1.271374889e+00   4.8e-06  0.00  \n",
      "7   1.5e-11  1.3e-15  1.3e-15  9.99e-01   0.000000000e+00   3.263067181e-10   1.3e-15  0.00  \n",
      "Optimizer terminated. Time: 0.00    \n",
      "\n",
      "\n",
      "Interior-point solution summary\n",
      "  Problem status  : PRIMAL_AND_DUAL_FEASIBLE\n",
      "  Solution status : OPTIMAL\n",
      "  Primal.  obj: 0.0000000000e+00    nrm: 2e+03    Viol.  con: 7e-09    var: 0e+00    barvar: 0e+00  \n",
      "  Dual.    obj: 3.2630671807e-10    nrm: 8e-11    Viol.  con: 2e-13    var: 1e-13    barvar: 2e-13  \n"
     ]
    },
    {
     "data": {
      "text/plain": [
       "([-1236.02 473.847; 473.847 -515.229], [-78.5504, 22.2506], 28.869450159591214)"
      ]
     },
     "execution_count": 244,
     "metadata": {},
     "output_type": "execute_result"
    }
   ],
   "source": [
    "P, q, r=ellipsoid(x,y)"
   ]
  },
  {
   "cell_type": "markdown",
   "metadata": {},
   "source": [
    "# Let's plot the results"
   ]
  },
  {
   "cell_type": "code",
   "execution_count": 245,
   "metadata": {},
   "outputs": [
    {
     "data": {
      "image/png": "[encoded data removed]",
      "text/plain": [
       "Figure(PyObject <Figure size 640x480 with 1 Axes>)"
      ]
     },
     "metadata": {},
     "output_type": "display_data"
    },
    {
     "name": "stderr",
     "output_type": "stream",
     "text": [
      "┌ Warning: `sqrtm` is deprecated, use `sqrt` instead.\n",
      "│   caller = top-level scope at In[245]:6\n",
      "└ @ Core In[245]:6\n",
      "WARNING: Base.repmat is deprecated, use repeat instead.\n",
      "  likely near /Users/Ryancw2/.julia/packages/IJulia/DL02A/src/kernel.jl:41\n"
     ]
    }
   ],
   "source": [
    "r = -r; P = -P; q = -q;\n",
    "c = 0.25*q'*inv(P)*q - r;\n",
    "xc = -0.5*inv(P)*q;\n",
    "nopts = 1000;\n",
    "angles = range(0, stop=2*pi, length=nopts);\n",
    "ell = (sqrtm(P^(-1)*c))*hcat(cos.(angles), sin.(angles))'+ repmat(xc,1,nopts);\n",
    "plot(x[1,1:dims], x[2,1:dims], \"ro\", y[1,1:dims], y[2,1:dims], \"bo\", ell[1,1:nopts], ell[2, 1:nopts], \"-\");"
   ]
  },
  {
   "cell_type": "markdown",
   "metadata": {},
   "source": [
    "# Making the method scale"
   ]
  },
  {
   "cell_type": "markdown",
   "metadata": {},
   "source": [
    "The above problem is an SDP, which is notoriously difficult to scale. Fortunately, however, because we are operating in a two-dimensional space, the SDP constraint controls the eigenvalues of a 2x2 matrix, which can also be modelled by a (much more tractable!) second order cone constraint. We can implement this idea as follows (c.f. Kim and Kojima, 2003):\n",
    "\n",
    "If we have the following SDO constraint:\n",
    "\\begin{align*}\n",
    "\\begin{bmatrix}\n",
    "a_{1,1} & a_{1,2}\\\\\n",
    "a_{2,1} & a_{2,2}\n",
    "\\end{bmatrix} \\succeq 0_{2 \\times 2}\n",
    "\\end{align*}\n",
    "Then we can equivalently model this via the following SOCP constraint:\n",
    "\\begin{align*}\n",
    "\\vert \\vert \\begin{bmatrix}\n",
    "a_{2,1} + a_{1,2}\\\\\n",
    "a_{1,1} - a_{2,2} \\\\\n",
    "\\end{bmatrix}\\vert \\vert_2 \\leq a_{1,1}+a_{2,2}\n",
    "\\end{align*}\n",
    "Note that this idea doesn't work if $P \\in \\mathbb{R}^{3 \\times 3}$ (why?)\n",
    "\n",
    "This idea allows us to rewrite our ellipsoid method as follows (note that we are applying the constraint to $-\\mathbb{I}-P$, not $P$):"
   ]
  },
  {
   "cell_type": "code",
   "execution_count": 246,
   "metadata": {},
   "outputs": [
    {
     "data": {
      "text/plain": [
       "ellipsoid_socp (generic function with 1 method)"
      ]
     },
     "execution_count": 246,
     "metadata": {},
     "output_type": "execute_result"
    }
   ],
   "source": [
    "using JuMP\n",
    "function ellipsoid_socp(x,y)\n",
    "    p=2\n",
    "    n = size(x,2) # number of points\n",
    "    m = size(y,2)\n",
    "    ellipsoidModel=Model(solver=MosekSolver(MSK_DPAR_INTPNT_CO_TOL_PFEAS=1e-4)) #Change to the solver you are using\n",
    "    @variable(ellipsoidModel, P[1:p, 1:p])\n",
    "    @variable(ellipsoidModel, q[1:p])\n",
    "    @variable(ellipsoidModel, r)\n",
    "    @constraint(ellipsoidModel, P.==P')\n",
    "    @constraint(ellipsoidModel, norm([-2.0*P[1,2]; -P[1,1]+P[2,2]])<=-2.0-P[1,1]-P[2,2])\n",
    "    \n",
    "    @constraint(ellipsoidModel, xi[i=1:n], x[:,i]'*P*x[:,i]+q'*x[:,i]+r>=1.0)\n",
    "    @constraint(ellipsoidModel, yi[i=1:m], y[:,i]'*P*y[:,i]+q'*y[:,i]+r<=-1.0)\n",
    "    \n",
    "    status=solve(ellipsoidModel)\n",
    "    return getvalue(P), getvalue(q), getvalue(r)\n",
    "end"
   ]
  },
  {
   "cell_type": "code",
   "execution_count": 247,
   "metadata": {},
   "outputs": [
    {
     "name": "stdout",
     "output_type": "stream",
     "text": [
      "Problem\n",
      "  Name                   :                 \n",
      "  Objective sense        : min             \n",
      "  Type                   : CONIC (conic optimization problem)\n",
      "  Constraints            : 87              \n",
      "  Cones                  : 1               \n",
      "  Scalar variables       : 10              \n",
      "  Matrix variables       : 0               \n",
      "  Integer variables      : 0               \n",
      "\n",
      "Optimizer started.\n",
      "Presolve started.\n",
      "Linear dependency checker started.\n",
      "Linear dependency checker terminated.\n",
      "Eliminator started.\n",
      "Freed constraints in eliminator : 1\n",
      "Eliminator terminated.\n",
      "Eliminator - tries                  : 1                 time                   : 0.00            \n",
      "Lin. dep.  - tries                  : 1                 time                   : 0.00            \n",
      "Lin. dep.  - number                 : 0               \n",
      "Presolve terminated. Time: 0.00    \n",
      "Problem\n",
      "  Name                   :                 \n",
      "  Objective sense        : min             \n",
      "  Type                   : CONIC (conic optimization problem)\n",
      "  Constraints            : 87              \n",
      "  Cones                  : 1               \n",
      "  Scalar variables       : 10              \n",
      "  Matrix variables       : 0               \n",
      "  Integer variables      : 0               \n",
      "\n",
      "Optimizer  - threads                : 12              \n",
      "Optimizer  - solved problem         : the dual        \n",
      "Optimizer  - Constraints            : 6\n",
      "Optimizer  - Cones                  : 1\n",
      "Optimizer  - Scalar variables       : 83                conic                  : 3               \n",
      "Optimizer  - Semi-definite variables: 0                 scalarized             : 0               \n",
      "Factor     - setup time             : 0.00              dense det. time        : 0.00            \n",
      "Factor     - ML order time          : 0.00              GP order time          : 0.00            \n",
      "Factor     - nonzeros before factor : 21                after factor           : 21              \n",
      "Factor     - dense dim.             : 0                 flops                  : 3.49e+03        \n",
      "ITE PFEAS    DFEAS    GFEAS    PRSTATUS   POBJ              DOBJ              MU       TIME  \n",
      "0   2.0e+00  1.0e+00  0.0e+00  0.00e+00   0.000000000e+00   4.000000000e+00   1.0e+00  0.00  \n",
      "1   1.2e+00  5.9e-01  2.8e-16  -4.66e+00  0.000000000e+00   3.278055751e+02   5.9e-01  0.00  \n",
      "2   6.9e-01  3.4e-01  0.0e+00  -7.79e+00  0.000000000e+00   1.218970601e+02   3.4e-01  0.00  \n",
      "3   2.8e-01  1.4e-01  2.2e-16  -1.55e+00  0.000000000e+00   2.848456361e+02   1.4e-01  0.00  \n",
      "4   1.7e-01  8.4e-02  2.2e-16  -9.75e-01  0.000000000e+00   4.287699051e+02   8.4e-02  0.00  \n",
      "5   5.2e-02  2.6e-02  2.2e-16  -5.52e-01  0.000000000e+00   5.143953406e+02   2.6e-02  0.00  \n",
      "6   1.6e-02  8.2e-03  5.6e-17  1.74e-01   0.000000000e+00   4.280837388e+02   8.2e-03  0.00  \n",
      "7   2.3e-03  1.1e-03  6.9e-17  2.16e-01   0.000000000e+00   1.574859793e+02   1.1e-03  0.00  \n",
      "8   1.7e-05  8.7e-06  8.7e-18  8.62e-01   0.000000000e+00   1.527310168e+00   8.7e-06  0.00  \n",
      "9   1.7e-08  8.5e-09  5.3e-18  9.99e-01   0.000000000e+00   1.493379724e-03   8.5e-09  0.00  \n",
      "10  1.5e-14  4.9e-15  5.5e-22  1.00e+00   0.000000000e+00   1.738439192e-09   4.9e-15  0.00  \n",
      "Optimizer terminated. Time: 0.00    \n",
      "\n",
      "\n",
      "Interior-point solution summary\n",
      "  Problem status  : PRIMAL_AND_DUAL_FEASIBLE\n",
      "  Solution status : OPTIMAL\n",
      "  Primal.  obj: 0.0000000000e+00    nrm: 1e+03    Viol.  con: 3e-13    var: 0e+00    cones: 0e+00  \n",
      "  Dual.    obj: 1.7384391921e-09    nrm: 5e-10    Viol.  con: 5e-13    var: 5e-13    cones: 0e+00  \n"
     ]
    },
    {
     "data": {
      "text/plain": [
       "([-847.407 329.919; 329.919 -316.414], [-43.194, 7.10281], 18.26239643821529)"
      ]
     },
     "execution_count": 247,
     "metadata": {},
     "output_type": "execute_result"
    }
   ],
   "source": [
    "P, q, r=ellipsoid_socp(x,y)"
   ]
  },
  {
   "cell_type": "markdown",
   "metadata": {},
   "source": [
    "# Let's plot the results for our original problem"
   ]
  },
  {
   "cell_type": "code",
   "execution_count": 249,
   "metadata": {},
   "outputs": [
    {
     "data": {
      "image/png": "[encoded data removed]",
      "text/plain": [
       "Figure(PyObject <Figure size 640x480 with 1 Axes>)"
      ]
     },
     "metadata": {},
     "output_type": "display_data"
    },
    {
     "name": "stderr",
     "output_type": "stream",
     "text": [
      "┌ Warning: `sqrtm` is deprecated, use `sqrt` instead.\n",
      "│   caller = top-level scope at In[249]:6\n",
      "└ @ Core In[249]:6\n",
      "WARNING: Base.repmat is deprecated, use repeat instead.\n",
      "  likely near /Users/Ryancw2/.julia/packages/IJulia/DL02A/src/kernel.jl:41\n"
     ]
    }
   ],
   "source": [
    "r = -r; P = -P; q = -q;\n",
    "c = 0.25*q'*inv(P)*q - r;\n",
    "xc = -0.5*inv(P)*q;\n",
    "nopts = 1000;\n",
    "angles = range(0, stop=2*pi, length=nopts);\n",
    "ell = (sqrtm(P^(-1)*c))*hcat(cos.(angles), sin.(angles))'+ repmat(xc,1,nopts);\n",
    "plot(x[1,1:dims], x[2,1:dims], \"ro\", y[1,1:dims], y[2,1:dims], \"bo\", ell[1,1:nopts], ell[2, 1:nopts], \"-\");"
   ]
  },
  {
   "cell_type": "markdown",
   "metadata": {},
   "source": [
    "# Let's try a larger-scale example"
   ]
  },
  {
   "cell_type": "code",
   "execution_count": 264,
   "metadata": {},
   "outputs": [
    {
     "data": {
      "text/plain": [
       "gen_data3 (generic function with 1 method)"
      ]
     },
     "execution_count": 264,
     "metadata": {},
     "output_type": "execute_result"
    }
   ],
   "source": [
    "# Function to generate some random test data\n",
    "function gen_data3(N, M)\n",
    "    n=2 #dimensionality of the data\n",
    "    \n",
    "    x=randn(2, N)\n",
    "    y=randn(2,M)+10*ones(2,M)\n",
    "\n",
    "    x = x*LinearAlgebra.diagm(vec(0.5*rand(1,N)./sqrt(sum(x.^2))));\n",
    "    y = y*LinearAlgebra.diagm(vec((2+rand(1,N))./sqrt(sum(y.^2))));\n",
    "    T = [10 -10; 20 10];  \n",
    "\n",
    "    x = T*x;  y = T*y;\n",
    "    \n",
    "    return x,y\n",
    "end"
   ]
  },
  {
   "cell_type": "code",
   "execution_count": 265,
   "metadata": {},
   "outputs": [
    {
     "name": "stderr",
     "output_type": "stream",
     "text": [
      "WARNING: Base.srand is deprecated: it has been moved to the standard library package `Random`.\n",
      "Add `using Random` to your imports.\n",
      "  likely near /Users/Ryancw2/.julia/packages/IJulia/DL02A/src/kernel.jl:41\n",
      "┌ Warning: `srand` is deprecated, use `Random.seed!` instead.\n",
      "│   caller = top-level scope at In[265]:1\n",
      "└ @ Core In[265]:1\n",
      "┌ Warning: `diagm(v::AbstractVector)` is deprecated, use `diagm(0 => v)` or `Matrix(Diagonal(v))` instead.\n",
      "│   caller = gen_data3(::Int64, ::Int64) at In[264]:8\n",
      "└ @ Main ./In[264]:8\n"
     ]
    },
    {
     "data": {
      "image/png": "[encoded data removed]",
      "text/plain": [
       "Figure(PyObject <Figure size 640x480 with 1 Axes>)"
      ]
     },
     "metadata": {},
     "output_type": "display_data"
    },
    {
     "name": "stderr",
     "output_type": "stream",
     "text": [
      "┌ Warning: `a::Number + b::AbstractArray` is deprecated, use `a .+ b` instead.\n",
      "│   caller = gen_data3(::Int64, ::Int64) at In[264]:9\n",
      "└ @ Main ./In[264]:9\n",
      "┌ Warning: `diagm(v::AbstractVector)` is deprecated, use `diagm(0 => v)` or `Matrix(Diagonal(v))` instead.\n",
      "│   caller = gen_data3(::Int64, ::Int64) at In[264]:9\n",
      "└ @ Main ./In[264]:9\n"
     ]
    }
   ],
   "source": [
    "srand(1234) \n",
    "dims=50000\n",
    "x,y=gen_data3(dims,dims)"
   ]
  },
  {
   "cell_type": "code",
   "execution_count": 272,
   "metadata": {},
   "outputs": [
    {
     "name": "stdout",
     "output_type": "stream",
     "text": [
      "MOSEK warning 705: #1 (nearly) zero elements are specified in sparse row ''(4176) of matrix 'A'.\n",
      "MOSEK warning 705: #1 (nearly) zero elements are specified in sparse row ''(6055) of matrix 'A'.\n",
      "MOSEK warning 705: #1 (nearly) zero elements are specified in sparse row ''(7069) of matrix 'A'.\n",
      "MOSEK warning 705: #1 (nearly) zero elements are specified in sparse row ''(11346) of matrix 'A'.\n",
      "MOSEK warning 705: #1 (nearly) zero elements are specified in sparse row ''(12385) of matrix 'A'.\n",
      "MOSEK warning 705: #1 (nearly) zero elements are specified in sparse row ''(18096) of matrix 'A'.\n",
      "MOSEK warning 705: #1 (nearly) zero elements are specified in sparse row ''(18453) of matrix 'A'.\n",
      "MOSEK warning 705: #3 (nearly) zero elements are specified in sparse row ''(22560) of matrix 'A'.\n",
      "MOSEK warning 705: #3 (nearly) zero elements are specified in sparse row ''(23090) of matrix 'A'.\n",
      "MOSEK warning 705: #1 (nearly) zero elements are specified in sparse row ''(23945) of matrix 'A'.\n",
      "Warning number 705 is disabled.\n",
      "Problem\n",
      "  Name                   :                 \n",
      "  Objective sense        : min             \n",
      "  Type                   : CONIC (conic optimization problem)\n",
      "  Constraints            : 100008          \n",
      "  Cones                  : 0               \n",
      "  Scalar variables       : 7               \n",
      "  Matrix variables       : 1               \n",
      "  Integer variables      : 0               \n",
      "\n",
      "Optimizer started.\n",
      "Presolve started.\n",
      "Linear dependency checker started.\n",
      "Linear dependency checker terminated.\n",
      "Eliminator started.\n",
      "Freed constraints in eliminator : 0\n",
      "Eliminator terminated.\n",
      "Eliminator - tries                  : 1                 time                   : 0.00            \n",
      "Lin. dep.  - tries                  : 1                 time                   : 0.01            \n",
      "Lin. dep.  - number                 : 0               \n",
      "Presolve terminated. Time: 0.14    \n",
      "Problem\n",
      "  Name                   :                 \n",
      "  Objective sense        : min             \n",
      "  Type                   : CONIC (conic optimization problem)\n",
      "  Constraints            : 100008          \n",
      "  Cones                  : 0               \n",
      "  Scalar variables       : 7               \n",
      "  Matrix variables       : 1               \n",
      "  Integer variables      : 0               \n",
      "\n",
      "Optimizer  - threads                : 12              \n",
      "Optimizer  - solved problem         : the primal      \n",
      "Optimizer  - Constraints            : 100004\n",
      "Optimizer  - Cones                  : 1\n",
      "Optimizer  - Scalar variables       : 100008            conic                  : 8               \n",
      "Optimizer  - Semi-definite variables: 1                 scalarized             : 3               \n",
      "Factor     - setup time             : 0.15              dense det. time        : 0.00            \n",
      "Factor     - ML order time          : 0.01              GP order time          : 0.00            \n",
      "Factor     - nonzeros before factor : 8.00e+05          after factor           : 8.00e+05        \n",
      "Factor     - dense dim.             : 9                 flops                  : 6.60e+06        \n",
      "ITE PFEAS    DFEAS    GFEAS    PRSTATUS   POBJ              DOBJ              MU       TIME  \n",
      "0   2.0e+00  1.0e+00  1.0e+00  0.00e+00   0.000000000e+00   0.000000000e+00   1.0e+00  0.33  \n",
      "1   1.0e+00  5.2e-01  7.3e-02  -3.00e+00  0.000000000e+00   4.071355845e+01   5.2e-01  0.40  \n",
      "2   9.5e-01  4.7e-01  4.3e-03  -4.00e+01  0.000000000e+00   1.218520730e+04   4.7e-01  0.44  \n",
      "3   9.4e-01  4.7e-01  5.7e-03  -2.48e+01  0.000000000e+00   6.870781924e+03   4.7e-01  0.49  \n",
      "4   9.3e-01  4.7e-01  6.2e-03  -1.57e+01  0.000000000e+00   5.650293974e+03   4.7e-01  0.53  \n",
      "5   8.7e-01  4.4e-01  7.5e-03  -1.33e+01  0.000000000e+00   3.397618144e+03   4.4e-01  0.57  \n",
      "6   5.3e-01  2.7e-01  4.6e-03  -4.27e+00  0.000000000e+00   3.393916991e+03   2.7e-01  0.62  \n",
      "7   2.2e-01  1.1e-01  2.2e-03  -4.83e-01  0.000000000e+00   2.413031102e+03   1.1e-01  0.67  \n",
      "8   1.4e-01  7.2e-02  1.4e-03  3.18e-01   0.000000000e+00   2.681274761e+03   7.2e-02  0.73  \n",
      "9   7.5e-02  3.8e-02  8.3e-04  2.21e-01   0.000000000e+00   2.072510140e+03   3.8e-02  0.78  \n",
      "10  5.9e-02  2.9e-02  5.6e-04  2.04e-01   0.000000000e+00   2.820182112e+03   2.9e-02  0.84  \n",
      "11  8.4e-03  4.2e-03  1.4e-04  3.96e-01   0.000000000e+00   8.473559445e+02   4.2e-03  0.90  \n",
      "12  4.4e-05  2.2e-05  1.1e-05  9.16e-01   0.000000000e+00   4.106391805e+00   2.2e-05  0.96  \n",
      "13  1.0e-11  5.2e-12  4.4e-09  1.00e+00   0.000000000e+00   1.384171548e-06   5.2e-12  1.01  \n",
      "14  6.0e-13  1.5e-20  8.5e-22  1.00e+00   0.000000000e+00   3.039089755e-16   8.4e-22  1.05  \n",
      "Optimizer terminated. Time: 1.07    \n",
      "\n",
      "\n",
      "Interior-point solution summary\n",
      "  Problem status  : PRIMAL_AND_DUAL_FEASIBLE\n",
      "  Solution status : OPTIMAL\n",
      "  Primal.  obj: 0.0000000000e+00    nrm: 2e+02    Viol.  con: 2e-11    var: 0e+00    barvar: 0e+00  \n",
      "  Dual.    obj: 3.0390897549e-16    nrm: 9e-17    Viol.  con: 1e-20    var: 4e-19    barvar: 2e-20  \n"
     ]
    },
    {
     "data": {
      "text/plain": [
       "([-11.2101 13.5355; 13.5355 -36.528], [143.93, -211.834], 26.31057728671778)"
      ]
     },
     "execution_count": 272,
     "metadata": {},
     "output_type": "execute_result"
    }
   ],
   "source": [
    "P, q, r=ellipsoid(x,y)"
   ]
  },
  {
   "cell_type": "code",
   "execution_count": 270,
   "metadata": {},
   "outputs": [
    {
     "name": "stdout",
     "output_type": "stream",
     "text": [
      "MOSEK warning 705: #1 (nearly) zero elements are specified in sparse row ''(4176) of matrix 'A'.\n",
      "MOSEK warning 705: #1 (nearly) zero elements are specified in sparse row ''(6055) of matrix 'A'.\n",
      "MOSEK warning 705: #1 (nearly) zero elements are specified in sparse row ''(7069) of matrix 'A'.\n",
      "MOSEK warning 705: #1 (nearly) zero elements are specified in sparse row ''(11346) of matrix 'A'.\n",
      "MOSEK warning 705: #1 (nearly) zero elements are specified in sparse row ''(12385) of matrix 'A'.\n",
      "MOSEK warning 705: #1 (nearly) zero elements are specified in sparse row ''(18096) of matrix 'A'.\n",
      "MOSEK warning 705: #1 (nearly) zero elements are specified in sparse row ''(18453) of matrix 'A'.\n",
      "MOSEK warning 705: #3 (nearly) zero elements are specified in sparse row ''(22560) of matrix 'A'.\n",
      "MOSEK warning 705: #3 (nearly) zero elements are specified in sparse row ''(23090) of matrix 'A'.\n",
      "MOSEK warning 705: #1 (nearly) zero elements are specified in sparse row ''(23945) of matrix 'A'.\n",
      "Warning number 705 is disabled.\n",
      "Problem\n",
      "  Name                   :                 \n",
      "  Objective sense        : min             \n",
      "  Type                   : CONIC (conic optimization problem)\n",
      "  Constraints            : 100007          \n",
      "  Cones                  : 1               \n",
      "  Scalar variables       : 10              \n",
      "  Matrix variables       : 0               \n",
      "  Integer variables      : 0               \n",
      "\n",
      "Optimizer started.\n",
      "Presolve started.\n",
      "Linear dependency checker started.\n",
      "Linear dependency checker terminated.\n",
      "Eliminator started.\n",
      "Freed constraints in eliminator : 0\n",
      "Eliminator terminated.\n",
      "Eliminator - tries                  : 1                 time                   : 0.00            \n",
      "Lin. dep.  - tries                  : 1                 time                   : 0.00            \n",
      "Lin. dep.  - number                 : 0               \n",
      "Presolve terminated. Time: 0.12    \n",
      "Problem\n",
      "  Name                   :                 \n",
      "  Objective sense        : min             \n",
      "  Type                   : CONIC (conic optimization problem)\n",
      "  Constraints            : 100007          \n",
      "  Cones                  : 1               \n",
      "  Scalar variables       : 10              \n",
      "  Matrix variables       : 0               \n",
      "  Integer variables      : 0               \n",
      "\n",
      "Optimizer  - threads                : 12              \n",
      "Optimizer  - solved problem         : the dual        \n",
      "Optimizer  - Constraints            : 7\n",
      "Optimizer  - Cones                  : 2\n",
      "Optimizer  - Scalar variables       : 100005            conic                  : 5               \n",
      "Optimizer  - Semi-definite variables: 0                 scalarized             : 0               \n",
      "Factor     - setup time             : 0.06              dense det. time        : 0.00            \n",
      "Factor     - ML order time          : 0.00              GP order time          : 0.00            \n",
      "Factor     - nonzeros before factor : 28                after factor           : 28              \n",
      "Factor     - dense dim.             : 0                 flops                  : 5.60e+06        \n",
      "ITE PFEAS    DFEAS    GFEAS    PRSTATUS   POBJ              DOBJ              MU       TIME  \n",
      "0   2.0e+00  1.0e+00  0.0e+00  0.00e+00   0.000000000e+00   4.000000000e+00   1.0e+00  0.24  \n",
      "1   1.4e+00  6.8e-01  7.4e-14  -4.98e+00  0.000000000e+00   3.126385702e+02   6.8e-01  0.27  \n",
      "2   1.3e+00  6.7e-01  2.7e-14  -7.26e+01  0.000000000e+00   2.366383908e+03   6.7e-01  0.29  \n",
      "3   9.7e-01  4.8e-01  4.3e-14  -1.64e+01  0.000000000e+00   3.896883265e+03   4.8e-01  0.31  \n",
      "4   8.5e-01  4.2e-01  4.3e-14  -1.98e-03  0.000000000e+00   3.656230533e+03   4.2e-01  0.33  \n",
      "5   8.3e-01  4.1e-01  0.0e+00  -3.18e-01  0.000000000e+00   4.282135724e+03   4.1e-01  0.35  \n",
      "6   5.9e-01  2.9e-01  1.2e-13  -2.14e-01  0.000000000e+00   4.200104781e+03   2.9e-01  0.37  \n",
      "7   5.8e-01  2.9e-01  7.5e-14  -2.78e-01  0.000000000e+00   4.613682680e+03   2.9e-01  0.40  \n",
      "8   3.2e-01  1.6e-01  7.1e-15  -3.42e-01  0.000000000e+00   5.994103105e+03   1.6e-01  0.43  \n",
      "9   1.0e-01  5.2e-02  4.8e-14  2.28e-02   0.000000000e+00   2.556453208e+03   5.2e-02  0.44  \n",
      "10  4.7e-02  2.4e-02  2.6e-14  5.59e-01   0.000000000e+00   1.610038198e+03   2.4e-02  0.46  \n",
      "11  8.1e-04  4.1e-04  2.5e-14  6.92e-01   0.000000000e+00   1.028501041e+02   4.1e-04  0.48  \n",
      "12  8.3e-07  4.1e-07  2.6e-14  9.91e-01   0.000000000e+00   1.071849025e-01   4.1e-07  0.50  \n",
      "13  1.2e-14  4.1e-16  1.8e-17  1.00e+00   0.000000000e+00   8.359489952e-12   2.4e-17  0.52  \n",
      "Optimizer terminated. Time: 0.54    \n",
      "\n",
      "\n",
      "Interior-point solution summary\n",
      "  Problem status  : PRIMAL_AND_DUAL_FEASIBLE\n",
      "  Solution status : OPTIMAL\n",
      "  Primal.  obj: 0.0000000000e+00    nrm: 8e+01    Viol.  con: 7e-15    var: 0e+00    cones: 0e+00  \n",
      "  Dual.    obj: 8.3594899524e-12    nrm: 4e-12    Viol.  con: 1e-16    var: 2e-14    cones: 3e-20  \n"
     ]
    },
    {
     "data": {
      "text/plain": [
       "([-13.2638 26.0904; 26.0904 -61.9419], [53.6149, -78.6685], 11.23285649387165)"
      ]
     },
     "execution_count": 270,
     "metadata": {},
     "output_type": "execute_result"
    }
   ],
   "source": [
    "P, q, r=ellipsoid_socp(x,y)"
   ]
  },
  {
   "cell_type": "code",
   "execution_count": 273,
   "metadata": {},
   "outputs": [
    {
     "data": {
      "image/png": "[encoded data removed]",
      "text/plain": [
       "Figure(PyObject <Figure size 640x480 with 1 Axes>)"
      ]
     },
     "metadata": {},
     "output_type": "display_data"
    },
    {
     "name": "stderr",
     "output_type": "stream",
     "text": [
      "┌ Warning: `sqrtm` is deprecated, use `sqrt` instead.\n",
      "│   caller = top-level scope at In[273]:7\n",
      "└ @ Core In[273]:7\n",
      "WARNING: Base.repmat is deprecated, use repeat instead.\n",
      "  likely near /Users/Ryancw2/.julia/packages/IJulia/DL02A/src/kernel.jl:41\n"
     ]
    }
   ],
   "source": [
    "# Let's plot the final result\n",
    "r = -r; P = -P; q = -q;\n",
    "c = 0.25*q'*inv(P)*q - r;\n",
    "xc = -0.5*inv(P)*q;\n",
    "nopts = 1000;\n",
    "angles = range(0, stop=2*pi, length=nopts);\n",
    "ell = (sqrtm(P^(-1)*c))*hcat(cos.(angles), sin.(angles))'+ repmat(xc,1,nopts);\n",
    "plot(x[1,1:dims], x[2,1:dims], \"ro\", y[1,1:dims], y[2,1:dims], \"bo\", ell[1,1:nopts], ell[2, 1:nopts], \"-\");"
   ]
  },
  {
   "cell_type": "markdown",
   "metadata": {},
   "source": [
    "Final comment: if we wanted a \"nicer\" ellipsoid, we could achieve this by minimizing the volume of the ellipsoid, which corresponds to a log-determinant objective (exercise)"
   ]
  },
  {
   "cell_type": "code",
   "execution_count": null,
   "metadata": {},
   "outputs": [],
   "source": []
  }
 ],
 "metadata": {
  "kernelspec": {
   "display_name": "Julia 0.7.0",
   "language": "julia",
   "name": "julia-0.7"
  },
  "language_info": {
   "file_extension": ".jl",
   "mimetype": "application/julia",
   "name": "julia",
   "version": "0.7.0"
  }
 },
 "nbformat": 4,
 "nbformat_minor": 2
}
