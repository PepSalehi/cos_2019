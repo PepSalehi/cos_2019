{
 "cells": [
  {
   "cell_type": "markdown",
   "metadata": {},
   "source": [
    "# Part 1: Integer Programming"
   ]
  },
  {
   "cell_type": "markdown",
   "metadata": {},
   "source": [
    "Operations research often involves models where you need to make discrete decisions. \n",
    "\n",
    "Suppose Iain wants to carry items to the pawn shop to get some extra cash. He has $N$ items, each with a weight $w_i$ and a price $p_i$. Iain hasn't been to the gym lately, so he can only carry $C$ kilos. How does he choose what to bring with him?\n",
    "\n",
    "We can model this as an integer optimization problem:\n",
    "\n",
    "\\begin{align*}\n",
    "\\max& \\sum_{i=1}^N p_i x_i \\\\\n",
    "\\text{s.t.}& \\sum_{i=1}^N w_i x_i \\leq C \\\\\n",
    "& x_i \\in \\{0,1\\} \\quad \\forall i = 1,\\ldots,N\n",
    "\\end{align*}\n"
   ]
  },
  {
   "cell_type": "markdown",
   "metadata": {},
   "source": [
    "## Example\n",
    "\n",
    "In particular, consider the following (small) knapsack problem:\n",
    "\n",
    "\\begin{align*}\n",
    "    \\max\\:& x + y \\\\\n",
    "    \\text{s.t.}\\:& x + 2y \\leq 1.5 \\\\\n",
    "    & x, y \\in \\{0,1\\}\n",
    "\\end{align*}\n",
    "\n",
    "How would you solve this? "
   ]
  },
  {
   "cell_type": "code",
   "execution_count": 1,
   "metadata": {},
   "outputs": [
    {
     "name": "stderr",
     "output_type": "stream",
     "text": [
      "┌ Warning: Deprecated syntax `implicit assignment to global variable `#1###368``.\n",
      "│ Use `global #1###368` instead.\n",
      "└ @ nothing none:0\n",
      "┌ Warning: Deprecated syntax `implicit assignment to global variable `#7###369``.\n",
      "│ Use `global #7###369` instead.\n",
      "└ @ nothing none:0\n"
     ]
    },
    {
     "name": "stdout",
     "output_type": "stream",
     "text": [
      "Academic license - for non-commercial use only\n",
      "Optimize a model with 1 rows, 2 columns and 2 nonzeros\n",
      "Variable types: 0 continuous, 2 integer (2 binary)\n",
      "Coefficient statistics:\n",
      "  Matrix range     [1e+00, 2e+00]\n",
      "  Objective range  [1e+00, 1e+00]\n",
      "  Bounds range     [1e+00, 1e+00]\n",
      "  RHS range        [2e+00, 2e+00]\n",
      "Found heuristic solution: objective 1.0000000\n",
      "Variable types: 0 continuous, 2 integer (2 binary)\n",
      "\n",
      "Root relaxation: cutoff, 0 iterations, 0.00 seconds\n",
      "\n",
      "Explored 0 nodes (0 simplex iterations) in 0.00 seconds\n",
      "Thread count was 12 (of 12 available processors)\n",
      "\n",
      "Solution count 1: 1 \n",
      "\n",
      "Optimal solution found (tolerance 1.00e-04)\n",
      "Best objective 1.000000000000e+00, best bound 1.000000000000e+00, gap 0.0000%\n",
      "X is: 1.0 Y is: -0.0\n"
     ]
    }
   ],
   "source": [
    "using JuMP, Gurobi\n",
    "knapsackModel=Model(solver=GurobiSolver(Presolve=0))\n",
    "@variable(knapsackModel, x, Bin)\n",
    "@variable(knapsackModel, y, Bin)\n",
    "@constraint(knapsackModel, x+2*y<=1.5)\n",
    "@objective(knapsackModel, Max, x+y)\n",
    "solve(knapsackModel)\n",
    "println(\"X is: \", getvalue(x), \" Y is: \", getvalue(y))"
   ]
  },
  {
   "cell_type": "markdown",
   "metadata": {},
   "source": [
    "## Branch and Bound Tree\n",
    "\n",
    "The simple way is just to consider each possible value for $x$ and $y$ and compare the cost.\n",
    "\n",
    "![alt text](img/tree_1.png)\n",
    "\n",
    "In the general case, this would lead to $2^N$ possible collections of items. After Iain has weighed all of them (and verified that he can lift them at once), he just chooses the best set."
   ]
  },
  {
   "cell_type": "markdown",
   "metadata": {},
   "source": [
    "\n",
    "Let's visualize this approach as a search tree:\n",
    "\n",
    "![alt text](img/tree_2.png)\n",
    "\n",
    "It's rooted at what we call the _relaxation_: none of variables have integrality enforced. As we go down leaves of the tree, we add pick a variable to _branch_ on, and create two descended nodes that fix that variable to one of its possible values. If we follow the tree all the way to the bottom, we reach our enumeration from before.\n",
    "\n",
    "As we go down the arcs of the tree we restrict our problem more and more, we must have that:\n",
    "\n",
    ">If node ``q`` is descended from node ``p``, we must have that the optimal cost of subproblem ``q`` is no more than that for node ``p``\n",
    "\n",
    "This leads us to a powerful tool in solving these enumeration problems: \n",
    "\n",
    ">If I can show you that the optimal cost for subproblem ``q`` is _less_ than the optimal cost for the original problem, the same is true for any descendent of ``q``. "
   ]
  },
  {
   "cell_type": "markdown",
   "metadata": {},
   "source": [
    "\n",
    "That is, we can _prune_ the tree and safely discard some nodes, kind of like this:\n",
    "\n",
    "![alt text](img/tree_3.png)"
   ]
  },
  {
   "cell_type": "markdown",
   "metadata": {},
   "source": [
    "## Worked Example\n",
    "\n",
    "\\begin{align*}\n",
    "    \\max\\quad& x + y \\\\\n",
    "    \\text{s.t.}\\quad& x + 2y \\leq 1.5 \\\\\n",
    "    & 0 \\leq x, y \\leq 1 \\\\\n",
    "    & x, y \\in \\{0,1\\}\n",
    "\\end{align*}\n",
    "\n",
    "What does the relaxation (no integrality restrictions) of this problem look like?\n",
    "\n",
    "* First, we solve the LP relaxation and get $(x^*,y^*) = (1,0.25)$. \n",
    "* This isn't integer feasible, so we branch on $y$. The subproblem with $y = 1$ is infeasible, and the subproblem with $y = 0$ is feasible with solution $(x^*,y^*) = (1,0)$. This is integer feasible, so we update our lower bound. We've also exhausted the tree, so we have our optimal solution!\n",
    "* The branch-and-bound scheme can end up solving many subproblems, so for it to work well, we need to _prune_ large portions of the tree. "
   ]
  },
  {
   "cell_type": "markdown",
   "metadata": {},
   "source": [
    "## Branch and bound\n",
    "We'll keep track of a global _lower bound_ $LB$ for our problem. Each node ``q`` will have an upper bound $UB_q$ that it inherents from its parent. If we get to the point where we have solved all subproblems (or, ideally, pruned off a great deal of them), we know that we're optimal. To do this we'll also keep track of a list $L$ of subproblems left to solve; initially, it's just the relaxation. The procedure is:\n",
    "\n",
    "While $L$ is not empty, pick a subproblem ``q`` out of our list $L$ and solve it. \n",
    "1. ``if`` ``q`` is infeasible, ``continue``\n",
    "2. ``if`` the solution is integer feasible, update the lower bound $LB$ if the cost is higher than what we had before\n",
    "3. ``if``  the relaxation value is less than our global $LB$ ``continue``\n",
    "4. ``else`` pick a non-integer variable $i$ and _branch_ by adding two subproblems to $L$: \n",
    "    * One with $x_i = 0$\n",
    "    * Another with $x_i = 1$\n",
    "\n",
    "Branch-and-bound is sometimes called an _implicit enumeration_ scheme because of step 3: we avoid solving any subproblems that we can prove won't produce the optimal solution.\n",
    "\n",
    "**The \"magic\" of modern MIP solvers largely comes down to pruning massive portions of the tree. Some of this is essentially beyond your control, but there are four things which you can do.**"
   ]
  },
  {
   "cell_type": "markdown",
   "metadata": {},
   "source": [
    "\n",
    "## Stuff you should care about\n",
    "**We care about four distinct attributes:**\n",
    "\n",
    "1) **Correctness** (Are \"feasible\" solutions feasible? Are \"optimal\" solutions optimal?)\n",
    "\n",
    "2) **Time taken** (fast is every user's favourite feature).\n",
    "\n",
    "3) **Bound quality** (how good is the lower bound?).\n",
    "\n",
    "4) **Solution quality** (how good is the best solution identified?)\n",
    "\n",
    "In the first part of this session, we will focus on attributes 3-4, through the lens of the travelling salesperson problem (TSP), while taking attribute 1 for granted (improving 3-4 improves 2). In part 3 of this session, we will circle back to this idea, and look at attribute 1 more closely. \n",
    "\n",
    "**In general, you should try to solve a problem in a quick-and-dirty way, and see which attribute needs working on.**\n",
    "\n",
    "**E.g, if you find the optimal solution straight away but need lots of time to prove optimality then focus on bound quality.**"
   ]
  },
  {
   "cell_type": "markdown",
   "metadata": {},
   "source": [
    "# Improving bound quality"
   ]
  },
  {
   "cell_type": "markdown",
   "metadata": {},
   "source": [
    "One way to improve the bound quality is by adding cuts to a relaxation, such as the LP relaxation.\n",
    "\n",
    "Cuts are inequalities that are _valid_ (don't cut off any feasible integer points) and _strengthen_ the formulation (chop off some of the region feasible for the relaxation)\n",
    "\n",
    "Three main types of cuts:\n",
    "\n",
    "1. General purpose (e.g. CG, split, MIR)\n",
    "2. Structure-specific (e.g. knapsack cover, clique)\n",
    "3. Problem-specific (whatever _you_ cook up)\n",
    "\n",
    "Generally speaking, solvers can add general purpose and structure specific cuts better than we can. However, we are better at adding problem specific cuts. Therefore, when trying to improve bound quality, a good place to start is identifying problem structure which a solver hasn't found, and exploiting this problem structure."
   ]
  },
  {
   "cell_type": "markdown",
   "metadata": {},
   "source": [
    "## Improving solution quality\n",
    "\n",
    "One way to improve the incumbent solution quality is to obtain integer feasible solutions apriori. These can come from:\n",
    "\n",
    "1. Problem-specific heuristics.\n",
    "2. Neighborhood search.\n",
    "3. Rounding or \"polishing\" existing high-quality solutions.\n",
    "\n",
    "For instance, if we're solving a knapsack problem, one simple heuristic is to add a _greedy solution_ where you iteratively add the best available item to the sack until you run out of room. This will often be a very good solution, and is a simple example of a problem-specific heuristic scheme."
   ]
  },
  {
   "cell_type": "markdown",
   "metadata": {},
   "source": [
    "# The Travelling Salesperson 101"
   ]
  },
  {
   "cell_type": "markdown",
   "metadata": {},
   "source": [
    "The basic problem is that we are given a set of co-ordinates $(a_i, b_i)_{i=1}^n$ corresponding to a set of $n$ nodes in a graph, and we need to decide which $n$ of the $n^2$ arcs in the graph we will use to tour the graph, wherein we visit each node exactly once, at _minimum_ total cost. Let's formulate this as an integer program!\n",
    "\n",
    "Let the cities be indexed from 1 to N.\n",
    "Let $d_{ij}$ be the distance between city $i$ and city $j$.\n",
    "\n",
    "Decision variables: $x_{ij}=\\begin{cases} 1,\\quad \\text{if city $i$ and city $j$ are adjacent in the shortest tour}\\\\\n",
    "0,\\quad \\text{otherwise.}\\end{cases}$\n",
    "\n",
    "N.B. $x_{ij}$ and $x_{ji}$ are redundant ($x_{ij}=x_{ji}$), so we only define the variable $x_{ij}$ for $i < j$. Then we can formulate the following integer program.\n",
    "\n",
    "$$\n",
    "\\underset{x}{\\min}\\ \\sum_{i=1}^N\\sum_{j=i+1}^N d_{ij}x_{ij} \\\\\n",
    "\\text{s.t.}\\quad \n",
    "\\sum_{j=i+1}^N x_{ij} + \\sum_{j=1}^{i-1}x_{ji} = 2 \\quad\\forall i, 1\\le i \\le N \\\\\n",
    "x_{ij}\\in\\{0,1\\}\\quad\\forall i,j \\text{ s.t. } 1\\le i < j \\le N\n",
    "$$\n",
    "\n",
    "However, if we attempt to solve this problem, we will find that we get an infeasible solution, with multiple disjoint subtours. \n",
    "\n",
    "![alt text](img/tsp1.png)\n",
    "\n",
    "Yikes! Our formulation is missing something! What are some potential ways to fix it?\n",
    "\n",
    "One common way is **subtour elimination** constraints, to prevent the final solution from having any small cycles, i.e. cycles that do not include all the nodes.\n",
    "\n",
    "Given a subtour $S\\subset \\{1,\\ldots,N\\}$, a subtour elimination constraint looks like:\n",
    "$$\\sum_{i\\in S} \\left(\\sum_{j\\notin S, j > i}x_{ij}+\\sum_{j\\notin S, j < i}x_{ji}\\right) \\ge 2$$.\n",
    "\n",
    "As $N$ grows larger, the number of subtour elimination constraints grows exponentially. It is therefore impractical to add all of these constraints into the model.\n",
    "\n",
    "Instead, we generate these constraints lazily. Every time Gurobi has an incumbent solution, we find the shortest subtour in the solution, and add a lazy constraint eliminating this particular subtour."
   ]
  },
  {
   "cell_type": "markdown",
   "metadata": {},
   "source": [
    "# How do we add lazy constraints? Solver callbacks 101\n",
    "\n",
    "Some solvers allow you to customize aspects of the solve process in a deeper way than just setting options for these parameters. You can provide code to be run when certain events happen, and the solver **calls back** to these functions to ask what action(s) should be taken. Why might you want to do this? Some situations:\n",
    "\n",
    "* **Informational Callbacks:** you might want to extract the intermediate solutions found in the branch&bound tree, or other useful information during the solution process, and not work only with the optimal solution.\n",
    "\n",
    "* **Lazy Constraints:** you might not want to enumerate all of your constraints at the onset, and enforce certain constraints only when they're needed.\n",
    "\n",
    "We'll explore these cases in this session."
   ]
  },
  {
   "cell_type": "markdown",
   "metadata": {},
   "source": [
    "# A TSP solver"
   ]
  },
  {
   "cell_type": "markdown",
   "metadata": {},
   "source": [
    "We begin by loading the required modules. Note that you can run this code using either CPLEX or Gurobi. \n",
    "\n",
    "Actually, for the very last bit of this notebook we will need CPLEX, because Gurobi has a bug which prevents it from accepting warm-starts when we use callbacks. However, you can still follow along with Gurobi installed."
   ]
  },
  {
   "cell_type": "code",
   "execution_count": 2,
   "metadata": {},
   "outputs": [],
   "source": [
    "using JuMP\n",
    "using Gurobi#,CPLEX\n",
    "using Test\n",
    "using LinearAlgebra\n",
    "using DelimitedFiles\n",
    "using Gadfly"
   ]
  },
  {
   "cell_type": "markdown",
   "metadata": {},
   "source": [
    "Next, we define a function to extract a n+1 dimensional vector representing a tour from an n x n symmetric matrix representing a solution provided by a solver."
   ]
  },
  {
   "cell_type": "code",
   "execution_count": 3,
   "metadata": {},
   "outputs": [
    {
     "data": {
      "text/plain": [
       "extractTour (generic function with 1 method)"
      ]
     },
     "execution_count": 3,
     "metadata": {},
     "output_type": "execute_result"
    }
   ],
   "source": [
    "function extractTour(n, sol)\n",
    "    tour = [1]  # Start at city 1 always\n",
    "    cur_city = 1\n",
    "    while true\n",
    "        # Look for first arc out of current city\n",
    "        for j = 1:n\n",
    "            if sol[cur_city,j] >= 0.5-1e-6\n",
    "                # Found next city\n",
    "                push!(tour, j)\n",
    "                # Don't ever use this arc again\n",
    "                sol[cur_city, j] = 0.0\n",
    "                sol[j, cur_city] = 0.0\n",
    "                # Move to next city\n",
    "                cur_city = j\n",
    "                break\n",
    "            end\n",
    "        end\n",
    "        # If we have come back to 1, stop\n",
    "        if cur_city == 1\n",
    "            break\n",
    "        end\n",
    "    end  # end while\n",
    "    return tour\n",
    "end"
   ]
  },
  {
   "cell_type": "markdown",
   "metadata": {},
   "source": [
    "Next, we define a function which acts as a seperation oracle, which is a fancy way of saying that it either identifies a subtour which should be banned from the set of all possible solutions, or decides that the current solution is optimal."
   ]
  },
  {
   "cell_type": "code",
   "execution_count": 4,
   "metadata": {},
   "outputs": [
    {
     "data": {
      "text/plain": [
       "findSubtour (generic function with 1 method)"
      ]
     },
     "execution_count": 4,
     "metadata": {},
     "output_type": "execute_result"
    }
   ],
   "source": [
    "# Input:\n",
    "#  n        Number of cities\n",
    "#  sol      n-by-n 0-1 symmetric matrix representing solution\n",
    "# Outputs:\n",
    "#  subtour  n length vector of booleans, true iff in a particular subtour\n",
    "#  subtour_length   Number of cities in subtour (if n, no subtour found)\n",
    "function findSubtour(n, sol)\n",
    "    # Initialize to no subtour\n",
    "    subtour = fill(false,n)\n",
    "    # Start looking at a random city\n",
    "    cur_city=rand(1:n)\n",
    "    subtour[cur_city] = true\n",
    "    subtour_length = 1\n",
    "    while true\n",
    "        # Find next node that we haven't yet visited\n",
    "        found_city = false\n",
    "        indices=shuffle(1:n)\n",
    "        for j = 1:n\n",
    "            if !subtour[indices[j]]\n",
    "                if sol[cur_city, indices[j]] >= 1 - 1e-6\n",
    "                    # Arc to unvisited city, follow it\n",
    "                    cur_city = indices[j]\n",
    "                    subtour[indices[j]] = true\n",
    "                    found_city = true\n",
    "                    subtour_length += 1\n",
    "                    break  # Move on to next city\n",
    "                end\n",
    "            end\n",
    "        end\n",
    "        if !found_city\n",
    "            # We are done\n",
    "            break\n",
    "        end\n",
    "    end\n",
    "    return subtour, subtour_length\n",
    "end"
   ]
  },
  {
   "cell_type": "markdown",
   "metadata": {},
   "source": [
    "Next, we define a function which solves TSP, given a matrix of city locations, using an optimization solver.\n",
    "\n",
    "**Exercise: write the missing lines of code, to make the TSP solver correct.**"
   ]
  },
  {
   "cell_type": "code",
   "execution_count": 5,
   "metadata": {},
   "outputs": [
    {
     "data": {
      "text/plain": [
       "solveTSP (generic function with 1 method)"
      ]
     },
     "execution_count": 5,
     "metadata": {},
     "output_type": "execute_result"
    }
   ],
   "source": [
    "# Inputs:\n",
    "#   n       Number of cities\n",
    "#   cities  n-by-2 matrix of (x,y) city locations\n",
    "# Output:\n",
    "#   path    Vector with order to cities are visited in\n",
    "function solveTSP(n, cities)\n",
    "\n",
    "    # Calculate pairwise distance matrix\n",
    "    dist = zeros(n, n)\n",
    "    for i = 1:n\n",
    "        for j = i:n\n",
    "            d = norm(cities[i,1:2] - cities[j,1:2])\n",
    "            dist[i,j] = d\n",
    "            dist[j,i] = d\n",
    "        end\n",
    "    end\n",
    "\n",
    "    m = Model(solver=GurobiSolver(TimeLimit=100))\n",
    "        # =CplexSolver(CPX_PARAM_TILIM=100))\n",
    "        # =GurobiSolver(TimeLimit=100))\n",
    "\n",
    "    # x[i,j] is 1 iff we travel between i and j, 0 otherwise. \n",
    "    # Although we define all n^2 variables, we will only use the (strict) upper triangle. \n",
    "    @variable(m, x[1:n,1:n], Bin)\n",
    "\n",
    "    # Minimize total length of tour\n",
    "    @objective(m, Min, dot(dist, x))\n",
    "\n",
    "    \n",
    "    #######################################################\n",
    "    \n",
    "    # Make x_ij and x_ji be the same thing (undirectional TSP)\n",
    "    \n",
    "    ################### Your constraint here ##############\n",
    "        \n",
    "    #######################################################\n",
    "    \n",
    "\n",
    "    \n",
    "    #######################################################\n",
    "    \n",
    "    # Don't allow self-arcs, by ensuring diagonal is vector of 0s\n",
    "    \n",
    "    ################### Your constraint here ##############\n",
    "        \n",
    "    #######################################################\n",
    "    \n",
    "\n",
    "    # We must enter and leave every city once and only once\n",
    "    for i = 1:n\n",
    "    #######################################################\n",
    "    \n",
    "    ################### Your constraint here ##############\n",
    "        \n",
    "    #######################################################\n",
    "    end\n",
    "\n",
    "\n",
    "    function subtour(cb)\n",
    "        # Find any set of cities in a subtour\n",
    "        @time subtour, subtour_length = findSubtour(n, getvalue(x))\n",
    "\n",
    "        if subtour_length == n\n",
    "            # This \"subtour\" is actually all cities, so we are done with this node of the branch and bound tree\n",
    "            return\n",
    "        end\n",
    "\n",
    "        # Subtour found - add lazy constraint\n",
    "        arcs_from_subtour = zero(AffExpr)\n",
    "        for i = 1:n\n",
    "            if subtour[i]\n",
    "            # If this city isn't in subtour, skip it\n",
    "                for j = 1:n\n",
    "                    # Want to include all arcs from this city, which is in the subtour, \n",
    "                    # to all cities not in the subtour\n",
    "                    if (i !=j) && !(subtour[j])\n",
    "                        # j isn't in subtour\n",
    "                        arcs_from_subtour += x[i,j]\n",
    "                    end\n",
    "                end\n",
    "            end\n",
    "        end\n",
    "        # Add the subtour elimination constraint\n",
    "        @lazyconstraint(cb, arcs_from_subtour >= 2)\n",
    "    end \n",
    "\n",
    "    addlazycallback(m, subtour)\n",
    "    solve(m)\n",
    "\n",
    "    return extractTour(n, getvalue(x))\n",
    "end"
   ]
  },
  {
   "cell_type": "markdown",
   "metadata": {},
   "source": [
    "Next, we define a function to plot the solution"
   ]
  },
  {
   "cell_type": "code",
   "execution_count": 6,
   "metadata": {},
   "outputs": [
    {
     "data": {
      "text/plain": [
       "plot_solution (generic function with 2 methods)"
      ]
     },
     "execution_count": 6,
     "metadata": {},
     "output_type": "execute_result"
    }
   ],
   "source": [
    "plot_instance(pts) = plot(x = pts[1,:], y = pts[2,:], Geom.point, Guide.xlabel(nothing), Guide.ylabel(nothing))\n",
    "function plot_solution(pts, path, extras = [])\n",
    "\tptspath = pts[:,path]\n",
    "\tplot(x = ptspath[1,:], y = ptspath[2,:], Geom.point, Geom.path, Guide.xlabel(nothing), Guide.ylabel(nothing), extras...)\n",
    "end"
   ]
  },
  {
   "cell_type": "markdown",
   "metadata": {},
   "source": [
    "Next, we solve a small 6 city example (which you might recognize from the diagram above) to verify correctness of our code.\n",
    "\n",
    "**Note: you need to complete the exercise above (or cheat and look at the completed notebook) for this code to run correctly.**"
   ]
  },
  {
   "cell_type": "code",
   "execution_count": null,
   "metadata": {
    "scrolled": true
   },
   "outputs": [],
   "source": [
    "n = 6\n",
    "cities =    [50 200;\n",
    "            100 100;\n",
    "            100 300;\n",
    "            500 100;\n",
    "            500 300;\n",
    "            550 200]\n",
    "tour = solveTSP(n, cities)\n",
    "\n",
    "plot_solution(cities', tour)"
   ]
  },
  {
   "cell_type": "markdown",
   "metadata": {},
   "source": [
    "# A more complicated TSP example\n",
    "What's the quickest tour around the 48 US state capitals in the mainland US?"
   ]
  },
  {
   "cell_type": "code",
   "execution_count": null,
   "metadata": {
    "scrolled": true
   },
   "outputs": [],
   "source": [
    "# Source: https://people.sc.fsu.edu/~jburkardt/datasets/tsp/att48.tsp\n",
    "n=48\n",
    "citiesdata=[6734 1453;\n",
    "2233 10;\n",
    "5530 1424;\n",
    "401 841;\n",
    "3082 1644;\n",
    "7608 4458;\n",
    "7573 3716;\n",
    "7265 1268;\n",
    "6898 1885;\n",
    "1112 2049;\n",
    "5468 2606;\n",
    "5989 2873;\n",
    "4706 2674;\n",
    "4612 2035;\n",
    "6347 2683;\n",
    "6107 669;\n",
    "7611 5184;\n",
    "7462 3590;\n",
    "7732 4723;\n",
    "5900 3561;\n",
    "4483 3369;\n",
    "6101 1110;\n",
    "5199 2182;\n",
    "1633 2809;\n",
    "4307 2322;\n",
    "675 1006;\n",
    "7555 4819;\n",
    "7541 3981;\n",
    "3177 756;\n",
    "7352 4506;\n",
    "7545 2801;\n",
    "3245 3305;\n",
    "6426 3173;\n",
    "4608 1198;\n",
    "23 2216;\n",
    "7248 3779;\n",
    "7762 4595;\n",
    "7392 2244;\n",
    "3484 2829;\n",
    "6271 2135;\n",
    "4985 140;\n",
    "1916 1569;\n",
    "7280 4899;\n",
    "7509 3239;\n",
    "10 2676;\n",
    "6807 2993;\n",
    "5185 3258;\n",
    "3023 1942]\n",
    "tour = solveTSP(n, citiesdata);"
   ]
  },
  {
   "cell_type": "markdown",
   "metadata": {},
   "source": [
    "Plot the optimal tour"
   ]
  },
  {
   "cell_type": "code",
   "execution_count": null,
   "metadata": {},
   "outputs": [],
   "source": [
    "plot_solution(citiesdata', tour)"
   ]
  },
  {
   "cell_type": "markdown",
   "metadata": {},
   "source": [
    "# A larger-scale TSP: Routing a Vehicle"
   ]
  },
  {
   "cell_type": "markdown",
   "metadata": {},
   "source": [
    "Let's try to solve a TSP with 380 cities using the above code."
   ]
  },
  {
   "cell_type": "code",
   "execution_count": null,
   "metadata": {},
   "outputs": [],
   "source": [
    "\n",
    "ludata=readdlm(\"bcl380tsp.txt\")\n",
    "ludata=ludata[:, 2:3] #drop index\n",
    "\n",
    "n=380\n",
    "tour = solveTSP(n, ludata[1:n, :])\n"
   ]
  },
  {
   "cell_type": "markdown",
   "metadata": {},
   "source": [
    "That didn't work very well!\n",
    "\n",
    "**What went wrong?**\n",
    "\n",
    "a) TSP is NP-hard, so we can't solve it and we should just give up.\n",
    "\n",
    "b) **We have been focusing on lower bounds, but we also need good heuristics to get good upper bounds.**\n",
    "\n",
    "\n",
    "Answer: **(b) [notice that we didn't even find a feasible solution!]**"
   ]
  },
  {
   "cell_type": "markdown",
   "metadata": {},
   "source": [
    "We will use the package TravelingSalesmanHeuristics.jl to generate a high-quality warm-start. We will also switch to using CPLEX rather than Gurobi here, because Gurobi has issues accepting warm-starts. You can still follow along using Gurobi here, but you may run inton some issues."
   ]
  },
  {
   "cell_type": "code",
   "execution_count": 13,
   "metadata": {},
   "outputs": [],
   "source": [
    "#Pkg.clone(\"https://github.com/evanfields/TravelingSalesmanHeuristics.jl/\")\n",
    "using TravelingSalesmanHeuristics"
   ]
  },
  {
   "cell_type": "code",
   "execution_count": 14,
   "metadata": {
    "scrolled": true
   },
   "outputs": [],
   "source": [
    "# Calculate pairwise distance matrix for a heuristic\n",
    "dist = [norm(ludata[i,:] - ludata[j,:]) for i in 1:n, j in 1:n];"
   ]
  },
  {
   "cell_type": "code",
   "execution_count": 15,
   "metadata": {
    "scrolled": false
   },
   "outputs": [
    {
     "name": "stderr",
     "output_type": "stream",
     "text": [
      "WARNING: Base.Random is deprecated, run `using Random` instead\n",
      "  likely near /Users/Ryancw2/.julia/packages/IJulia/DL02A/src/kernel.jl:41\n"
     ]
    },
    {
     "data": {
      "text/plain": [
       "([343, 344, 355, 345, 346, 356, 347, 334, 333, 332  …  379, 380, 374, 375, 354, 331, 340, 341, 342, 343], 1705.0746884947876)"
      ]
     },
     "execution_count": 15,
     "metadata": {},
     "output_type": "execute_result"
    }
   ],
   "source": [
    "Random.seed!(47)\n",
    "path, cost=solve_tsp(dist, quality_factor = 100)"
   ]
  },
  {
   "cell_type": "markdown",
   "metadata": {},
   "source": [
    "The above solution is pretty good. But we obtain a better solution after injecting the above solution as a warm-start and letting a MIO solver run for 10 hours."
   ]
  },
  {
   "cell_type": "code",
   "execution_count": 17,
   "metadata": {},
   "outputs": [],
   "source": [
    "tour=[1, 14, 13, 12, 35, 34, 33, 32, 31, 52, 50, 49, 11, 30, 39, 29, 10, 28, 9, 27, 38, 26, 25, 8, 24, 37, 23, 7, 6, 5, 4, 3, 2, 22, 21, 36, 20, 16, 15, 51, 54, 70, 84, 72, 87, 81, 88, 93, 112, 111, 110, 109, 108, 107, 106, 105, 104, 101, 115, 146, 181, 160, 177, 168, 178, 169, 179, 191, 180, 170, 154, 155, 156, 157, 171, 172, 173, 182, 183, 192, 184, 185, 193, 186, 187, 188, 189, 174, 175, 190, 176, 152, 153, 158, 159, 161, 162, 163, 164, 165, 209, 208, 207, 206, 205, 204, 203, 202, 233, 201, 200, 240, 243, 251, 268, 252, 253, 269, 282, 318, 317, 316, 315, 281, 280, 314, 313, 312, 311, 310, 279, 278, 307, 306, 305, 304, 303, 309, 301, 300, 299, 298, 275, 276, 249, 250, 267, 199, 198, 197, 196, 236, 232, 231, 230, 229, 228, 266, 274, 297, 296, 295, 294, 293, 308, 292, 291, 324, 322, 328, 330, 327, 329, 326, 321, 320, 325, 290, 289, 288, 287, 259, 260, 261, 272, 262, 263, 273, 264, 265, 246, 227, 226, 225, 224, 223, 222, 221, 235, 220, 219, 218, 217, 216, 215, 214, 213, 212, 234, 211, 210, 195, 237, 238, 245, 242, 247, 248, 256, 270, 257, 258, 271, 284, 285, 286, 338, 357, 369, 336, 302, 323, 339, 352, 365, 376, 377, 378, 358, 348, 349, 350, 351, 359, 370, 360, 361, 371, 379, 380, 362, 363, 364, 372, 366, 367, 373, 374, 375, 353, 354, 331, 340, 341, 342, 343, 344, 355, 332, 333, 334, 345, 346, 347, 356, 335, 368, 337, 319, 277, 283, 255, 254, 244, 241, 239, 194, 167, 166, 150, 147, 148, 151, 149, 141, 140, 139, 138, 145, 137, 136, 135, 134, 133, 103, 102, 100, 99, 98, 97, 130, 96, 129, 128, 127, 126, 125, 124, 123, 122, 132, 121, 120, 119, 118, 144, 143, 142, 117, 116, 114, 131, 113, 89, 82, 94, 83, 95, 66, 67, 90, 91, 92, 68, 60, 85, 61, 69, 73, 74, 75, 76, 77, 59, 57, 62, 63, 64, 78, 79, 80, 86, 71, 65, 19, 48, 47, 46, 18, 17, 45, 44, 56, 58, 55, 43, 42, 53, 41, 40, 1]\n",
    "path=tour;"
   ]
  },
  {
   "cell_type": "markdown",
   "metadata": {},
   "source": [
    "Let's define a new version of solveTSP which takes a warm start solution, and tunes our solver more cleverly."
   ]
  },
  {
   "cell_type": "code",
   "execution_count": 25,
   "metadata": {},
   "outputs": [
    {
     "data": {
      "text/plain": [
       "solveTSP (generic function with 1 method)"
      ]
     },
     "execution_count": 25,
     "metadata": {},
     "output_type": "execute_result"
    }
   ],
   "source": [
    "using CPLEX\n",
    "function solveTSP(n, cities)\n",
    "\n",
    "    # Calculate pairwise distance matrix\n",
    "    dist = [norm(ludata[i,:] - ludata[j,:]) for i in 1:n, j in 1:n]\n",
    "\n",
    "    m = Model(solver=CplexSolver(CPX_PARAM_TILIM=100, CPX_PARAM_COVERS =-1,CPX_PARAM_ZEROHALFCUTS=-1, CPX_PARAM_FRACCUTS=-1))\n",
    "\n",
    "    # x[i,j] is 1 iff we travel between i and j, 0 otherwise. \n",
    "    # Although we define all n^2 variables, we will only use the (strict) upper triangle. \n",
    "    @variable(m, x[1:n,1:n], Bin)\n",
    "\n",
    "    # Minimize total length of tour\n",
    "    @objective(m, Min, dot(dist, x))\n",
    "\n",
    "    # Make x_ij and x_ji be the same thing (undirectional TSP)\n",
    "    @constraint(m, x.==x')\n",
    "    # Don't allow self-arcs, by ensuring diagonal is vector of 0s\n",
    "    @constraint(m, diag(x).==zeros(n))\n",
    "\n",
    "    # We must enter and leave every city once and only once\n",
    "    for i = 1:n\n",
    "        @constraint(m, sum(x[i,j] for j=1:n) == 2)\n",
    "    end\n",
    "\n",
    "    function subtour(cb)\n",
    "        # Find any set of cities in a subtour\n",
    "        subtour, subtour_length = findSubtour(n, getvalue(x))\n",
    "        @show subtour_length\n",
    "        \n",
    "        if subtour_length == n\n",
    "            # This \"subtour\" is actually all cities, so we are done with this node of the branch and bound tree\n",
    "            return\n",
    "        end\n",
    "\n",
    "        # Subtour found - add lazy constraint\n",
    "        arcs_from_subtour = zero(AffExpr)\n",
    "        for i = 1:n\n",
    "            if subtour[i]\n",
    "            # If this city isn't in subtour, skip it\n",
    "                for j = 1:n\n",
    "                    # Want to include all arcs from this city, which is in the subtour, \n",
    "                    # to all cities not in the subtour\n",
    "                    if (i !=j) && !(subtour[j])\n",
    "                        # j isn't in subtour\n",
    "                        arcs_from_subtour += x[i,j]\n",
    "                    end\n",
    "                end\n",
    "            end\n",
    "        end\n",
    "        # Add the subtour elimination constraint\n",
    "        @lazyconstraint(cb, arcs_from_subtour >= 2)\n",
    "    end \n",
    "\n",
    "    addlazycallback(m, subtour)\n",
    "    setvalue(x, warmstart)\n",
    "    solve(m)\n",
    "\n",
    "    return extractTour(n, getvalue(x))\n",
    "end"
   ]
  },
  {
   "cell_type": "code",
   "execution_count": 23,
   "metadata": {},
   "outputs": [],
   "source": [
    "warmstart=zeros(n,n);\n",
    "for i=1:(size(path,1)-1)\n",
    "    warmstart[path[i], path[i+1]]=1.0;\n",
    "    warmstart[path[i+1], path[i]]=1.0;\n",
    "end\n",
    "warmstart[path[n-1], path[1]]=1.0;\n",
    "warmstart[path[1], path[n-1]]=1.0;"
   ]
  },
  {
   "cell_type": "markdown",
   "metadata": {},
   "source": [
    "Let's verify that the solution obtained earlier from our solver is near-optimal."
   ]
  },
  {
   "cell_type": "code",
   "execution_count": null,
   "metadata": {},
   "outputs": [],
   "source": [
    "tour = solveTSP(n, ludata[1:n, :])"
   ]
  },
  {
   "cell_type": "markdown",
   "metadata": {},
   "source": [
    "Let's visualize the final tour."
   ]
  },
  {
   "cell_type": "code",
   "execution_count": null,
   "metadata": {},
   "outputs": [],
   "source": [
    "plot_solution(ludata', tour)"
   ]
  },
  {
   "cell_type": "markdown",
   "metadata": {},
   "source": [
    "# Wrapping-up part (1): The Concorde App\n",
    "* The code laid out above doesn't scale to n=1000s, because of the way we laid out the problem data, and because we aren't using every trick in the book: e.g., we made Julia compute the full distance matrix, which is expensive.\n",
    "\n",
    "* The heuristic we are using is also not quite state-of-the-art: it uses 2-opt swaps, but we get better solutions with 2-opt and 3-opt swaps.\n",
    "\n",
    "* These issues are dealt with in the Concorde TSP code, a state-of-the-art TSP solver which solves TSPs with millions of variables to certifiable optimality by carefully managing its memory and using lots of other \"tricks\" from the literature. \n",
    "\n",
    "**If you have an iPhone, download the (free) Concorde app and try it out!**\n",
    "\n",
    "**See here: http://www.math.uwaterloo.ca/tsp/iphone/index.html, or the app store.**\n",
    "\n"
   ]
  },
  {
   "cell_type": "markdown",
   "metadata": {},
   "source": [
    "\n",
    "# Appendix: Some useful solver parameters [Optional Reading]\n",
    "Gurobi (and other high-quality solvers such as CPLEX) allow you to tweak a wide range of different parameters; sometimes tuning these can drastically improve performance. It can be kind of intimidating, though: Gurobi has over 100 parameters (and CPLEX has even more!), so which are the important ones?\n",
    "\n",
    "Some useful ones:\n",
    "\n",
    "Gurobi: \n",
    "* TimeLimit: how long the solver will run before giving up\n",
    "* MIPGap: termination criterion for relative gap $\\frac{UB-LB}{LB}$\n",
    "* MIPFocus: High-level controls on solver priority (proving optimality or increasing bound or finding optimal solution)\n",
    "* VarBranch: MIP branching strategy (pseudocost/strong branching)\n",
    "* Cuts: How aggresive we want to be in our cut generation (higher values improve lower bound but might slow overall process).\n",
    "\n",
    "CPLEX:\n",
    "* CPX_PARAM_TILIM: how long the solver will run before giving up\n",
    "* CPX_PARAM_EPOPT: termination criterion for relative gap $\\frac{UB-LB}{LB}$\n",
    "* CPX_PARAM_MIPEMPHASIS: High-level controls on solver priority (proving optimality or increasing bound or finding optimal solution)\n",
    "* CPX_PARAM_VARSEL: MIP branching strategy (pseudocost/strong branching)\n",
    "* CPX_PARAM_NODESEL: MIP node selection strategy\n",
    "\n",
    "Is that it? Well, no, but you probably need domain knowledge about your problem to go much further. "
   ]
  },
  {
   "cell_type": "markdown",
   "metadata": {},
   "source": [
    "# Appendix: Understanding Gurobi Solver Output\n",
    "First, it solves the LP relaxation and reports back:\n",
    "```\n",
    "Root relaxation: objective 4.014179e+00, 18 iterations, 0.00 seconds\n",
    "```\n",
    "Now it explores the branch-and-bound tree, and updates us as it goes along. Let's look at just the first line:\n",
    "```\n",
    "    Nodes    |    Current Node    |     Objective Bounds      |     Work\n",
    " Expl Unexpl |  Obj  Depth IntInf | Incumbent    BestBd   Gap | It/Node Time\n",
    "\n",
    "     0     0    4.01418    0    7    2.35937    4.01418  70.1%     -    0s\n",
    "```\n",
    "We see that the information is broken down into four main columns:\n",
    "\n",
    "1. ``Nodes``: Global node information\n",
    "    * how many nodes have we looked at\n",
    "    * how many do we have in our queue\n",
    "2. ``Current Node``\n",
    "    * objective\n",
    "    * depth in the tree\n",
    "    * number of noninteger variables in the solution\n",
    "3. ``Objective Bounds``\n",
    "    * Best incumbent (lower bound)\n",
    "    * node upper bound\n",
    "    * the gap between the two\n",
    "4. ``Work``\n",
    "    * average simplex iterations per node\n",
    "    * total elapsed time\n",
    "\n",
    "Finally, we get a neat summary of the cutting planes Gurobi found useful:\n",
    "```\n",
    "Cutting planes:\n",
    "  Gomory: 3\n",
    "  Cover: 2\n",
    "  MIR: 5\n",
    "```\n",
    "All told, we explored 190  nodes, much less than the $2^{100}$ we were worried about. All this only took 698 simplex iterations and 0.21 seconds.\n",
    "\n",
    "Now what about those ``H``s that appear? That tells us that Gurobi ran a heuristic and found a new best solution. You can see for yourself, as the incumbent value increases while the bound remains the same:\n",
    "```\n",
    "    Nodes    |    Current Node    |     Objective Bounds      |     Work\n",
    " Expl Unexpl |  Obj  Depth IntInf | Incumbent    BestBd   Gap | It/Node Time\n",
    "\n",
    "     0     0    4.01418    0    7    2.35937    4.01418  70.1%     -    0s\n",
    "H    0     0                       3.3780464    4.01418  18.8%     -    0s\n",
    "```\n",
    "You'll also sometimes see a ``*`` instead of the ``H``, which says that the feasible solution came from branching instead of heuristics."
   ]
  },
  {
   "cell_type": "markdown",
   "metadata": {},
   "source": [
    "# Appendix: Understanding CPLEX solver output\n",
    "Cplex's output log is quite similar to Gurobi.\n",
    "\n",
    "First, it solves the LP relaxation and reports back.\n",
    "````\n",
    "Root relaxation solution time = 0.07 sec. (49.69 ticks)\n",
    "        Nodes                                         Cuts/\n",
    "   Node  Left     Objective  IInf  Best Integer    Best Bound    ItCnt     Gap\n",
    "\n",
    "     0     0     3117.8756    46                   3117.8756      516         \n",
    "````      \n",
    "We can see that the root relaxation was solved in 0.07 seconds, and gave a lower bound of 3117.8756, without finding a feasible solution. Let's look at the next few lines.\n",
    "````\n",
    "Root relaxation solution time = 0.07 sec. (49.69 ticks)\n",
    "        Nodes                                         Cuts/\n",
    "   Node  Left     Objective  IInf  Best Integer    Best Bound    ItCnt     Gap\n",
    "\n",
    "      0     0     3117.8756    46                   3117.8756      516        \n",
    "*     0+    0                         3317.2720     3117.8756             6.01%\n",
    "Repair heuristic succeeded.\n",
    "      0     2     3119.5690    46     3317.2720     3119.8156      516    5.95%\n",
    "      Elapsed time = 36.25 sec. (2113.23 ticks, tree = 0.01 MB, solutions = 1)\n",
    "      7     9     3125.5773    42     3317.2720     3123.5428      537    5.84%\n",
    "     11    13     3129.3761    40     3317.2720     3123.5428      550    5.84%\n",
    "     20    22     3133.6690    24     3317.2720     3123.5428      584    5.84%\n",
    "     30    32     3139.4365    20     3317.2720     3123.5428      603    5.84%\n",
    "     40    42     3142.6710    20     3317.2720     3123.5428      627    5.84%\n",
    "     49    51     3145.5507    20     3317.2720     3123.5428      646    5.84%\n",
    "     56    58     3154.0981    20     3317.2720     3123.5428      663    5.84%\n",
    "     63    65     3148.3282    31     3317.2720     3123.5428      675    5.84%\n",
    "     70    72     3149.2068    18     3317.2720     3123.5428      701    5.84%\n",
    "     95    97     3158.1813    12     3317.2720     3123.5428      787    5.84%\n",
    "Elapsed time = 38.83 sec. (5587.54 ticks, tree = 2.84 MB, solutions = 1)\n",
    "```` \n",
    "We can see that the information is broken down into 5 main columns:\n",
    "1. ``Nodes``: Global node information\n",
    "    * How many nodes have we looked at\n",
    "    * How many do we have in our queue\n",
    "2. ``Current Node``\n",
    "    * Objective\n",
    "    * Number of noninteger variables in the solution\n",
    "3. ``Objective Bounds``\n",
    "    * Best incumbent (upper bound)\n",
    "    * Node lower bound\n",
    "4. ``Work``\n",
    "    * Total number of simplex iterations\n",
    "5. ``Gap``\n",
    "    * Total bound gap between lower and upper bound.\n",
    "\n",
    "We sometimes also see other information in the log:\n",
    "\n",
    "``*/+ symbols``: Incumbent solutions\n",
    "    * ``*`` A heuristic solution was found.\n",
    "    * ``+`` A new incumbent (best feasible) solution was found.\n",
    "    \n",
    "Finally, we get a neat summary of the cutting planes Cplex found useful:\n",
    "```\n",
    "    972   955     3223.1373     6     3317.2720     3127.5972     3235    5.72%\n",
    "User cuts applied:  33\n",
    "\n",
    "Root node processing (before b&c):\n",
    "  Real time             =   36.25 sec. (2110.54 ticks)\n",
    "Sequential b&c:\n",
    "  Real time             =   68.02 sec. (27543.59 ticks)\n",
    "                          ------------\n",
    "Total (root+branch&cut) =  104.27 sec. (29654.12 ticks)\n",
    "```\n",
    "All told, in 104s we explored 955 nodes, to obtain a 5.72% bound gap on a problem with 380 cites. This is much better than we would obtain from brute-forcing 2^380 tours.\n",
    "\n",
    "Much more information on understanding this output is available in the CPLEX documentation."
   ]
  },
  {
   "cell_type": "markdown",
   "metadata": {},
   "source": [
    "# Credit"
   ]
  },
  {
   "cell_type": "markdown",
   "metadata": {},
   "source": [
    "This material is adapted from previous versions of this course, which have been designed by numerous ORC students."
   ]
  }
 ],
 "metadata": {
  "kernelspec": {
   "display_name": "Julia 0.7.0",
   "language": "julia",
   "name": "julia-0.7"
  },
  "language_info": {
   "file_extension": ".jl",
   "mimetype": "application/julia",
   "name": "julia",
   "version": "0.7.0"
  }
 },
 "nbformat": 4,
 "nbformat_minor": 2
}
