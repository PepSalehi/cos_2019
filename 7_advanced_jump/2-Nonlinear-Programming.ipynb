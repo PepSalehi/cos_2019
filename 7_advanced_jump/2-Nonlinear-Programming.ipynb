{
 "cells": [
  {
   "cell_type": "markdown",
   "metadata": {},
   "source": [
    "# Non-linear optimization\n",
    "\n",
    "In this third of the session, we are going to discuss how to go about solving non-linear optimization problems of the form:\n",
    "\\begin{align}\n",
    "\\min \\ f(x)\\\\\n",
    "\\text{s.t.} \\ g(x)=0,\\\\\n",
    "\\ \\ h(x) \\leq 0.\n",
    "\\end{align}\n",
    "where $f(x)$ is a non-linear function (e.g., linear, quadratic, socp, sdp, exponential), $g(x)$ is an affine function (i.e. linear) and $h(x)$ is a non-linear function. \n",
    "\n",
    "For simplicity, we will only consider quadratic and socp non-linear functions today, since they can be solved in Gurobi/CPLEX. However, the ideas we introduce here also translate fairly naturally to more complicated problems.\n",
    "\n",
    "However, you can also solve problems with more complex non-linear functions than this in JuMP, with Mosek (see https://www.mosek.com/; they have free academic licenses available). Good resources on non-linear optimization are the books by Boyd and Vandenberghe, Bertsekas, and Ben-Tal and Nemirovski."
   ]
  },
  {
   "cell_type": "markdown",
   "metadata": {},
   "source": [
    "# SVM's\n",
    "\n",
    "Our running example for this third of the session will be SVMs: a popular model in machine learning for classification, to keep things concrete and illustrate the basic use of JuMP.jl for solving nonlinear optimization problems. We're going to study SVMs in a 2d setting, so that we can plot them easily.\n",
    "\n",
    "Specifically, we are going to build a custom svm solver, so that we can include constraints which off-the-shelf SVM solvers can't handle. Because we are using JuMP, we should expect that our solver will be slower but more flexible than state-of-the-art SVM solvers such as scikit-learn.\n",
    "\n",
    "The basic problem is that we are given a set of N points $x_1,x_2,\\ldots, x_N \\in \\mathbb{R}^n$ and labels $y_1, y_2, \\ldots, y_n \\in \\{-1,+1\\}$. And we want to find a hyperplane of the form $w^Tx-b = 0$ that separates the two classes, i.e. $w^Tx_i - b \\geq 1$ when $y_i = +1$ and $w^Tx_i - b \\leq -1$ when $y_i = -1$. This condition can be written as $y_i(w^Tx_i - b) \\geq 1, \\forall\\, i$.\n",
    "\n",
    "Such a hyperplane will not exist in general if the data overlap, so instead we'll just try to minimize violations of the constraint $y_i(w^Tx_i - b) \\geq 1, \\forall\\, i$ by adding a penalty when it is violated. The optimization problem can be stated as $$\n",
    "\\min_{w,b} \\sum_{i=1}^N \\left[\\max\\{0, 1 - y_i(w^Tx_i - b)\\}\\right] + \\gamma ||w||_2^2\n",
    "$$ Note that we penalize the norm of $w$ in order to guarantee a unique solution.\n",
    "\n",
    "Now, let's write our own SVM solver!"
   ]
  },
  {
   "cell_type": "code",
   "execution_count": 1,
   "metadata": {},
   "outputs": [],
   "source": [
    "#Pkg.add(\"PyPlot\", \"Distributions\", \"LinearAlgebra\", \"PyPlot\")\n",
    "using Gurobi #, Pick your favourite solver here e.g. CPLEX/Gurobi/Mosek. Note that you need to install these solvers to use them\n",
    "using Distributions\n",
    "using PyPlot\n",
    "using LinearAlgebra\n",
    "using JuMP\n",
    "using Mosek"
   ]
  },
  {
   "cell_type": "code",
   "execution_count": 2,
   "metadata": {},
   "outputs": [
    {
     "data": {
      "text/plain": [
       "gen_data (generic function with 1 method)"
      ]
     },
     "execution_count": 2,
     "metadata": {},
     "output_type": "execute_result"
    }
   ],
   "source": [
    "# Function to generate some random test data\n",
    "function gen_data(N)\n",
    "    # for +1 data, symmetric multivariate normal with center at (1,2)\n",
    "    pos = rand(MvNormal([1.0,2.0],1.0),N)\n",
    "    # for -1 data, symmetric multivariate normal with center at (-1,1)\n",
    "    neg = rand(MvNormal([-1.0,1.0],1.0),N)\n",
    "    x = [pos neg]\n",
    "    y = [fill(+1,N);fill(-1,N)]\n",
    "    return x,y\n",
    "end"
   ]
  },
  {
   "cell_type": "markdown",
   "metadata": {},
   "source": [
    "Let's see what the data look like."
   ]
  },
  {
   "cell_type": "code",
   "execution_count": 3,
   "metadata": {},
   "outputs": [
    {
     "data": {
      "image/png": "[encoded data removed]",
      "text/plain": [
       "Figure(PyObject <Figure size 640x480 with 1 Axes>)"
      ]
     },
     "metadata": {},
     "output_type": "display_data"
    }
   ],
   "source": [
    "x,y = gen_data(100)\n",
    "plot(x[1,1:100], x[2,1:100], \"ro\", x[1,101:200], x[2,101:200], \"bo\");"
   ]
  },
  {
   "cell_type": "markdown",
   "metadata": {},
   "source": [
    "Now we translate the optimization problem into JuMP form.\n",
    "\n",
    "**Exercise: fill in the blanks to write the SVM solver.**"
   ]
  },
  {
   "cell_type": "code",
   "execution_count": 1,
   "metadata": {},
   "outputs": [
    {
     "data": {
      "text/plain": [
       "svm (generic function with 1 method)"
      ]
     },
     "execution_count": 1,
     "metadata": {},
     "output_type": "execute_result"
    }
   ],
   "source": [
    "using JuMP\n",
    "const γ = 0.005\n",
    "function svm(x,y)\n",
    "    n = size(x,1) # problem dimension\n",
    "    N = size(x,2) # number of points\n",
    "    \n",
    "    svmModel=Model(solver=GurobiSolver()) #Change to the solver you are using\n",
    "    @variable(svmModel, w[1:n])\n",
    "    @variable(svmModel, b)\n",
    "    @variable(svmModel, z[1:N]>=0)\n",
    "\n",
    "    #########################################################\n",
    "    \n",
    "    ##### Add the constraints and objective here ###########\n",
    "\n",
    "    #########################################################\n",
    "    \n",
    "    status=solve(svmModel)\n",
    "    return getvalue(w), getvalue(b)\n",
    "end"
   ]
  },
  {
   "cell_type": "code",
   "execution_count": 2,
   "metadata": {},
   "outputs": [
    {
     "ename": "UndefVarError",
     "evalue": "UndefVarError: gen_data not defined",
     "output_type": "error",
     "traceback": [
      "UndefVarError: gen_data not defined",
      "",
      "Stacktrace:",
      " [1] top-level scope at In[2]:2"
     ]
    }
   ],
   "source": [
    "N = 500\n",
    "x,y = gen_data(N)\n",
    "\n",
    "w,b = svm(x,y)"
   ]
  },
  {
   "cell_type": "markdown",
   "metadata": {},
   "source": [
    "And the solution?"
   ]
  },
  {
   "cell_type": "code",
   "execution_count": 3,
   "metadata": {},
   "outputs": [
    {
     "ename": "UndefVarError",
     "evalue": "UndefVarError: x not defined",
     "output_type": "error",
     "traceback": [
      "UndefVarError: x not defined",
      "",
      "Stacktrace:",
      " [1] top-level scope at In[3]:1"
     ]
    }
   ],
   "source": [
    "plot(x[1,1:N], x[2,1:N], \"ro\", x[1,(N+1):2N], x[2,(N+1):2N], \"bo\");\n",
    "\n",
    "xmin, xmax = xlim()\n",
    "ymin, ymax = ylim()\n",
    "y1 = (1+b-w[1]*xmin)/w[2]\n",
    "y2 = (1+b-w[1]*xmax)/w[2]\n",
    "plot([xmin,xmax], [y1,y2], \"k-\");\n",
    "y1 = (-1+b-w[1]*xmin)/w[2]\n",
    "y2 = (-1+b-w[1]*xmax)/w[2]\n",
    "plot([xmin,xmax], [y1,y2], \"k-\");\n",
    "y1 = (b-w[1]*xmin)/w[2]\n",
    "y2 = (b-w[1]*xmax)/w[2]\n",
    "ylim(ymin,ymax)\n",
    "plot([xmin,xmax], [y1,y2], \"k-\");"
   ]
  },
  {
   "cell_type": "markdown",
   "metadata": {},
   "source": [
    "# Exercise: The standard support vector classifier"
   ]
  },
  {
   "cell_type": "markdown",
   "metadata": {},
   "source": [
    "A variant on the support vector classification problem is the *standard* support vector classification problem, which can be stated as follows:\n",
    "$$\n",
    "\\min_{w,b} \\sum_{i=1}^N \\left[\\max\\{0, 1 - y_i(w^Tx_i - b)\\}\\right] + \\gamma ||w||_2,\n",
    "$$\n",
    "subject to the same constraints as our previous problem (i.e., $l_2$ rather than $l_2^2$ regularization). \n",
    "\n",
    "We will not discuss the mathematics of this problem; if you are interested, see section $8.6$ of Boyd+Vandenberghe. \n",
    "\n",
    "Exercise: fill in the blanks in the below function, to write a standard support vector machine solver.\n",
    "\n",
    "Hint: if we have a vector $x$, we can model norm(x) with an auxillary variable $t$ and the constraint:\n",
    "\n",
    "@constraint(svmModel, soc, norm(w[i] for i=1:n)<=t)\n",
    "\n",
    "(The \"soc\" indicates that we are using a second order cone constraint)."
   ]
  },
  {
   "cell_type": "code",
   "execution_count": 7,
   "metadata": {},
   "outputs": [
    {
     "data": {
      "text/plain": [
       "svm2 (generic function with 1 method)"
      ]
     },
     "execution_count": 7,
     "metadata": {},
     "output_type": "execute_result"
    }
   ],
   "source": [
    "using JuMP\n",
    "const γ = 0.005\n",
    "function svm2(x,y)\n",
    "    n = size(x,1) # problem dimension\n",
    "    N = size(x,2) # number of points\n",
    "    \n",
    "    svmModel=Model(solver=GurobiSolver()) #Change to the solver you are using\n",
    "    @variable(svmModel, w[1:n])\n",
    "    @variable(svmModel, b)\n",
    "    @variable(svmModel, z[1:N]>=0)\n",
    "    @variable(svmModel, t>=0)\n",
    "    @constraint(svmModel, soc, norm(w[i] for i=1:n)<=t)\n",
    "\n",
    "    #########################################################\n",
    "    \n",
    "    ##### Add the constraints and objective here ###########\n",
    "\n",
    "    #########################################################\n",
    "    \n",
    "    status=solve(svmModel)\n",
    "    return getvalue(w), getvalue(b)\n",
    "end"
   ]
  },
  {
   "cell_type": "code",
   "execution_count": 8,
   "metadata": {},
   "outputs": [
    {
     "ename": "UndefVarError",
     "evalue": "UndefVarError: x not defined",
     "output_type": "error",
     "traceback": [
      "UndefVarError: x not defined",
      "",
      "Stacktrace:",
      " [1] top-level scope at In[8]:1"
     ]
    }
   ],
   "source": [
    "w2,b2 = svm2(x,y)"
   ]
  },
  {
   "cell_type": "code",
   "execution_count": 9,
   "metadata": {},
   "outputs": [
    {
     "ename": "UndefVarError",
     "evalue": "UndefVarError: x not defined",
     "output_type": "error",
     "traceback": [
      "UndefVarError: x not defined",
      "",
      "Stacktrace:",
      " [1] top-level scope at In[9]:1"
     ]
    }
   ],
   "source": [
    "plot(x[1,1:N], x[2,1:N], \"ro\", x[1,(N+1):2N], x[2,(N+1):2N], \"bo\");\n",
    "\n",
    "xmin, xmax = xlim()\n",
    "ymin, ymax = ylim()\n",
    "y1 = (1+b2-w2[1]*xmin)/w2[2]\n",
    "y2 = (1+b2-w2[1]*xmax)/w2[2]\n",
    "plot([xmin,xmax], [y1,y2], \"k-\");\n",
    "y1 = (-1+b2-w2[1]*xmin)/w2[2]\n",
    "y2 = (-1+b2-w2[1]*xmax)/w2[2]\n",
    "plot([xmin,xmax], [y1,y2], \"k-\");\n",
    "y1 = (b2-w2[1]*xmin)/w2[2]\n",
    "y2 = (b2-w2[1]*xmax)/w2[2]\n",
    "ylim(ymin,ymax)\n",
    "plot([xmin,xmax], [y1,y2], \"k-\");"
   ]
  },
  {
   "cell_type": "markdown",
   "metadata": {},
   "source": [
    "# Discussion\n",
    "\n",
    "What's the difference between the support vector machine solution and the standard support vector machine solution?\n",
    "\n",
    "When will this difference be substantial?"
   ]
  },
  {
   "cell_type": "markdown",
   "metadata": {},
   "source": [
    "# Exercise: Sparse support vector machines"
   ]
  },
  {
   "cell_type": "markdown",
   "metadata": {},
   "source": [
    "A popular way of getting more interpretable/more robust support vector machines is to introduce an $l_0$ norm penalty term into the objective function, and instead solve the following problem (subject to the same constraints as previously):\n",
    "$$\n",
    "\\min_{w,b} \\sum_{i=1}^N \\left[\\max\\{0, 1 - y_i(w^Tx_i - b)\\}\\right] + \\gamma ||w||_2^2+\\lambda ||w||_0,$$\n",
    "which can be modelled via a big-M approach as the following problem:\n",
    "$$\n",
    "\\min_{w,b, z} \\sum_{i=1}^N \\left[\\max\\{0, 1 - y_i(w^Tx_i - b)\\}\\right] + \\gamma ||w||_2^2+\\lambda \\sum{i=1}^N z_i, \\\\ \\text{s.t.} \\ -M z_i \\leq w_i \\leq M z_i, \\forall i.$$\n",
    "\n",
    "(More efficient approaches than big-M approaches exist, but we will not consider these here.)\n",
    "\n",
    "Because this problem is NP-hard to solve, people commonly replace the $l_0$ norm term with an $l_1$ term, and instead solve the following problem:\n",
    "$$\n",
    "\\min_{w,b} \\sum_{i=1}^N \\left[\\max\\{0, 1 - y_i(w^Tx_i - b)\\}\\right] + \\gamma ||w||_2^2+\\lambda ||w||_1.$$\n",
    "\n",
    "Exercise: fill in the blanks below to define $l_0$ and $l_1$ norm support vector machine solvers, and compare their performance, in terms of both interpretability and run time."
   ]
  },
  {
   "cell_type": "markdown",
   "metadata": {},
   "source": [
    "# $l_1$ norm case"
   ]
  },
  {
   "cell_type": "code",
   "execution_count": 10,
   "metadata": {},
   "outputs": [
    {
     "data": {
      "text/plain": [
       "l1_svm (generic function with 1 method)"
      ]
     },
     "execution_count": 10,
     "metadata": {},
     "output_type": "execute_result"
    }
   ],
   "source": [
    "using JuMP\n",
    "const γ = 0.005\n",
    "const λ = 200.0 # This can be cross-validated, but we will leave it at this value for simplicity.\n",
    "function l1_svm(x,y)\n",
    "    n = size(x,1) # problem dimension\n",
    "    N = size(x,2) # number of points\n",
    "    \n",
    "    svmModel=Model(solver=GurobiSolver()) #Change to the solver you are using\n",
    "    @variable(svmModel, w[1:n])\n",
    "    @variable(svmModel, b)\n",
    "    @variable(svmModel, z[1:N]>=0)\n",
    "    @variable(svmModel, abs_w[1:n])\n",
    "    @constraint(svmModel,z.>=ones(N)-y.*(x'*w-b))\n",
    "\n",
    "    #########################################################\n",
    "    \n",
    "    ##### Add the constraints and objective here ###########\n",
    "\n",
    "    #########################################################\n",
    "    \n",
    "    status=solve(svmModel)\n",
    "    return getvalue(w), getvalue(b)\n",
    "end"
   ]
  },
  {
   "cell_type": "code",
   "execution_count": 11,
   "metadata": {},
   "outputs": [
    {
     "ename": "UndefVarError",
     "evalue": "UndefVarError: x not defined",
     "output_type": "error",
     "traceback": [
      "UndefVarError: x not defined",
      "",
      "Stacktrace:",
      " [1] top-level scope at In[11]:1"
     ]
    }
   ],
   "source": [
    "w3,b3 = l1_svm(x,y)"
   ]
  },
  {
   "cell_type": "code",
   "execution_count": 12,
   "metadata": {},
   "outputs": [
    {
     "ename": "UndefVarError",
     "evalue": "UndefVarError: x not defined",
     "output_type": "error",
     "traceback": [
      "UndefVarError: x not defined",
      "",
      "Stacktrace:",
      " [1] top-level scope at In[12]:1"
     ]
    }
   ],
   "source": [
    "plot(x[1,1:N], x[2,1:N], \"ro\", x[1,(N+1):2N], x[2,(N+1):2N], \"bo\");\n",
    "\n",
    "xmin, xmax = xlim()\n",
    "ymin, ymax = ylim()\n",
    "y1 = (1+b3-w3[1]*xmin)/w3[2]\n",
    "y2 = (1+b3-w3[1]*xmax)/w3[2]\n",
    "plot([xmin,xmax], [y1,y2], \"k-\");\n",
    "y1 = (-1+b3-w3[1]*xmin)/w3[2]\n",
    "y2 = (-1+b3-w3[1]*xmax)/w3[2]\n",
    "plot([xmin,xmax], [y1,y2], \"k-\");\n",
    "y1 = (b3-w3[1]*xmin)/w3[2]\n",
    "y2 = (b3-w3[1]*xmax)/w3[2]\n",
    "ylim(ymin,ymax)\n",
    "plot([xmin,xmax], [y1,y2], \"k-\");"
   ]
  },
  {
   "cell_type": "markdown",
   "metadata": {},
   "source": [
    "# $l_0$ norm case"
   ]
  },
  {
   "cell_type": "code",
   "execution_count": 13,
   "metadata": {},
   "outputs": [
    {
     "data": {
      "text/plain": [
       "l0_svm (generic function with 1 method)"
      ]
     },
     "execution_count": 13,
     "metadata": {},
     "output_type": "execute_result"
    }
   ],
   "source": [
    "using JuMP\n",
    "const γ = 0.005\n",
    "const λ2 = 100.0\n",
    "const M = 1000.0 #can get better constants than this.\n",
    "function l0_svm(x,y)\n",
    "    n = size(x,1) # problem dimension\n",
    "    N = size(x,2) # number of points\n",
    "    \n",
    "    svmModel=Model(solver=GurobiSolver()) #Change to the solver you are using\n",
    "    @variable(svmModel, w[1:n])\n",
    "    @variable(svmModel, b)\n",
    "    @variable(svmModel, z[1:N]>=0)\n",
    "    @variable(svmModel, s[1:n], Bin)\n",
    "    @objective(svmModel, Min, γ*w'*w+sum(z)+λ2*sum(s))\n",
    "\n",
    "    #########################################################\n",
    "    \n",
    "    ##### Add the constraints and objective here ###########\n",
    "\n",
    "    #########################################################\n",
    "    \n",
    "    status=solve(svmModel)\n",
    "    return getvalue(w), getvalue(b)\n",
    "end"
   ]
  },
  {
   "cell_type": "code",
   "execution_count": 14,
   "metadata": {},
   "outputs": [
    {
     "ename": "UndefVarError",
     "evalue": "UndefVarError: x not defined",
     "output_type": "error",
     "traceback": [
      "UndefVarError: x not defined",
      "",
      "Stacktrace:",
      " [1] top-level scope at In[14]:1"
     ]
    }
   ],
   "source": [
    "w4,b4 = l0_svm(x,y)"
   ]
  },
  {
   "cell_type": "code",
   "execution_count": 15,
   "metadata": {},
   "outputs": [
    {
     "ename": "UndefVarError",
     "evalue": "UndefVarError: x not defined",
     "output_type": "error",
     "traceback": [
      "UndefVarError: x not defined",
      "",
      "Stacktrace:",
      " [1] top-level scope at In[15]:1"
     ]
    }
   ],
   "source": [
    "plot(x[1,1:N], x[2,1:N], \"ro\", x[1,(N+1):2N], x[2,(N+1):2N], \"bo\");\n",
    "\n",
    "xmin, xmax = xlim()\n",
    "ymin, ymax = ylim()\n",
    "y1 = (1+b4-w4[1]*xmin)/(w4[2]+1e-8)\n",
    "y2 = (1+b4-w4[1]*xmax)/(w4[2]+1e-8)\n",
    "plot([xmin,xmax], [y1,y2], \"k-\");\n",
    "y1 = (-1+b4-w4[1]*xmin)/(w4[2]+1e-8)\n",
    "y2 = (-1+b4-w3[1]*xmax)/(w4[2]+1e-8)\n",
    "plot([xmin,xmax], [y1,y2], \"k-\");\n",
    "y1 = (b4-w4[1]*xmin)/(w4[2]+1e-8)\n",
    "y2 = (b4-w4[1]*xmax)/(w4[2]+1e-8)\n",
    "ylim(ymin,ymax)\n",
    "plot([xmin,xmax], [y1,y2], \"k-\");"
   ]
  },
  {
   "cell_type": "markdown",
   "metadata": {},
   "source": [
    "Comments:\n",
    "\n",
    "* As we expect, the $l_0$ approach gives a more interpretable classification, while the $l_1$ approach is faster.\n",
    "* If we were to increase the dimensionality of the problem from 2d, the $l_0$ approach would work brilliantly until some threshold between $n=100$ and $n=200$, and beyond this threshold it would struggle to even find feasible solutions (we can get around this with stronger big-M free formulations).\n",
    "* We should not have any issues solving the $l_1$ formulation, provided we can fit the problem in memory."
   ]
  },
  {
   "cell_type": "markdown",
   "metadata": {},
   "source": [
    "# Credit"
   ]
  },
  {
   "cell_type": "markdown",
   "metadata": {},
   "source": [
    "Some of this material is adapted from the 2016 version of this course, written by Yeesian Ng and Miles Lubin. "
   ]
  }
 ],
 "metadata": {
  "kernelspec": {
   "display_name": "Julia 0.7.0",
   "language": "julia",
   "name": "julia-0.7"
  },
  "language_info": {
   "file_extension": ".jl",
   "mimetype": "application/julia",
   "name": "julia",
   "version": "0.7.0"
  }
 },
 "nbformat": 4,
 "nbformat_minor": 2
}
