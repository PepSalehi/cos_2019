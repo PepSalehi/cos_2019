{
 "cells": [
  {
   "cell_type": "markdown",
   "metadata": {},
   "source": [
    "# Preamble: What do we care about when we solve optimization problems?"
   ]
  },
  {
   "cell_type": "markdown",
   "metadata": {},
   "source": [
    "**We care about four distinct attributes:**\n",
    "\n",
    "1) **Correctness** (Are \"feasible\" solutions feasible? Are \"optimal\" solutions optimal?)\n",
    "\n",
    "2) **Time taken** (fast is every user's favourite feature).\n",
    "\n",
    "3) **Bound quality** (how good is the lower bound?).\n",
    "\n",
    "4) **Solution quality** (how good is the best solution identified?)\n",
    "\n",
    "\n",
    "How do we obtain these four attributes?\n",
    "\n",
    "1) **Test your code regularly, with real data**\n",
    "  * There might be bugs in any of the following:\n",
    "    * Your data (even if you acquired it from a well-known repository).\n",
    "    * Your code.\n",
    "    * Julia (the solver interface (CPLEX.jl, Gurobi.jl), JuMP, Julia base.).\n",
    "    * The solver: I have personally seen bugs in both CPLEX and Gurobi, open-source solvers are even less reliable.\n",
    "  * You need to create test scripts before you start developing Julia code, and run these every time you make changes to your code, or update anything, to verify correctness.\n",
    "      * This includes changing your Gurobi version, executing Pkg.update().\n",
    "  * Synthetic data makes for bad test cases: if possible, use real data (e.g. from repositories, the literature).\n",
    "   \n",
    "2) **Adjust your expectations**\n",
    "   * Adjust the solve time: if you obtain a feasible solution, then you can terminate early.\n",
    "   * Adjust the optimality tolerance: since your data is probably not error free, the benefits of closing the optimality gap from 1% to 0% are probably limited.\n",
    "   * Improve 3-4.\n",
    "   \n",
    "3) **Get Better Relaxations**\n",
    "  * Cuts (improve the lower bounds).\n",
    "    * Tune solver cuts.\n",
    "    * Add clever problem-specific cuts.\n",
    "    * Branching strategies (construct the tree in a smart way).\n",
    "    * Subproblem solution strategies (how we solve each node of the branch-and-bound tree).\n",
    "  * Apriori lower bounds (e.g. from QCQP, SOCP, SDP).\n",
    "    \n",
    "4) **Use Heuristics for Warm-Starts**\n",
    "* Heuristics (improve the upper bounds via feasible solutions).\n",
    "\n",
    "**In the rest of this session, we will discuss how these four attributes fit in an optimization framework, with emphasis on correctness.**"
   ]
  },
  {
   "cell_type": "code",
   "execution_count": null,
   "metadata": {},
   "outputs": [],
   "source": []
  }
 ],
 "metadata": {
  "kernelspec": {
   "display_name": "Julia 0.7.0",
   "language": "julia",
   "name": "julia-0.7"
  },
  "language_info": {
   "file_extension": ".jl",
   "mimetype": "application/julia",
   "name": "julia",
   "version": "0.7.0"
  }
 },
 "nbformat": 4,
 "nbformat_minor": 2
}
