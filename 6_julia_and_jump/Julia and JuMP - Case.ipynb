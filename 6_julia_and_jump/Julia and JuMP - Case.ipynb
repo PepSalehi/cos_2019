{
 "cells": [
  {
   "cell_type": "markdown",
   "metadata": {},
   "source": [
    "# Introduction to Julia and JuMP: Case study\n",
    "\n",
    "In this session, we will explore the basic functionalities of Julia"
   ]
  },
  {
   "cell_type": "markdown",
   "metadata": {},
   "source": [
    "### Step 1: Data import \n",
    "We will work on a credit report data set from UCI ML repository"
   ]
  },
  {
   "cell_type": "code",
   "execution_count": 10,
   "metadata": {},
   "outputs": [],
   "source": [
    "using DataFrames"
   ]
  },
  {
   "cell_type": "code",
   "execution_count": 20,
   "metadata": {
    "collapsed": true
   },
   "outputs": [
    {
     "data": {
      "text/html": [
       "<table class=\"data-frame\"><thead><tr><th></th><th>x1</th><th>x2</th><th>x3</th><th>x4</th><th>x5</th><th>x6</th><th>x7</th><th>x8</th><th>x9</th><th>x10</th><th>x11</th><th>x12</th><th>x13</th><th>x14</th><th>x15</th></tr><tr><th></th><th>Int64⍰</th><th>Float64⍰</th><th>Float64⍰</th><th>Int64⍰</th><th>Int64⍰</th><th>Int64⍰</th><th>Float64⍰</th><th>Int64⍰</th><th>Int64⍰</th><th>Int64⍰</th><th>Int64⍰</th><th>Int64⍰</th><th>Int64⍰</th><th>Int64⍰</th><th>Int64⍰</th></tr></thead><tbody><tr><th>1</th><td>1</td><td>22.08</td><td>11.46</td><td>2</td><td>4</td><td>4</td><td>1.585</td><td>0</td><td>0</td><td>0</td><td>1</td><td>2</td><td>100</td><td>1213</td><td>0</td></tr><tr><th>2</th><td>0</td><td>22.67</td><td>7.0</td><td>2</td><td>8</td><td>4</td><td>0.165</td><td>0</td><td>0</td><td>0</td><td>0</td><td>2</td><td>160</td><td>1</td><td>0</td></tr><tr><th>3</th><td>0</td><td>29.58</td><td>1.75</td><td>1</td><td>4</td><td>4</td><td>1.25</td><td>0</td><td>0</td><td>0</td><td>1</td><td>2</td><td>280</td><td>1</td><td>0</td></tr><tr><th>4</th><td>0</td><td>21.67</td><td>11.5</td><td>1</td><td>5</td><td>3</td><td>0.0</td><td>1</td><td>1</td><td>11</td><td>1</td><td>2</td><td>0</td><td>1</td><td>1</td></tr><tr><th>5</th><td>1</td><td>20.17</td><td>8.17</td><td>2</td><td>6</td><td>4</td><td>1.96</td><td>1</td><td>1</td><td>14</td><td>0</td><td>2</td><td>60</td><td>159</td><td>1</td></tr><tr><th>6</th><td>0</td><td>15.83</td><td>0.585</td><td>2</td><td>8</td><td>8</td><td>1.5</td><td>1</td><td>1</td><td>2</td><td>0</td><td>2</td><td>100</td><td>1</td><td>1</td></tr><tr><th>7</th><td>1</td><td>17.42</td><td>6.5</td><td>2</td><td>3</td><td>4</td><td>0.125</td><td>0</td><td>0</td><td>0</td><td>0</td><td>2</td><td>60</td><td>101</td><td>0</td></tr><tr><th>8</th><td>0</td><td>58.67</td><td>4.46</td><td>2</td><td>11</td><td>8</td><td>3.04</td><td>1</td><td>1</td><td>6</td><td>0</td><td>2</td><td>43</td><td>561</td><td>1</td></tr><tr><th>9</th><td>1</td><td>27.83</td><td>1.0</td><td>1</td><td>2</td><td>8</td><td>3.0</td><td>0</td><td>0</td><td>0</td><td>0</td><td>2</td><td>176</td><td>538</td><td>0</td></tr><tr><th>10</th><td>0</td><td>55.75</td><td>7.08</td><td>2</td><td>4</td><td>8</td><td>6.75</td><td>1</td><td>1</td><td>3</td><td>1</td><td>2</td><td>100</td><td>51</td><td>0</td></tr><tr><th>11</th><td>1</td><td>33.5</td><td>1.75</td><td>2</td><td>14</td><td>8</td><td>4.5</td><td>1</td><td>1</td><td>4</td><td>1</td><td>2</td><td>253</td><td>858</td><td>1</td></tr><tr><th>12</th><td>1</td><td>41.42</td><td>5.0</td><td>2</td><td>11</td><td>8</td><td>5.0</td><td>1</td><td>1</td><td>6</td><td>1</td><td>2</td><td>470</td><td>1</td><td>1</td></tr><tr><th>13</th><td>1</td><td>20.67</td><td>1.25</td><td>1</td><td>8</td><td>8</td><td>1.375</td><td>1</td><td>1</td><td>3</td><td>1</td><td>2</td><td>140</td><td>211</td><td>0</td></tr><tr><th>14</th><td>1</td><td>34.92</td><td>5.0</td><td>2</td><td>14</td><td>8</td><td>7.5</td><td>1</td><td>1</td><td>6</td><td>1</td><td>2</td><td>0</td><td>1001</td><td>1</td></tr><tr><th>15</th><td>1</td><td>58.58</td><td>2.71</td><td>2</td><td>8</td><td>4</td><td>2.415</td><td>0</td><td>0</td><td>0</td><td>1</td><td>2</td><td>320</td><td>1</td><td>0</td></tr><tr><th>16</th><td>1</td><td>48.08</td><td>6.04</td><td>2</td><td>4</td><td>4</td><td>0.04</td><td>0</td><td>0</td><td>0</td><td>0</td><td>2</td><td>0</td><td>2691</td><td>1</td></tr><tr><th>17</th><td>1</td><td>29.58</td><td>4.5</td><td>2</td><td>9</td><td>4</td><td>7.5</td><td>1</td><td>1</td><td>2</td><td>1</td><td>2</td><td>330</td><td>1</td><td>1</td></tr><tr><th>18</th><td>0</td><td>18.92</td><td>9.0</td><td>2</td><td>6</td><td>4</td><td>0.75</td><td>1</td><td>1</td><td>2</td><td>0</td><td>2</td><td>88</td><td>592</td><td>1</td></tr><tr><th>19</th><td>1</td><td>20.0</td><td>1.25</td><td>1</td><td>4</td><td>4</td><td>0.125</td><td>0</td><td>0</td><td>0</td><td>0</td><td>2</td><td>140</td><td>5</td><td>0</td></tr><tr><th>20</th><td>0</td><td>22.42</td><td>5.665</td><td>2</td><td>11</td><td>4</td><td>2.585</td><td>1</td><td>1</td><td>7</td><td>0</td><td>2</td><td>129</td><td>3258</td><td>1</td></tr><tr><th>21</th><td>0</td><td>28.17</td><td>0.585</td><td>2</td><td>6</td><td>4</td><td>0.04</td><td>0</td><td>0</td><td>0</td><td>0</td><td>2</td><td>260</td><td>1005</td><td>0</td></tr><tr><th>22</th><td>0</td><td>19.17</td><td>0.585</td><td>1</td><td>6</td><td>4</td><td>0.585</td><td>1</td><td>0</td><td>0</td><td>1</td><td>2</td><td>160</td><td>1</td><td>0</td></tr><tr><th>23</th><td>1</td><td>41.17</td><td>1.335</td><td>2</td><td>2</td><td>4</td><td>0.165</td><td>0</td><td>0</td><td>0</td><td>0</td><td>2</td><td>168</td><td>1</td><td>0</td></tr><tr><th>24</th><td>1</td><td>41.58</td><td>1.75</td><td>2</td><td>4</td><td>4</td><td>0.21</td><td>1</td><td>0</td><td>0</td><td>0</td><td>2</td><td>160</td><td>1</td><td>0</td></tr><tr><th>25</th><td>1</td><td>19.5</td><td>9.585</td><td>2</td><td>6</td><td>4</td><td>0.79</td><td>0</td><td>0</td><td>0</td><td>0</td><td>2</td><td>80</td><td>351</td><td>0</td></tr><tr><th>26</th><td>1</td><td>32.75</td><td>1.5</td><td>2</td><td>13</td><td>8</td><td>5.5</td><td>1</td><td>1</td><td>3</td><td>1</td><td>2</td><td>0</td><td>1</td><td>1</td></tr><tr><th>27</th><td>1</td><td>22.5</td><td>0.125</td><td>1</td><td>4</td><td>4</td><td>0.125</td><td>0</td><td>0</td><td>0</td><td>0</td><td>2</td><td>200</td><td>71</td><td>0</td></tr><tr><th>28</th><td>1</td><td>33.17</td><td>3.04</td><td>1</td><td>8</td><td>8</td><td>2.04</td><td>1</td><td>1</td><td>1</td><td>1</td><td>2</td><td>180</td><td>18028</td><td>1</td></tr><tr><th>29</th><td>0</td><td>30.67</td><td>12.0</td><td>2</td><td>8</td><td>4</td><td>2.0</td><td>1</td><td>1</td><td>1</td><td>0</td><td>2</td><td>220</td><td>20</td><td>1</td></tr><tr><th>30</th><td>1</td><td>23.08</td><td>2.5</td><td>2</td><td>8</td><td>4</td><td>1.085</td><td>1</td><td>1</td><td>11</td><td>1</td><td>2</td><td>60</td><td>2185</td><td>1</td></tr><tr><th>&vellip;</th><td>&vellip;</td><td>&vellip;</td><td>&vellip;</td><td>&vellip;</td><td>&vellip;</td><td>&vellip;</td><td>&vellip;</td><td>&vellip;</td><td>&vellip;</td><td>&vellip;</td><td>&vellip;</td><td>&vellip;</td><td>&vellip;</td><td>&vellip;</td><td>&vellip;</td></tr></tbody></table>"
      ],
      "text/plain": [
       "690×15 DataFrame. Omitted printing of 8 columns\n",
       "│ Row │ x1     │ x2       │ x3       │ x4     │ x5     │ x6     │ x7       │\n",
       "│     │ \u001b[90mInt64⍰\u001b[39m │ \u001b[90mFloat64⍰\u001b[39m │ \u001b[90mFloat64⍰\u001b[39m │ \u001b[90mInt64⍰\u001b[39m │ \u001b[90mInt64⍰\u001b[39m │ \u001b[90mInt64⍰\u001b[39m │ \u001b[90mFloat64⍰\u001b[39m │\n",
       "├─────┼────────┼──────────┼──────────┼────────┼────────┼────────┼──────────┤\n",
       "│ 1   │ 1      │ 22.08    │ 11.46    │ 2      │ 4      │ 4      │ 1.585    │\n",
       "│ 2   │ 0      │ 22.67    │ 7.0      │ 2      │ 8      │ 4      │ 0.165    │\n",
       "│ 3   │ 0      │ 29.58    │ 1.75     │ 1      │ 4      │ 4      │ 1.25     │\n",
       "│ 4   │ 0      │ 21.67    │ 11.5     │ 1      │ 5      │ 3      │ 0.0      │\n",
       "│ 5   │ 1      │ 20.17    │ 8.17     │ 2      │ 6      │ 4      │ 1.96     │\n",
       "│ 6   │ 0      │ 15.83    │ 0.585    │ 2      │ 8      │ 8      │ 1.5      │\n",
       "│ 7   │ 1      │ 17.42    │ 6.5      │ 2      │ 3      │ 4      │ 0.125    │\n",
       "│ 8   │ 0      │ 58.67    │ 4.46     │ 2      │ 11     │ 8      │ 3.04     │\n",
       "│ 9   │ 1      │ 27.83    │ 1.0      │ 1      │ 2      │ 8      │ 3.0      │\n",
       "│ 10  │ 0      │ 55.75    │ 7.08     │ 2      │ 4      │ 8      │ 6.75     │\n",
       "⋮\n",
       "│ 680 │ 1      │ 48.58    │ 0.205    │ 1      │ 4      │ 4      │ 0.25     │\n",
       "│ 681 │ 1      │ 21.17    │ 0.0      │ 2      │ 8      │ 4      │ 0.5      │\n",
       "│ 682 │ 1      │ 35.25    │ 16.5     │ 1      │ 8      │ 4      │ 4.0      │\n",
       "│ 683 │ 0      │ 22.92    │ 11.585   │ 2      │ 13     │ 4      │ 0.04     │\n",
       "│ 684 │ 0      │ 48.17    │ 1.335    │ 2      │ 3      │ 7      │ 0.335    │\n",
       "│ 685 │ 1      │ 43.0     │ 0.29     │ 1      │ 13     │ 8      │ 1.75     │\n",
       "│ 686 │ 1      │ 31.57    │ 10.5     │ 2      │ 14     │ 4      │ 6.5      │\n",
       "│ 687 │ 1      │ 20.67    │ 0.415    │ 2      │ 8      │ 4      │ 0.125    │\n",
       "│ 688 │ 0      │ 18.83    │ 9.54     │ 2      │ 6      │ 4      │ 0.085    │\n",
       "│ 689 │ 0      │ 27.42    │ 14.5     │ 2      │ 14     │ 8      │ 3.085    │\n",
       "│ 690 │ 1      │ 41.0     │ 0.04     │ 2      │ 10     │ 4      │ 0.04     │"
      ]
     },
     "execution_count": 20,
     "metadata": {},
     "output_type": "execute_result"
    }
   ],
   "source": [
    "df = DataFrames.readtable(\"data/australian.dat.txt\", header=false, separator=' ')"
   ]
  },
  {
   "cell_type": "markdown",
   "metadata": {},
   "source": [
    "Let us make basic dataframes manipulation"
   ]
  },
  {
   "cell_type": "markdown",
   "metadata": {},
   "source": [
    "#### Q1: rename last column (output) :x15 into :y"
   ]
  },
  {
   "cell_type": "code",
   "execution_count": 21,
   "metadata": {
    "collapsed": true
   },
   "outputs": [
    {
     "data": {
      "text/plain": [
       "15-element Array{Symbol,1}:\n",
       " :x1 \n",
       " :x2 \n",
       " :x3 \n",
       " :x4 \n",
       " :x5 \n",
       " :x6 \n",
       " :x7 \n",
       " :x8 \n",
       " :x9 \n",
       " :x10\n",
       " :x11\n",
       " :x12\n",
       " :x13\n",
       " :x14\n",
       " :x15"
      ]
     },
     "execution_count": 21,
     "metadata": {},
     "output_type": "execute_result"
    }
   ],
   "source": [
    "DataFrames.names(df)"
   ]
  },
  {
   "cell_type": "code",
   "execution_count": 22,
   "metadata": {
    "collapsed": true
   },
   "outputs": [
    {
     "data": {
      "text/html": [
       "<table class=\"data-frame\"><thead><tr><th></th><th>x1</th><th>x2</th><th>x3</th><th>x4</th><th>x5</th><th>x6</th><th>x7</th><th>x8</th><th>x9</th><th>x10</th><th>x11</th><th>x12</th><th>x13</th><th>x14</th><th>y</th></tr><tr><th></th><th>Int64⍰</th><th>Float64⍰</th><th>Float64⍰</th><th>Int64⍰</th><th>Int64⍰</th><th>Int64⍰</th><th>Float64⍰</th><th>Int64⍰</th><th>Int64⍰</th><th>Int64⍰</th><th>Int64⍰</th><th>Int64⍰</th><th>Int64⍰</th><th>Int64⍰</th><th>Int64⍰</th></tr></thead><tbody><tr><th>1</th><td>1</td><td>22.08</td><td>11.46</td><td>2</td><td>4</td><td>4</td><td>1.585</td><td>0</td><td>0</td><td>0</td><td>1</td><td>2</td><td>100</td><td>1213</td><td>0</td></tr><tr><th>2</th><td>0</td><td>22.67</td><td>7.0</td><td>2</td><td>8</td><td>4</td><td>0.165</td><td>0</td><td>0</td><td>0</td><td>0</td><td>2</td><td>160</td><td>1</td><td>0</td></tr><tr><th>3</th><td>0</td><td>29.58</td><td>1.75</td><td>1</td><td>4</td><td>4</td><td>1.25</td><td>0</td><td>0</td><td>0</td><td>1</td><td>2</td><td>280</td><td>1</td><td>0</td></tr><tr><th>4</th><td>0</td><td>21.67</td><td>11.5</td><td>1</td><td>5</td><td>3</td><td>0.0</td><td>1</td><td>1</td><td>11</td><td>1</td><td>2</td><td>0</td><td>1</td><td>1</td></tr><tr><th>5</th><td>1</td><td>20.17</td><td>8.17</td><td>2</td><td>6</td><td>4</td><td>1.96</td><td>1</td><td>1</td><td>14</td><td>0</td><td>2</td><td>60</td><td>159</td><td>1</td></tr><tr><th>6</th><td>0</td><td>15.83</td><td>0.585</td><td>2</td><td>8</td><td>8</td><td>1.5</td><td>1</td><td>1</td><td>2</td><td>0</td><td>2</td><td>100</td><td>1</td><td>1</td></tr><tr><th>7</th><td>1</td><td>17.42</td><td>6.5</td><td>2</td><td>3</td><td>4</td><td>0.125</td><td>0</td><td>0</td><td>0</td><td>0</td><td>2</td><td>60</td><td>101</td><td>0</td></tr><tr><th>8</th><td>0</td><td>58.67</td><td>4.46</td><td>2</td><td>11</td><td>8</td><td>3.04</td><td>1</td><td>1</td><td>6</td><td>0</td><td>2</td><td>43</td><td>561</td><td>1</td></tr><tr><th>9</th><td>1</td><td>27.83</td><td>1.0</td><td>1</td><td>2</td><td>8</td><td>3.0</td><td>0</td><td>0</td><td>0</td><td>0</td><td>2</td><td>176</td><td>538</td><td>0</td></tr><tr><th>10</th><td>0</td><td>55.75</td><td>7.08</td><td>2</td><td>4</td><td>8</td><td>6.75</td><td>1</td><td>1</td><td>3</td><td>1</td><td>2</td><td>100</td><td>51</td><td>0</td></tr><tr><th>11</th><td>1</td><td>33.5</td><td>1.75</td><td>2</td><td>14</td><td>8</td><td>4.5</td><td>1</td><td>1</td><td>4</td><td>1</td><td>2</td><td>253</td><td>858</td><td>1</td></tr><tr><th>12</th><td>1</td><td>41.42</td><td>5.0</td><td>2</td><td>11</td><td>8</td><td>5.0</td><td>1</td><td>1</td><td>6</td><td>1</td><td>2</td><td>470</td><td>1</td><td>1</td></tr><tr><th>13</th><td>1</td><td>20.67</td><td>1.25</td><td>1</td><td>8</td><td>8</td><td>1.375</td><td>1</td><td>1</td><td>3</td><td>1</td><td>2</td><td>140</td><td>211</td><td>0</td></tr><tr><th>14</th><td>1</td><td>34.92</td><td>5.0</td><td>2</td><td>14</td><td>8</td><td>7.5</td><td>1</td><td>1</td><td>6</td><td>1</td><td>2</td><td>0</td><td>1001</td><td>1</td></tr><tr><th>15</th><td>1</td><td>58.58</td><td>2.71</td><td>2</td><td>8</td><td>4</td><td>2.415</td><td>0</td><td>0</td><td>0</td><td>1</td><td>2</td><td>320</td><td>1</td><td>0</td></tr><tr><th>16</th><td>1</td><td>48.08</td><td>6.04</td><td>2</td><td>4</td><td>4</td><td>0.04</td><td>0</td><td>0</td><td>0</td><td>0</td><td>2</td><td>0</td><td>2691</td><td>1</td></tr><tr><th>17</th><td>1</td><td>29.58</td><td>4.5</td><td>2</td><td>9</td><td>4</td><td>7.5</td><td>1</td><td>1</td><td>2</td><td>1</td><td>2</td><td>330</td><td>1</td><td>1</td></tr><tr><th>18</th><td>0</td><td>18.92</td><td>9.0</td><td>2</td><td>6</td><td>4</td><td>0.75</td><td>1</td><td>1</td><td>2</td><td>0</td><td>2</td><td>88</td><td>592</td><td>1</td></tr><tr><th>19</th><td>1</td><td>20.0</td><td>1.25</td><td>1</td><td>4</td><td>4</td><td>0.125</td><td>0</td><td>0</td><td>0</td><td>0</td><td>2</td><td>140</td><td>5</td><td>0</td></tr><tr><th>20</th><td>0</td><td>22.42</td><td>5.665</td><td>2</td><td>11</td><td>4</td><td>2.585</td><td>1</td><td>1</td><td>7</td><td>0</td><td>2</td><td>129</td><td>3258</td><td>1</td></tr><tr><th>21</th><td>0</td><td>28.17</td><td>0.585</td><td>2</td><td>6</td><td>4</td><td>0.04</td><td>0</td><td>0</td><td>0</td><td>0</td><td>2</td><td>260</td><td>1005</td><td>0</td></tr><tr><th>22</th><td>0</td><td>19.17</td><td>0.585</td><td>1</td><td>6</td><td>4</td><td>0.585</td><td>1</td><td>0</td><td>0</td><td>1</td><td>2</td><td>160</td><td>1</td><td>0</td></tr><tr><th>23</th><td>1</td><td>41.17</td><td>1.335</td><td>2</td><td>2</td><td>4</td><td>0.165</td><td>0</td><td>0</td><td>0</td><td>0</td><td>2</td><td>168</td><td>1</td><td>0</td></tr><tr><th>24</th><td>1</td><td>41.58</td><td>1.75</td><td>2</td><td>4</td><td>4</td><td>0.21</td><td>1</td><td>0</td><td>0</td><td>0</td><td>2</td><td>160</td><td>1</td><td>0</td></tr><tr><th>25</th><td>1</td><td>19.5</td><td>9.585</td><td>2</td><td>6</td><td>4</td><td>0.79</td><td>0</td><td>0</td><td>0</td><td>0</td><td>2</td><td>80</td><td>351</td><td>0</td></tr><tr><th>26</th><td>1</td><td>32.75</td><td>1.5</td><td>2</td><td>13</td><td>8</td><td>5.5</td><td>1</td><td>1</td><td>3</td><td>1</td><td>2</td><td>0</td><td>1</td><td>1</td></tr><tr><th>27</th><td>1</td><td>22.5</td><td>0.125</td><td>1</td><td>4</td><td>4</td><td>0.125</td><td>0</td><td>0</td><td>0</td><td>0</td><td>2</td><td>200</td><td>71</td><td>0</td></tr><tr><th>28</th><td>1</td><td>33.17</td><td>3.04</td><td>1</td><td>8</td><td>8</td><td>2.04</td><td>1</td><td>1</td><td>1</td><td>1</td><td>2</td><td>180</td><td>18028</td><td>1</td></tr><tr><th>29</th><td>0</td><td>30.67</td><td>12.0</td><td>2</td><td>8</td><td>4</td><td>2.0</td><td>1</td><td>1</td><td>1</td><td>0</td><td>2</td><td>220</td><td>20</td><td>1</td></tr><tr><th>30</th><td>1</td><td>23.08</td><td>2.5</td><td>2</td><td>8</td><td>4</td><td>1.085</td><td>1</td><td>1</td><td>11</td><td>1</td><td>2</td><td>60</td><td>2185</td><td>1</td></tr><tr><th>&vellip;</th><td>&vellip;</td><td>&vellip;</td><td>&vellip;</td><td>&vellip;</td><td>&vellip;</td><td>&vellip;</td><td>&vellip;</td><td>&vellip;</td><td>&vellip;</td><td>&vellip;</td><td>&vellip;</td><td>&vellip;</td><td>&vellip;</td><td>&vellip;</td><td>&vellip;</td></tr></tbody></table>"
      ],
      "text/plain": [
       "690×15 DataFrame. Omitted printing of 8 columns\n",
       "│ Row │ x1     │ x2       │ x3       │ x4     │ x5     │ x6     │ x7       │\n",
       "│     │ \u001b[90mInt64⍰\u001b[39m │ \u001b[90mFloat64⍰\u001b[39m │ \u001b[90mFloat64⍰\u001b[39m │ \u001b[90mInt64⍰\u001b[39m │ \u001b[90mInt64⍰\u001b[39m │ \u001b[90mInt64⍰\u001b[39m │ \u001b[90mFloat64⍰\u001b[39m │\n",
       "├─────┼────────┼──────────┼──────────┼────────┼────────┼────────┼──────────┤\n",
       "│ 1   │ 1      │ 22.08    │ 11.46    │ 2      │ 4      │ 4      │ 1.585    │\n",
       "│ 2   │ 0      │ 22.67    │ 7.0      │ 2      │ 8      │ 4      │ 0.165    │\n",
       "│ 3   │ 0      │ 29.58    │ 1.75     │ 1      │ 4      │ 4      │ 1.25     │\n",
       "│ 4   │ 0      │ 21.67    │ 11.5     │ 1      │ 5      │ 3      │ 0.0      │\n",
       "│ 5   │ 1      │ 20.17    │ 8.17     │ 2      │ 6      │ 4      │ 1.96     │\n",
       "│ 6   │ 0      │ 15.83    │ 0.585    │ 2      │ 8      │ 8      │ 1.5      │\n",
       "│ 7   │ 1      │ 17.42    │ 6.5      │ 2      │ 3      │ 4      │ 0.125    │\n",
       "│ 8   │ 0      │ 58.67    │ 4.46     │ 2      │ 11     │ 8      │ 3.04     │\n",
       "│ 9   │ 1      │ 27.83    │ 1.0      │ 1      │ 2      │ 8      │ 3.0      │\n",
       "│ 10  │ 0      │ 55.75    │ 7.08     │ 2      │ 4      │ 8      │ 6.75     │\n",
       "⋮\n",
       "│ 680 │ 1      │ 48.58    │ 0.205    │ 1      │ 4      │ 4      │ 0.25     │\n",
       "│ 681 │ 1      │ 21.17    │ 0.0      │ 2      │ 8      │ 4      │ 0.5      │\n",
       "│ 682 │ 1      │ 35.25    │ 16.5     │ 1      │ 8      │ 4      │ 4.0      │\n",
       "│ 683 │ 0      │ 22.92    │ 11.585   │ 2      │ 13     │ 4      │ 0.04     │\n",
       "│ 684 │ 0      │ 48.17    │ 1.335    │ 2      │ 3      │ 7      │ 0.335    │\n",
       "│ 685 │ 1      │ 43.0     │ 0.29     │ 1      │ 13     │ 8      │ 1.75     │\n",
       "│ 686 │ 1      │ 31.57    │ 10.5     │ 2      │ 14     │ 4      │ 6.5      │\n",
       "│ 687 │ 1      │ 20.67    │ 0.415    │ 2      │ 8      │ 4      │ 0.125    │\n",
       "│ 688 │ 0      │ 18.83    │ 9.54     │ 2      │ 6      │ 4      │ 0.085    │\n",
       "│ 689 │ 0      │ 27.42    │ 14.5     │ 2      │ 14     │ 8      │ 3.085    │\n",
       "│ 690 │ 1      │ 41.0     │ 0.04     │ 2      │ 10     │ 4      │ 0.04     │"
      ]
     },
     "execution_count": 22,
     "metadata": {},
     "output_type": "execute_result"
    }
   ],
   "source": [
    "DataFrames.rename(df, (:x15 => :y))"
   ]
  },
  {
   "cell_type": "markdown",
   "metadata": {},
   "source": [
    "But did not change the original table df"
   ]
  },
  {
   "cell_type": "code",
   "execution_count": 24,
   "metadata": {
    "collapsed": true
   },
   "outputs": [
    {
     "data": {
      "text/html": [
       "<table class=\"data-frame\"><thead><tr><th></th><th>x1</th><th>x2</th><th>x3</th><th>x4</th><th>x5</th><th>x6</th><th>x7</th><th>x8</th><th>x9</th><th>x10</th><th>x11</th><th>x12</th><th>x13</th><th>x14</th><th>x15</th></tr><tr><th></th><th>Int64⍰</th><th>Float64⍰</th><th>Float64⍰</th><th>Int64⍰</th><th>Int64⍰</th><th>Int64⍰</th><th>Float64⍰</th><th>Int64⍰</th><th>Int64⍰</th><th>Int64⍰</th><th>Int64⍰</th><th>Int64⍰</th><th>Int64⍰</th><th>Int64⍰</th><th>Int64⍰</th></tr></thead><tbody><tr><th>1</th><td>1</td><td>22.08</td><td>11.46</td><td>2</td><td>4</td><td>4</td><td>1.585</td><td>0</td><td>0</td><td>0</td><td>1</td><td>2</td><td>100</td><td>1213</td><td>0</td></tr><tr><th>2</th><td>0</td><td>22.67</td><td>7.0</td><td>2</td><td>8</td><td>4</td><td>0.165</td><td>0</td><td>0</td><td>0</td><td>0</td><td>2</td><td>160</td><td>1</td><td>0</td></tr><tr><th>3</th><td>0</td><td>29.58</td><td>1.75</td><td>1</td><td>4</td><td>4</td><td>1.25</td><td>0</td><td>0</td><td>0</td><td>1</td><td>2</td><td>280</td><td>1</td><td>0</td></tr><tr><th>4</th><td>0</td><td>21.67</td><td>11.5</td><td>1</td><td>5</td><td>3</td><td>0.0</td><td>1</td><td>1</td><td>11</td><td>1</td><td>2</td><td>0</td><td>1</td><td>1</td></tr><tr><th>5</th><td>1</td><td>20.17</td><td>8.17</td><td>2</td><td>6</td><td>4</td><td>1.96</td><td>1</td><td>1</td><td>14</td><td>0</td><td>2</td><td>60</td><td>159</td><td>1</td></tr><tr><th>6</th><td>0</td><td>15.83</td><td>0.585</td><td>2</td><td>8</td><td>8</td><td>1.5</td><td>1</td><td>1</td><td>2</td><td>0</td><td>2</td><td>100</td><td>1</td><td>1</td></tr><tr><th>7</th><td>1</td><td>17.42</td><td>6.5</td><td>2</td><td>3</td><td>4</td><td>0.125</td><td>0</td><td>0</td><td>0</td><td>0</td><td>2</td><td>60</td><td>101</td><td>0</td></tr><tr><th>8</th><td>0</td><td>58.67</td><td>4.46</td><td>2</td><td>11</td><td>8</td><td>3.04</td><td>1</td><td>1</td><td>6</td><td>0</td><td>2</td><td>43</td><td>561</td><td>1</td></tr><tr><th>9</th><td>1</td><td>27.83</td><td>1.0</td><td>1</td><td>2</td><td>8</td><td>3.0</td><td>0</td><td>0</td><td>0</td><td>0</td><td>2</td><td>176</td><td>538</td><td>0</td></tr><tr><th>10</th><td>0</td><td>55.75</td><td>7.08</td><td>2</td><td>4</td><td>8</td><td>6.75</td><td>1</td><td>1</td><td>3</td><td>1</td><td>2</td><td>100</td><td>51</td><td>0</td></tr><tr><th>11</th><td>1</td><td>33.5</td><td>1.75</td><td>2</td><td>14</td><td>8</td><td>4.5</td><td>1</td><td>1</td><td>4</td><td>1</td><td>2</td><td>253</td><td>858</td><td>1</td></tr><tr><th>12</th><td>1</td><td>41.42</td><td>5.0</td><td>2</td><td>11</td><td>8</td><td>5.0</td><td>1</td><td>1</td><td>6</td><td>1</td><td>2</td><td>470</td><td>1</td><td>1</td></tr><tr><th>13</th><td>1</td><td>20.67</td><td>1.25</td><td>1</td><td>8</td><td>8</td><td>1.375</td><td>1</td><td>1</td><td>3</td><td>1</td><td>2</td><td>140</td><td>211</td><td>0</td></tr><tr><th>14</th><td>1</td><td>34.92</td><td>5.0</td><td>2</td><td>14</td><td>8</td><td>7.5</td><td>1</td><td>1</td><td>6</td><td>1</td><td>2</td><td>0</td><td>1001</td><td>1</td></tr><tr><th>15</th><td>1</td><td>58.58</td><td>2.71</td><td>2</td><td>8</td><td>4</td><td>2.415</td><td>0</td><td>0</td><td>0</td><td>1</td><td>2</td><td>320</td><td>1</td><td>0</td></tr><tr><th>16</th><td>1</td><td>48.08</td><td>6.04</td><td>2</td><td>4</td><td>4</td><td>0.04</td><td>0</td><td>0</td><td>0</td><td>0</td><td>2</td><td>0</td><td>2691</td><td>1</td></tr><tr><th>17</th><td>1</td><td>29.58</td><td>4.5</td><td>2</td><td>9</td><td>4</td><td>7.5</td><td>1</td><td>1</td><td>2</td><td>1</td><td>2</td><td>330</td><td>1</td><td>1</td></tr><tr><th>18</th><td>0</td><td>18.92</td><td>9.0</td><td>2</td><td>6</td><td>4</td><td>0.75</td><td>1</td><td>1</td><td>2</td><td>0</td><td>2</td><td>88</td><td>592</td><td>1</td></tr><tr><th>19</th><td>1</td><td>20.0</td><td>1.25</td><td>1</td><td>4</td><td>4</td><td>0.125</td><td>0</td><td>0</td><td>0</td><td>0</td><td>2</td><td>140</td><td>5</td><td>0</td></tr><tr><th>20</th><td>0</td><td>22.42</td><td>5.665</td><td>2</td><td>11</td><td>4</td><td>2.585</td><td>1</td><td>1</td><td>7</td><td>0</td><td>2</td><td>129</td><td>3258</td><td>1</td></tr><tr><th>21</th><td>0</td><td>28.17</td><td>0.585</td><td>2</td><td>6</td><td>4</td><td>0.04</td><td>0</td><td>0</td><td>0</td><td>0</td><td>2</td><td>260</td><td>1005</td><td>0</td></tr><tr><th>22</th><td>0</td><td>19.17</td><td>0.585</td><td>1</td><td>6</td><td>4</td><td>0.585</td><td>1</td><td>0</td><td>0</td><td>1</td><td>2</td><td>160</td><td>1</td><td>0</td></tr><tr><th>23</th><td>1</td><td>41.17</td><td>1.335</td><td>2</td><td>2</td><td>4</td><td>0.165</td><td>0</td><td>0</td><td>0</td><td>0</td><td>2</td><td>168</td><td>1</td><td>0</td></tr><tr><th>24</th><td>1</td><td>41.58</td><td>1.75</td><td>2</td><td>4</td><td>4</td><td>0.21</td><td>1</td><td>0</td><td>0</td><td>0</td><td>2</td><td>160</td><td>1</td><td>0</td></tr><tr><th>25</th><td>1</td><td>19.5</td><td>9.585</td><td>2</td><td>6</td><td>4</td><td>0.79</td><td>0</td><td>0</td><td>0</td><td>0</td><td>2</td><td>80</td><td>351</td><td>0</td></tr><tr><th>26</th><td>1</td><td>32.75</td><td>1.5</td><td>2</td><td>13</td><td>8</td><td>5.5</td><td>1</td><td>1</td><td>3</td><td>1</td><td>2</td><td>0</td><td>1</td><td>1</td></tr><tr><th>27</th><td>1</td><td>22.5</td><td>0.125</td><td>1</td><td>4</td><td>4</td><td>0.125</td><td>0</td><td>0</td><td>0</td><td>0</td><td>2</td><td>200</td><td>71</td><td>0</td></tr><tr><th>28</th><td>1</td><td>33.17</td><td>3.04</td><td>1</td><td>8</td><td>8</td><td>2.04</td><td>1</td><td>1</td><td>1</td><td>1</td><td>2</td><td>180</td><td>18028</td><td>1</td></tr><tr><th>29</th><td>0</td><td>30.67</td><td>12.0</td><td>2</td><td>8</td><td>4</td><td>2.0</td><td>1</td><td>1</td><td>1</td><td>0</td><td>2</td><td>220</td><td>20</td><td>1</td></tr><tr><th>30</th><td>1</td><td>23.08</td><td>2.5</td><td>2</td><td>8</td><td>4</td><td>1.085</td><td>1</td><td>1</td><td>11</td><td>1</td><td>2</td><td>60</td><td>2185</td><td>1</td></tr><tr><th>&vellip;</th><td>&vellip;</td><td>&vellip;</td><td>&vellip;</td><td>&vellip;</td><td>&vellip;</td><td>&vellip;</td><td>&vellip;</td><td>&vellip;</td><td>&vellip;</td><td>&vellip;</td><td>&vellip;</td><td>&vellip;</td><td>&vellip;</td><td>&vellip;</td><td>&vellip;</td></tr></tbody></table>"
      ],
      "text/plain": [
       "690×15 DataFrame. Omitted printing of 8 columns\n",
       "│ Row │ x1     │ x2       │ x3       │ x4     │ x5     │ x6     │ x7       │\n",
       "│     │ \u001b[90mInt64⍰\u001b[39m │ \u001b[90mFloat64⍰\u001b[39m │ \u001b[90mFloat64⍰\u001b[39m │ \u001b[90mInt64⍰\u001b[39m │ \u001b[90mInt64⍰\u001b[39m │ \u001b[90mInt64⍰\u001b[39m │ \u001b[90mFloat64⍰\u001b[39m │\n",
       "├─────┼────────┼──────────┼──────────┼────────┼────────┼────────┼──────────┤\n",
       "│ 1   │ 1      │ 22.08    │ 11.46    │ 2      │ 4      │ 4      │ 1.585    │\n",
       "│ 2   │ 0      │ 22.67    │ 7.0      │ 2      │ 8      │ 4      │ 0.165    │\n",
       "│ 3   │ 0      │ 29.58    │ 1.75     │ 1      │ 4      │ 4      │ 1.25     │\n",
       "│ 4   │ 0      │ 21.67    │ 11.5     │ 1      │ 5      │ 3      │ 0.0      │\n",
       "│ 5   │ 1      │ 20.17    │ 8.17     │ 2      │ 6      │ 4      │ 1.96     │\n",
       "│ 6   │ 0      │ 15.83    │ 0.585    │ 2      │ 8      │ 8      │ 1.5      │\n",
       "│ 7   │ 1      │ 17.42    │ 6.5      │ 2      │ 3      │ 4      │ 0.125    │\n",
       "│ 8   │ 0      │ 58.67    │ 4.46     │ 2      │ 11     │ 8      │ 3.04     │\n",
       "│ 9   │ 1      │ 27.83    │ 1.0      │ 1      │ 2      │ 8      │ 3.0      │\n",
       "│ 10  │ 0      │ 55.75    │ 7.08     │ 2      │ 4      │ 8      │ 6.75     │\n",
       "⋮\n",
       "│ 680 │ 1      │ 48.58    │ 0.205    │ 1      │ 4      │ 4      │ 0.25     │\n",
       "│ 681 │ 1      │ 21.17    │ 0.0      │ 2      │ 8      │ 4      │ 0.5      │\n",
       "│ 682 │ 1      │ 35.25    │ 16.5     │ 1      │ 8      │ 4      │ 4.0      │\n",
       "│ 683 │ 0      │ 22.92    │ 11.585   │ 2      │ 13     │ 4      │ 0.04     │\n",
       "│ 684 │ 0      │ 48.17    │ 1.335    │ 2      │ 3      │ 7      │ 0.335    │\n",
       "│ 685 │ 1      │ 43.0     │ 0.29     │ 1      │ 13     │ 8      │ 1.75     │\n",
       "│ 686 │ 1      │ 31.57    │ 10.5     │ 2      │ 14     │ 4      │ 6.5      │\n",
       "│ 687 │ 1      │ 20.67    │ 0.415    │ 2      │ 8      │ 4      │ 0.125    │\n",
       "│ 688 │ 0      │ 18.83    │ 9.54     │ 2      │ 6      │ 4      │ 0.085    │\n",
       "│ 689 │ 0      │ 27.42    │ 14.5     │ 2      │ 14     │ 8      │ 3.085    │\n",
       "│ 690 │ 1      │ 41.0     │ 0.04     │ 2      │ 10     │ 4      │ 0.04     │"
      ]
     },
     "execution_count": 24,
     "metadata": {},
     "output_type": "execute_result"
    }
   ],
   "source": [
    "df"
   ]
  },
  {
   "cell_type": "markdown",
   "metadata": {},
   "source": [
    "Suffix \"!\" denotes functions which modify their argument (convention only)"
   ]
  },
  {
   "cell_type": "code",
   "execution_count": 26,
   "metadata": {
    "collapsed": true
   },
   "outputs": [
    {
     "data": {
      "text/html": [
       "<table class=\"data-frame\"><thead><tr><th></th><th>x1</th><th>x2</th><th>x3</th><th>x4</th><th>x5</th><th>x6</th><th>x7</th><th>x8</th><th>x9</th><th>x10</th><th>x11</th><th>x12</th><th>x13</th><th>x14</th><th>y</th></tr><tr><th></th><th>Int64⍰</th><th>Float64⍰</th><th>Float64⍰</th><th>Int64⍰</th><th>Int64⍰</th><th>Int64⍰</th><th>Float64⍰</th><th>Int64⍰</th><th>Int64⍰</th><th>Int64⍰</th><th>Int64⍰</th><th>Int64⍰</th><th>Int64⍰</th><th>Int64⍰</th><th>Int64⍰</th></tr></thead><tbody><tr><th>1</th><td>1</td><td>22.08</td><td>11.46</td><td>2</td><td>4</td><td>4</td><td>1.585</td><td>0</td><td>0</td><td>0</td><td>1</td><td>2</td><td>100</td><td>1213</td><td>0</td></tr><tr><th>2</th><td>0</td><td>22.67</td><td>7.0</td><td>2</td><td>8</td><td>4</td><td>0.165</td><td>0</td><td>0</td><td>0</td><td>0</td><td>2</td><td>160</td><td>1</td><td>0</td></tr><tr><th>3</th><td>0</td><td>29.58</td><td>1.75</td><td>1</td><td>4</td><td>4</td><td>1.25</td><td>0</td><td>0</td><td>0</td><td>1</td><td>2</td><td>280</td><td>1</td><td>0</td></tr><tr><th>4</th><td>0</td><td>21.67</td><td>11.5</td><td>1</td><td>5</td><td>3</td><td>0.0</td><td>1</td><td>1</td><td>11</td><td>1</td><td>2</td><td>0</td><td>1</td><td>1</td></tr><tr><th>5</th><td>1</td><td>20.17</td><td>8.17</td><td>2</td><td>6</td><td>4</td><td>1.96</td><td>1</td><td>1</td><td>14</td><td>0</td><td>2</td><td>60</td><td>159</td><td>1</td></tr><tr><th>6</th><td>0</td><td>15.83</td><td>0.585</td><td>2</td><td>8</td><td>8</td><td>1.5</td><td>1</td><td>1</td><td>2</td><td>0</td><td>2</td><td>100</td><td>1</td><td>1</td></tr><tr><th>7</th><td>1</td><td>17.42</td><td>6.5</td><td>2</td><td>3</td><td>4</td><td>0.125</td><td>0</td><td>0</td><td>0</td><td>0</td><td>2</td><td>60</td><td>101</td><td>0</td></tr><tr><th>8</th><td>0</td><td>58.67</td><td>4.46</td><td>2</td><td>11</td><td>8</td><td>3.04</td><td>1</td><td>1</td><td>6</td><td>0</td><td>2</td><td>43</td><td>561</td><td>1</td></tr><tr><th>9</th><td>1</td><td>27.83</td><td>1.0</td><td>1</td><td>2</td><td>8</td><td>3.0</td><td>0</td><td>0</td><td>0</td><td>0</td><td>2</td><td>176</td><td>538</td><td>0</td></tr><tr><th>10</th><td>0</td><td>55.75</td><td>7.08</td><td>2</td><td>4</td><td>8</td><td>6.75</td><td>1</td><td>1</td><td>3</td><td>1</td><td>2</td><td>100</td><td>51</td><td>0</td></tr><tr><th>11</th><td>1</td><td>33.5</td><td>1.75</td><td>2</td><td>14</td><td>8</td><td>4.5</td><td>1</td><td>1</td><td>4</td><td>1</td><td>2</td><td>253</td><td>858</td><td>1</td></tr><tr><th>12</th><td>1</td><td>41.42</td><td>5.0</td><td>2</td><td>11</td><td>8</td><td>5.0</td><td>1</td><td>1</td><td>6</td><td>1</td><td>2</td><td>470</td><td>1</td><td>1</td></tr><tr><th>13</th><td>1</td><td>20.67</td><td>1.25</td><td>1</td><td>8</td><td>8</td><td>1.375</td><td>1</td><td>1</td><td>3</td><td>1</td><td>2</td><td>140</td><td>211</td><td>0</td></tr><tr><th>14</th><td>1</td><td>34.92</td><td>5.0</td><td>2</td><td>14</td><td>8</td><td>7.5</td><td>1</td><td>1</td><td>6</td><td>1</td><td>2</td><td>0</td><td>1001</td><td>1</td></tr><tr><th>15</th><td>1</td><td>58.58</td><td>2.71</td><td>2</td><td>8</td><td>4</td><td>2.415</td><td>0</td><td>0</td><td>0</td><td>1</td><td>2</td><td>320</td><td>1</td><td>0</td></tr><tr><th>16</th><td>1</td><td>48.08</td><td>6.04</td><td>2</td><td>4</td><td>4</td><td>0.04</td><td>0</td><td>0</td><td>0</td><td>0</td><td>2</td><td>0</td><td>2691</td><td>1</td></tr><tr><th>17</th><td>1</td><td>29.58</td><td>4.5</td><td>2</td><td>9</td><td>4</td><td>7.5</td><td>1</td><td>1</td><td>2</td><td>1</td><td>2</td><td>330</td><td>1</td><td>1</td></tr><tr><th>18</th><td>0</td><td>18.92</td><td>9.0</td><td>2</td><td>6</td><td>4</td><td>0.75</td><td>1</td><td>1</td><td>2</td><td>0</td><td>2</td><td>88</td><td>592</td><td>1</td></tr><tr><th>19</th><td>1</td><td>20.0</td><td>1.25</td><td>1</td><td>4</td><td>4</td><td>0.125</td><td>0</td><td>0</td><td>0</td><td>0</td><td>2</td><td>140</td><td>5</td><td>0</td></tr><tr><th>20</th><td>0</td><td>22.42</td><td>5.665</td><td>2</td><td>11</td><td>4</td><td>2.585</td><td>1</td><td>1</td><td>7</td><td>0</td><td>2</td><td>129</td><td>3258</td><td>1</td></tr><tr><th>21</th><td>0</td><td>28.17</td><td>0.585</td><td>2</td><td>6</td><td>4</td><td>0.04</td><td>0</td><td>0</td><td>0</td><td>0</td><td>2</td><td>260</td><td>1005</td><td>0</td></tr><tr><th>22</th><td>0</td><td>19.17</td><td>0.585</td><td>1</td><td>6</td><td>4</td><td>0.585</td><td>1</td><td>0</td><td>0</td><td>1</td><td>2</td><td>160</td><td>1</td><td>0</td></tr><tr><th>23</th><td>1</td><td>41.17</td><td>1.335</td><td>2</td><td>2</td><td>4</td><td>0.165</td><td>0</td><td>0</td><td>0</td><td>0</td><td>2</td><td>168</td><td>1</td><td>0</td></tr><tr><th>24</th><td>1</td><td>41.58</td><td>1.75</td><td>2</td><td>4</td><td>4</td><td>0.21</td><td>1</td><td>0</td><td>0</td><td>0</td><td>2</td><td>160</td><td>1</td><td>0</td></tr><tr><th>25</th><td>1</td><td>19.5</td><td>9.585</td><td>2</td><td>6</td><td>4</td><td>0.79</td><td>0</td><td>0</td><td>0</td><td>0</td><td>2</td><td>80</td><td>351</td><td>0</td></tr><tr><th>26</th><td>1</td><td>32.75</td><td>1.5</td><td>2</td><td>13</td><td>8</td><td>5.5</td><td>1</td><td>1</td><td>3</td><td>1</td><td>2</td><td>0</td><td>1</td><td>1</td></tr><tr><th>27</th><td>1</td><td>22.5</td><td>0.125</td><td>1</td><td>4</td><td>4</td><td>0.125</td><td>0</td><td>0</td><td>0</td><td>0</td><td>2</td><td>200</td><td>71</td><td>0</td></tr><tr><th>28</th><td>1</td><td>33.17</td><td>3.04</td><td>1</td><td>8</td><td>8</td><td>2.04</td><td>1</td><td>1</td><td>1</td><td>1</td><td>2</td><td>180</td><td>18028</td><td>1</td></tr><tr><th>29</th><td>0</td><td>30.67</td><td>12.0</td><td>2</td><td>8</td><td>4</td><td>2.0</td><td>1</td><td>1</td><td>1</td><td>0</td><td>2</td><td>220</td><td>20</td><td>1</td></tr><tr><th>30</th><td>1</td><td>23.08</td><td>2.5</td><td>2</td><td>8</td><td>4</td><td>1.085</td><td>1</td><td>1</td><td>11</td><td>1</td><td>2</td><td>60</td><td>2185</td><td>1</td></tr><tr><th>&vellip;</th><td>&vellip;</td><td>&vellip;</td><td>&vellip;</td><td>&vellip;</td><td>&vellip;</td><td>&vellip;</td><td>&vellip;</td><td>&vellip;</td><td>&vellip;</td><td>&vellip;</td><td>&vellip;</td><td>&vellip;</td><td>&vellip;</td><td>&vellip;</td><td>&vellip;</td></tr></tbody></table>"
      ],
      "text/plain": [
       "690×15 DataFrame. Omitted printing of 8 columns\n",
       "│ Row │ x1     │ x2       │ x3       │ x4     │ x5     │ x6     │ x7       │\n",
       "│     │ \u001b[90mInt64⍰\u001b[39m │ \u001b[90mFloat64⍰\u001b[39m │ \u001b[90mFloat64⍰\u001b[39m │ \u001b[90mInt64⍰\u001b[39m │ \u001b[90mInt64⍰\u001b[39m │ \u001b[90mInt64⍰\u001b[39m │ \u001b[90mFloat64⍰\u001b[39m │\n",
       "├─────┼────────┼──────────┼──────────┼────────┼────────┼────────┼──────────┤\n",
       "│ 1   │ 1      │ 22.08    │ 11.46    │ 2      │ 4      │ 4      │ 1.585    │\n",
       "│ 2   │ 0      │ 22.67    │ 7.0      │ 2      │ 8      │ 4      │ 0.165    │\n",
       "│ 3   │ 0      │ 29.58    │ 1.75     │ 1      │ 4      │ 4      │ 1.25     │\n",
       "│ 4   │ 0      │ 21.67    │ 11.5     │ 1      │ 5      │ 3      │ 0.0      │\n",
       "│ 5   │ 1      │ 20.17    │ 8.17     │ 2      │ 6      │ 4      │ 1.96     │\n",
       "│ 6   │ 0      │ 15.83    │ 0.585    │ 2      │ 8      │ 8      │ 1.5      │\n",
       "│ 7   │ 1      │ 17.42    │ 6.5      │ 2      │ 3      │ 4      │ 0.125    │\n",
       "│ 8   │ 0      │ 58.67    │ 4.46     │ 2      │ 11     │ 8      │ 3.04     │\n",
       "│ 9   │ 1      │ 27.83    │ 1.0      │ 1      │ 2      │ 8      │ 3.0      │\n",
       "│ 10  │ 0      │ 55.75    │ 7.08     │ 2      │ 4      │ 8      │ 6.75     │\n",
       "⋮\n",
       "│ 680 │ 1      │ 48.58    │ 0.205    │ 1      │ 4      │ 4      │ 0.25     │\n",
       "│ 681 │ 1      │ 21.17    │ 0.0      │ 2      │ 8      │ 4      │ 0.5      │\n",
       "│ 682 │ 1      │ 35.25    │ 16.5     │ 1      │ 8      │ 4      │ 4.0      │\n",
       "│ 683 │ 0      │ 22.92    │ 11.585   │ 2      │ 13     │ 4      │ 0.04     │\n",
       "│ 684 │ 0      │ 48.17    │ 1.335    │ 2      │ 3      │ 7      │ 0.335    │\n",
       "│ 685 │ 1      │ 43.0     │ 0.29     │ 1      │ 13     │ 8      │ 1.75     │\n",
       "│ 686 │ 1      │ 31.57    │ 10.5     │ 2      │ 14     │ 4      │ 6.5      │\n",
       "│ 687 │ 1      │ 20.67    │ 0.415    │ 2      │ 8      │ 4      │ 0.125    │\n",
       "│ 688 │ 0      │ 18.83    │ 9.54     │ 2      │ 6      │ 4      │ 0.085    │\n",
       "│ 689 │ 0      │ 27.42    │ 14.5     │ 2      │ 14     │ 8      │ 3.085    │\n",
       "│ 690 │ 1      │ 41.0     │ 0.04     │ 2      │ 10     │ 4      │ 0.04     │"
      ]
     },
     "execution_count": 26,
     "metadata": {},
     "output_type": "execute_result"
    }
   ],
   "source": [
    "DataFrames.rename!(df, (:x15 => :y))\n",
    "df"
   ]
  },
  {
   "cell_type": "markdown",
   "metadata": {},
   "source": [
    "#### Q2: rename a list of columns (list comprehension)\n",
    "We want to rename all columns :x1 up to :x14 into :input1 ... :input14"
   ]
  },
  {
   "cell_type": "code",
   "execution_count": 27,
   "metadata": {
    "collapsed": true
   },
   "outputs": [
    {
     "data": {
      "text/plain": [
       "15-element Array{Symbol,1}:\n",
       " :x1 \n",
       " :x2 \n",
       " :x3 \n",
       " :x4 \n",
       " :x5 \n",
       " :x6 \n",
       " :x7 \n",
       " :x8 \n",
       " :x9 \n",
       " :x10\n",
       " :x11\n",
       " :x12\n",
       " :x13\n",
       " :x14\n",
       " :y  "
      ]
     },
     "execution_count": 27,
     "metadata": {},
     "output_type": "execute_result"
    }
   ],
   "source": [
    "names(df)"
   ]
  },
  {
   "cell_type": "markdown",
   "metadata": {},
   "source": [
    "Similar to Python, Julia allows for list comprehension\n",
    "\n",
    "Example:"
   ]
  },
  {
   "cell_type": "code",
   "execution_count": 28,
   "metadata": {
    "collapsed": true
   },
   "outputs": [
    {
     "data": {
      "text/plain": [
       "10-element Array{Int64,1}:\n",
       "   1\n",
       "   4\n",
       "   9\n",
       "  16\n",
       "  25\n",
       "  36\n",
       "  49\n",
       "  64\n",
       "  81\n",
       " 100"
      ]
     },
     "execution_count": 28,
     "metadata": {},
     "output_type": "execute_result"
    }
   ],
   "source": [
    "[i^2 for i in 1:10]"
   ]
  },
  {
   "cell_type": "markdown",
   "metadata": {},
   "source": [
    "Strings can be concatenated using the \"*\" operator"
   ]
  },
  {
   "cell_type": "code",
   "execution_count": 34,
   "metadata": {},
   "outputs": [
    {
     "data": {
      "text/plain": [
       "\"hello world!\""
      ]
     },
     "execution_count": 34,
     "metadata": {},
     "output_type": "execute_result"
    }
   ],
   "source": [
    "\"hello\" * \" \" * \"world!\""
   ]
  },
  {
   "cell_type": "markdown",
   "metadata": {},
   "source": [
    "Strings can be converted into symbols using Symbol(...)"
   ]
  },
  {
   "cell_type": "code",
   "execution_count": 36,
   "metadata": {},
   "outputs": [
    {
     "data": {
      "text/plain": [
       ":IAP"
      ]
     },
     "execution_count": 36,
     "metadata": {},
     "output_type": "execute_result"
    }
   ],
   "source": [
    "Symbol(\"IAP\")"
   ]
  },
  {
   "cell_type": "code",
   "execution_count": 46,
   "metadata": {
    "collapsed": true
   },
   "outputs": [
    {
     "data": {
      "text/html": [
       "<table class=\"data-frame\"><thead><tr><th></th><th>input1</th><th>input2</th><th>input3</th><th>input4</th><th>input5</th><th>input6</th><th>input7</th><th>input8</th><th>input9</th><th>input10</th><th>input11</th><th>input12</th><th>input13</th><th>input14</th><th>y</th></tr><tr><th></th><th>Int64⍰</th><th>Float64⍰</th><th>Float64⍰</th><th>Int64⍰</th><th>Int64⍰</th><th>Int64⍰</th><th>Float64⍰</th><th>Int64⍰</th><th>Int64⍰</th><th>Int64⍰</th><th>Int64⍰</th><th>Int64⍰</th><th>Int64⍰</th><th>Int64⍰</th><th>Int64⍰</th></tr></thead><tbody><tr><th>1</th><td>1</td><td>22.08</td><td>11.46</td><td>2</td><td>4</td><td>4</td><td>1.585</td><td>0</td><td>0</td><td>0</td><td>1</td><td>2</td><td>100</td><td>1213</td><td>0</td></tr><tr><th>2</th><td>0</td><td>22.67</td><td>7.0</td><td>2</td><td>8</td><td>4</td><td>0.165</td><td>0</td><td>0</td><td>0</td><td>0</td><td>2</td><td>160</td><td>1</td><td>0</td></tr><tr><th>3</th><td>0</td><td>29.58</td><td>1.75</td><td>1</td><td>4</td><td>4</td><td>1.25</td><td>0</td><td>0</td><td>0</td><td>1</td><td>2</td><td>280</td><td>1</td><td>0</td></tr><tr><th>4</th><td>0</td><td>21.67</td><td>11.5</td><td>1</td><td>5</td><td>3</td><td>0.0</td><td>1</td><td>1</td><td>11</td><td>1</td><td>2</td><td>0</td><td>1</td><td>1</td></tr><tr><th>5</th><td>1</td><td>20.17</td><td>8.17</td><td>2</td><td>6</td><td>4</td><td>1.96</td><td>1</td><td>1</td><td>14</td><td>0</td><td>2</td><td>60</td><td>159</td><td>1</td></tr><tr><th>6</th><td>0</td><td>15.83</td><td>0.585</td><td>2</td><td>8</td><td>8</td><td>1.5</td><td>1</td><td>1</td><td>2</td><td>0</td><td>2</td><td>100</td><td>1</td><td>1</td></tr><tr><th>7</th><td>1</td><td>17.42</td><td>6.5</td><td>2</td><td>3</td><td>4</td><td>0.125</td><td>0</td><td>0</td><td>0</td><td>0</td><td>2</td><td>60</td><td>101</td><td>0</td></tr><tr><th>8</th><td>0</td><td>58.67</td><td>4.46</td><td>2</td><td>11</td><td>8</td><td>3.04</td><td>1</td><td>1</td><td>6</td><td>0</td><td>2</td><td>43</td><td>561</td><td>1</td></tr><tr><th>9</th><td>1</td><td>27.83</td><td>1.0</td><td>1</td><td>2</td><td>8</td><td>3.0</td><td>0</td><td>0</td><td>0</td><td>0</td><td>2</td><td>176</td><td>538</td><td>0</td></tr><tr><th>10</th><td>0</td><td>55.75</td><td>7.08</td><td>2</td><td>4</td><td>8</td><td>6.75</td><td>1</td><td>1</td><td>3</td><td>1</td><td>2</td><td>100</td><td>51</td><td>0</td></tr><tr><th>11</th><td>1</td><td>33.5</td><td>1.75</td><td>2</td><td>14</td><td>8</td><td>4.5</td><td>1</td><td>1</td><td>4</td><td>1</td><td>2</td><td>253</td><td>858</td><td>1</td></tr><tr><th>12</th><td>1</td><td>41.42</td><td>5.0</td><td>2</td><td>11</td><td>8</td><td>5.0</td><td>1</td><td>1</td><td>6</td><td>1</td><td>2</td><td>470</td><td>1</td><td>1</td></tr><tr><th>13</th><td>1</td><td>20.67</td><td>1.25</td><td>1</td><td>8</td><td>8</td><td>1.375</td><td>1</td><td>1</td><td>3</td><td>1</td><td>2</td><td>140</td><td>211</td><td>0</td></tr><tr><th>14</th><td>1</td><td>34.92</td><td>5.0</td><td>2</td><td>14</td><td>8</td><td>7.5</td><td>1</td><td>1</td><td>6</td><td>1</td><td>2</td><td>0</td><td>1001</td><td>1</td></tr><tr><th>15</th><td>1</td><td>58.58</td><td>2.71</td><td>2</td><td>8</td><td>4</td><td>2.415</td><td>0</td><td>0</td><td>0</td><td>1</td><td>2</td><td>320</td><td>1</td><td>0</td></tr><tr><th>16</th><td>1</td><td>48.08</td><td>6.04</td><td>2</td><td>4</td><td>4</td><td>0.04</td><td>0</td><td>0</td><td>0</td><td>0</td><td>2</td><td>0</td><td>2691</td><td>1</td></tr><tr><th>17</th><td>1</td><td>29.58</td><td>4.5</td><td>2</td><td>9</td><td>4</td><td>7.5</td><td>1</td><td>1</td><td>2</td><td>1</td><td>2</td><td>330</td><td>1</td><td>1</td></tr><tr><th>18</th><td>0</td><td>18.92</td><td>9.0</td><td>2</td><td>6</td><td>4</td><td>0.75</td><td>1</td><td>1</td><td>2</td><td>0</td><td>2</td><td>88</td><td>592</td><td>1</td></tr><tr><th>19</th><td>1</td><td>20.0</td><td>1.25</td><td>1</td><td>4</td><td>4</td><td>0.125</td><td>0</td><td>0</td><td>0</td><td>0</td><td>2</td><td>140</td><td>5</td><td>0</td></tr><tr><th>20</th><td>0</td><td>22.42</td><td>5.665</td><td>2</td><td>11</td><td>4</td><td>2.585</td><td>1</td><td>1</td><td>7</td><td>0</td><td>2</td><td>129</td><td>3258</td><td>1</td></tr><tr><th>21</th><td>0</td><td>28.17</td><td>0.585</td><td>2</td><td>6</td><td>4</td><td>0.04</td><td>0</td><td>0</td><td>0</td><td>0</td><td>2</td><td>260</td><td>1005</td><td>0</td></tr><tr><th>22</th><td>0</td><td>19.17</td><td>0.585</td><td>1</td><td>6</td><td>4</td><td>0.585</td><td>1</td><td>0</td><td>0</td><td>1</td><td>2</td><td>160</td><td>1</td><td>0</td></tr><tr><th>23</th><td>1</td><td>41.17</td><td>1.335</td><td>2</td><td>2</td><td>4</td><td>0.165</td><td>0</td><td>0</td><td>0</td><td>0</td><td>2</td><td>168</td><td>1</td><td>0</td></tr><tr><th>24</th><td>1</td><td>41.58</td><td>1.75</td><td>2</td><td>4</td><td>4</td><td>0.21</td><td>1</td><td>0</td><td>0</td><td>0</td><td>2</td><td>160</td><td>1</td><td>0</td></tr><tr><th>25</th><td>1</td><td>19.5</td><td>9.585</td><td>2</td><td>6</td><td>4</td><td>0.79</td><td>0</td><td>0</td><td>0</td><td>0</td><td>2</td><td>80</td><td>351</td><td>0</td></tr><tr><th>26</th><td>1</td><td>32.75</td><td>1.5</td><td>2</td><td>13</td><td>8</td><td>5.5</td><td>1</td><td>1</td><td>3</td><td>1</td><td>2</td><td>0</td><td>1</td><td>1</td></tr><tr><th>27</th><td>1</td><td>22.5</td><td>0.125</td><td>1</td><td>4</td><td>4</td><td>0.125</td><td>0</td><td>0</td><td>0</td><td>0</td><td>2</td><td>200</td><td>71</td><td>0</td></tr><tr><th>28</th><td>1</td><td>33.17</td><td>3.04</td><td>1</td><td>8</td><td>8</td><td>2.04</td><td>1</td><td>1</td><td>1</td><td>1</td><td>2</td><td>180</td><td>18028</td><td>1</td></tr><tr><th>29</th><td>0</td><td>30.67</td><td>12.0</td><td>2</td><td>8</td><td>4</td><td>2.0</td><td>1</td><td>1</td><td>1</td><td>0</td><td>2</td><td>220</td><td>20</td><td>1</td></tr><tr><th>30</th><td>1</td><td>23.08</td><td>2.5</td><td>2</td><td>8</td><td>4</td><td>1.085</td><td>1</td><td>1</td><td>11</td><td>1</td><td>2</td><td>60</td><td>2185</td><td>1</td></tr><tr><th>&vellip;</th><td>&vellip;</td><td>&vellip;</td><td>&vellip;</td><td>&vellip;</td><td>&vellip;</td><td>&vellip;</td><td>&vellip;</td><td>&vellip;</td><td>&vellip;</td><td>&vellip;</td><td>&vellip;</td><td>&vellip;</td><td>&vellip;</td><td>&vellip;</td><td>&vellip;</td></tr></tbody></table>"
      ],
      "text/plain": [
       "690×15 DataFrame. Omitted printing of 8 columns\n",
       "│ Row │ input1 │ input2   │ input3   │ input4 │ input5 │ input6 │ input7   │\n",
       "│     │ \u001b[90mInt64⍰\u001b[39m │ \u001b[90mFloat64⍰\u001b[39m │ \u001b[90mFloat64⍰\u001b[39m │ \u001b[90mInt64⍰\u001b[39m │ \u001b[90mInt64⍰\u001b[39m │ \u001b[90mInt64⍰\u001b[39m │ \u001b[90mFloat64⍰\u001b[39m │\n",
       "├─────┼────────┼──────────┼──────────┼────────┼────────┼────────┼──────────┤\n",
       "│ 1   │ 1      │ 22.08    │ 11.46    │ 2      │ 4      │ 4      │ 1.585    │\n",
       "│ 2   │ 0      │ 22.67    │ 7.0      │ 2      │ 8      │ 4      │ 0.165    │\n",
       "│ 3   │ 0      │ 29.58    │ 1.75     │ 1      │ 4      │ 4      │ 1.25     │\n",
       "│ 4   │ 0      │ 21.67    │ 11.5     │ 1      │ 5      │ 3      │ 0.0      │\n",
       "│ 5   │ 1      │ 20.17    │ 8.17     │ 2      │ 6      │ 4      │ 1.96     │\n",
       "│ 6   │ 0      │ 15.83    │ 0.585    │ 2      │ 8      │ 8      │ 1.5      │\n",
       "│ 7   │ 1      │ 17.42    │ 6.5      │ 2      │ 3      │ 4      │ 0.125    │\n",
       "│ 8   │ 0      │ 58.67    │ 4.46     │ 2      │ 11     │ 8      │ 3.04     │\n",
       "│ 9   │ 1      │ 27.83    │ 1.0      │ 1      │ 2      │ 8      │ 3.0      │\n",
       "│ 10  │ 0      │ 55.75    │ 7.08     │ 2      │ 4      │ 8      │ 6.75     │\n",
       "⋮\n",
       "│ 680 │ 1      │ 48.58    │ 0.205    │ 1      │ 4      │ 4      │ 0.25     │\n",
       "│ 681 │ 1      │ 21.17    │ 0.0      │ 2      │ 8      │ 4      │ 0.5      │\n",
       "│ 682 │ 1      │ 35.25    │ 16.5     │ 1      │ 8      │ 4      │ 4.0      │\n",
       "│ 683 │ 0      │ 22.92    │ 11.585   │ 2      │ 13     │ 4      │ 0.04     │\n",
       "│ 684 │ 0      │ 48.17    │ 1.335    │ 2      │ 3      │ 7      │ 0.335    │\n",
       "│ 685 │ 1      │ 43.0     │ 0.29     │ 1      │ 13     │ 8      │ 1.75     │\n",
       "│ 686 │ 1      │ 31.57    │ 10.5     │ 2      │ 14     │ 4      │ 6.5      │\n",
       "│ 687 │ 1      │ 20.67    │ 0.415    │ 2      │ 8      │ 4      │ 0.125    │\n",
       "│ 688 │ 0      │ 18.83    │ 9.54     │ 2      │ 6      │ 4      │ 0.085    │\n",
       "│ 689 │ 0      │ 27.42    │ 14.5     │ 2      │ 14     │ 8      │ 3.085    │\n",
       "│ 690 │ 1      │ 41.0     │ 0.04     │ 2      │ 10     │ 4      │ 0.04     │"
      ]
     },
     "execution_count": 46,
     "metadata": {},
     "output_type": "execute_result"
    }
   ],
   "source": [
    "DataFrames.rename!(df, [(Symbol(\"x\"*string(i)) => Symbol(\"input\"*string(i))) for i in 1:14])\n",
    "df"
   ]
  },
  {
   "cell_type": "markdown",
   "metadata": {},
   "source": [
    "#### Q3: Describe the data set"
   ]
  },
  {
   "cell_type": "code",
   "execution_count": 48,
   "metadata": {
    "collapsed": true
   },
   "outputs": [
    {
     "data": {
      "text/html": [
       "<table class=\"data-frame\"><thead><tr><th></th><th>variable</th><th>mean</th><th>min</th><th>median</th><th>max</th><th>nunique</th><th>nmissing</th><th>eltype</th></tr><tr><th></th><th>Symbol</th><th>Float64</th><th>Real</th><th>Float64</th><th>Real</th><th>Nothing</th><th>Int64</th><th>DataType</th></tr></thead><tbody><tr><th>1</th><td>input1</td><td>0.678261</td><td>0</td><td>1.0</td><td>1</td><td></td><td>0</td><td>Int64</td></tr><tr><th>2</th><td>input2</td><td>31.5682</td><td>13.75</td><td>28.625</td><td>80.25</td><td></td><td>0</td><td>Float64</td></tr><tr><th>3</th><td>input3</td><td>4.75872</td><td>0.0</td><td>2.75</td><td>28.0</td><td></td><td>0</td><td>Float64</td></tr><tr><th>4</th><td>input4</td><td>1.76667</td><td>1</td><td>2.0</td><td>3</td><td></td><td>0</td><td>Int64</td></tr><tr><th>5</th><td>input5</td><td>7.37246</td><td>1</td><td>8.0</td><td>14</td><td></td><td>0</td><td>Int64</td></tr><tr><th>6</th><td>input6</td><td>4.69275</td><td>1</td><td>4.0</td><td>9</td><td></td><td>0</td><td>Int64</td></tr><tr><th>7</th><td>input7</td><td>2.22341</td><td>0.0</td><td>1.0</td><td>28.5</td><td></td><td>0</td><td>Float64</td></tr><tr><th>8</th><td>input8</td><td>0.523188</td><td>0</td><td>1.0</td><td>1</td><td></td><td>0</td><td>Int64</td></tr><tr><th>9</th><td>input9</td><td>0.427536</td><td>0</td><td>0.0</td><td>1</td><td></td><td>0</td><td>Int64</td></tr><tr><th>10</th><td>input10</td><td>2.4</td><td>0</td><td>0.0</td><td>67</td><td></td><td>0</td><td>Int64</td></tr><tr><th>11</th><td>input11</td><td>0.457971</td><td>0</td><td>0.0</td><td>1</td><td></td><td>0</td><td>Int64</td></tr><tr><th>12</th><td>input12</td><td>1.92899</td><td>1</td><td>2.0</td><td>3</td><td></td><td>0</td><td>Int64</td></tr><tr><th>13</th><td>input13</td><td>184.014</td><td>0</td><td>160.0</td><td>2000</td><td></td><td>0</td><td>Int64</td></tr><tr><th>14</th><td>input14</td><td>1018.39</td><td>1</td><td>6.0</td><td>100001</td><td></td><td>0</td><td>Int64</td></tr><tr><th>15</th><td>y</td><td>0.444928</td><td>0</td><td>0.0</td><td>1</td><td></td><td>0</td><td>Int64</td></tr></tbody></table>"
      ],
      "text/plain": [
       "15×8 DataFrame. Omitted printing of 1 columns\n",
       "│ Row │ variable │ mean     │ min   │ median  │ max    │ nunique │ nmissing │\n",
       "│     │ \u001b[90mSymbol\u001b[39m   │ \u001b[90mFloat64\u001b[39m  │ \u001b[90mReal\u001b[39m  │ \u001b[90mFloat64\u001b[39m │ \u001b[90mReal\u001b[39m   │ \u001b[90mNothing\u001b[39m │ \u001b[90mInt64\u001b[39m    │\n",
       "├─────┼──────────┼──────────┼───────┼─────────┼────────┼─────────┼──────────┤\n",
       "│ 1   │ input1   │ 0.678261 │ 0     │ 1.0     │ 1      │         │ 0        │\n",
       "│ 2   │ input2   │ 31.5682  │ 13.75 │ 28.625  │ 80.25  │         │ 0        │\n",
       "│ 3   │ input3   │ 4.75872  │ 0.0   │ 2.75    │ 28.0   │         │ 0        │\n",
       "│ 4   │ input4   │ 1.76667  │ 1     │ 2.0     │ 3      │         │ 0        │\n",
       "│ 5   │ input5   │ 7.37246  │ 1     │ 8.0     │ 14     │         │ 0        │\n",
       "│ 6   │ input6   │ 4.69275  │ 1     │ 4.0     │ 9      │         │ 0        │\n",
       "│ 7   │ input7   │ 2.22341  │ 0.0   │ 1.0     │ 28.5   │         │ 0        │\n",
       "│ 8   │ input8   │ 0.523188 │ 0     │ 1.0     │ 1      │         │ 0        │\n",
       "│ 9   │ input9   │ 0.427536 │ 0     │ 0.0     │ 1      │         │ 0        │\n",
       "│ 10  │ input10  │ 2.4      │ 0     │ 0.0     │ 67     │         │ 0        │\n",
       "│ 11  │ input11  │ 0.457971 │ 0     │ 0.0     │ 1      │         │ 0        │\n",
       "│ 12  │ input12  │ 1.92899  │ 1     │ 2.0     │ 3      │         │ 0        │\n",
       "│ 13  │ input13  │ 184.014  │ 0     │ 160.0   │ 2000   │         │ 0        │\n",
       "│ 14  │ input14  │ 1018.39  │ 1     │ 6.0     │ 100001 │         │ 0        │\n",
       "│ 15  │ y        │ 0.444928 │ 0     │ 0.0     │ 1      │         │ 0        │"
      ]
     },
     "execution_count": 48,
     "metadata": {},
     "output_type": "execute_result"
    }
   ],
   "source": [
    "DataFrames.describe(df)"
   ]
  },
  {
   "cell_type": "markdown",
   "metadata": {},
   "source": [
    "#### Q4: Change column type"
   ]
  },
  {
   "cell_type": "code",
   "execution_count": 247,
   "metadata": {
    "collapsed": true
   },
   "outputs": [
    {
     "data": {
      "text/html": [
       "<table class=\"data-frame\"><thead><tr><th></th><th>input1</th><th>input2</th><th>input3</th><th>input4</th><th>input5</th><th>input6</th><th>input7</th><th>input8</th><th>input9</th><th>input10</th><th>input11</th><th>input12</th><th>input13</th><th>input14</th><th>y</th><th>train</th></tr><tr><th></th><th>Int64⍰</th><th>Float64⍰</th><th>Float64⍰</th><th>Int64⍰</th><th>Int64⍰</th><th>Int64⍰</th><th>Float64⍰</th><th>Int64⍰</th><th>Int64⍰</th><th>Int64⍰</th><th>Int64⍰</th><th>Int64⍰</th><th>Int64⍰</th><th>Int64⍰</th><th>Int64⍰</th><th>Bool</th></tr></thead><tbody><tr><th>1</th><td>1</td><td>22.08</td><td>11.46</td><td>2</td><td>4</td><td>4</td><td>1.585</td><td>0</td><td>0</td><td>0</td><td>1</td><td>2</td><td>100</td><td>1213</td><td>0</td><td>false</td></tr><tr><th>2</th><td>0</td><td>22.67</td><td>7.0</td><td>2</td><td>8</td><td>4</td><td>0.165</td><td>0</td><td>0</td><td>0</td><td>0</td><td>2</td><td>160</td><td>1</td><td>0</td><td>false</td></tr><tr><th>3</th><td>0</td><td>29.58</td><td>1.75</td><td>1</td><td>4</td><td>4</td><td>1.25</td><td>0</td><td>0</td><td>0</td><td>1</td><td>2</td><td>280</td><td>1</td><td>0</td><td>true</td></tr><tr><th>4</th><td>0</td><td>21.67</td><td>11.5</td><td>1</td><td>5</td><td>3</td><td>0.0</td><td>1</td><td>1</td><td>11</td><td>1</td><td>2</td><td>0</td><td>1</td><td>1</td><td>false</td></tr><tr><th>5</th><td>1</td><td>20.17</td><td>8.17</td><td>2</td><td>6</td><td>4</td><td>1.96</td><td>1</td><td>1</td><td>14</td><td>0</td><td>2</td><td>60</td><td>159</td><td>1</td><td>true</td></tr><tr><th>6</th><td>0</td><td>15.83</td><td>0.585</td><td>2</td><td>8</td><td>8</td><td>1.5</td><td>1</td><td>1</td><td>2</td><td>0</td><td>2</td><td>100</td><td>1</td><td>1</td><td>true</td></tr><tr><th>7</th><td>1</td><td>17.42</td><td>6.5</td><td>2</td><td>3</td><td>4</td><td>0.125</td><td>0</td><td>0</td><td>0</td><td>0</td><td>2</td><td>60</td><td>101</td><td>0</td><td>true</td></tr><tr><th>8</th><td>0</td><td>58.67</td><td>4.46</td><td>2</td><td>11</td><td>8</td><td>3.04</td><td>1</td><td>1</td><td>6</td><td>0</td><td>2</td><td>43</td><td>561</td><td>1</td><td>true</td></tr><tr><th>9</th><td>1</td><td>27.83</td><td>1.0</td><td>1</td><td>2</td><td>8</td><td>3.0</td><td>0</td><td>0</td><td>0</td><td>0</td><td>2</td><td>176</td><td>538</td><td>0</td><td>true</td></tr><tr><th>10</th><td>0</td><td>55.75</td><td>7.08</td><td>2</td><td>4</td><td>8</td><td>6.75</td><td>1</td><td>1</td><td>3</td><td>1</td><td>2</td><td>100</td><td>51</td><td>0</td><td>true</td></tr><tr><th>11</th><td>1</td><td>33.5</td><td>1.75</td><td>2</td><td>14</td><td>8</td><td>4.5</td><td>1</td><td>1</td><td>4</td><td>1</td><td>2</td><td>253</td><td>858</td><td>1</td><td>true</td></tr><tr><th>12</th><td>1</td><td>41.42</td><td>5.0</td><td>2</td><td>11</td><td>8</td><td>5.0</td><td>1</td><td>1</td><td>6</td><td>1</td><td>2</td><td>470</td><td>1</td><td>1</td><td>true</td></tr><tr><th>13</th><td>1</td><td>20.67</td><td>1.25</td><td>1</td><td>8</td><td>8</td><td>1.375</td><td>1</td><td>1</td><td>3</td><td>1</td><td>2</td><td>140</td><td>211</td><td>0</td><td>true</td></tr><tr><th>14</th><td>1</td><td>34.92</td><td>5.0</td><td>2</td><td>14</td><td>8</td><td>7.5</td><td>1</td><td>1</td><td>6</td><td>1</td><td>2</td><td>0</td><td>1001</td><td>1</td><td>false</td></tr><tr><th>15</th><td>1</td><td>58.58</td><td>2.71</td><td>2</td><td>8</td><td>4</td><td>2.415</td><td>0</td><td>0</td><td>0</td><td>1</td><td>2</td><td>320</td><td>1</td><td>0</td><td>true</td></tr><tr><th>16</th><td>1</td><td>48.08</td><td>6.04</td><td>2</td><td>4</td><td>4</td><td>0.04</td><td>0</td><td>0</td><td>0</td><td>0</td><td>2</td><td>0</td><td>2691</td><td>1</td><td>false</td></tr><tr><th>17</th><td>1</td><td>29.58</td><td>4.5</td><td>2</td><td>9</td><td>4</td><td>7.5</td><td>1</td><td>1</td><td>2</td><td>1</td><td>2</td><td>330</td><td>1</td><td>1</td><td>true</td></tr><tr><th>18</th><td>0</td><td>18.92</td><td>9.0</td><td>2</td><td>6</td><td>4</td><td>0.75</td><td>1</td><td>1</td><td>2</td><td>0</td><td>2</td><td>88</td><td>592</td><td>1</td><td>false</td></tr><tr><th>19</th><td>1</td><td>20.0</td><td>1.25</td><td>1</td><td>4</td><td>4</td><td>0.125</td><td>0</td><td>0</td><td>0</td><td>0</td><td>2</td><td>140</td><td>5</td><td>0</td><td>true</td></tr><tr><th>20</th><td>0</td><td>22.42</td><td>5.665</td><td>2</td><td>11</td><td>4</td><td>2.585</td><td>1</td><td>1</td><td>7</td><td>0</td><td>2</td><td>129</td><td>3258</td><td>1</td><td>true</td></tr><tr><th>21</th><td>0</td><td>28.17</td><td>0.585</td><td>2</td><td>6</td><td>4</td><td>0.04</td><td>0</td><td>0</td><td>0</td><td>0</td><td>2</td><td>260</td><td>1005</td><td>0</td><td>true</td></tr><tr><th>22</th><td>0</td><td>19.17</td><td>0.585</td><td>1</td><td>6</td><td>4</td><td>0.585</td><td>1</td><td>0</td><td>0</td><td>1</td><td>2</td><td>160</td><td>1</td><td>0</td><td>false</td></tr><tr><th>23</th><td>1</td><td>41.17</td><td>1.335</td><td>2</td><td>2</td><td>4</td><td>0.165</td><td>0</td><td>0</td><td>0</td><td>0</td><td>2</td><td>168</td><td>1</td><td>0</td><td>true</td></tr><tr><th>24</th><td>1</td><td>41.58</td><td>1.75</td><td>2</td><td>4</td><td>4</td><td>0.21</td><td>1</td><td>0</td><td>0</td><td>0</td><td>2</td><td>160</td><td>1</td><td>0</td><td>true</td></tr><tr><th>25</th><td>1</td><td>19.5</td><td>9.585</td><td>2</td><td>6</td><td>4</td><td>0.79</td><td>0</td><td>0</td><td>0</td><td>0</td><td>2</td><td>80</td><td>351</td><td>0</td><td>false</td></tr><tr><th>26</th><td>1</td><td>32.75</td><td>1.5</td><td>2</td><td>13</td><td>8</td><td>5.5</td><td>1</td><td>1</td><td>3</td><td>1</td><td>2</td><td>0</td><td>1</td><td>1</td><td>true</td></tr><tr><th>27</th><td>1</td><td>22.5</td><td>0.125</td><td>1</td><td>4</td><td>4</td><td>0.125</td><td>0</td><td>0</td><td>0</td><td>0</td><td>2</td><td>200</td><td>71</td><td>0</td><td>true</td></tr><tr><th>28</th><td>1</td><td>33.17</td><td>3.04</td><td>1</td><td>8</td><td>8</td><td>2.04</td><td>1</td><td>1</td><td>1</td><td>1</td><td>2</td><td>180</td><td>18028</td><td>1</td><td>true</td></tr><tr><th>29</th><td>0</td><td>30.67</td><td>12.0</td><td>2</td><td>8</td><td>4</td><td>2.0</td><td>1</td><td>1</td><td>1</td><td>0</td><td>2</td><td>220</td><td>20</td><td>1</td><td>false</td></tr><tr><th>30</th><td>1</td><td>23.08</td><td>2.5</td><td>2</td><td>8</td><td>4</td><td>1.085</td><td>1</td><td>1</td><td>11</td><td>1</td><td>2</td><td>60</td><td>2185</td><td>1</td><td>true</td></tr><tr><th>&vellip;</th><td>&vellip;</td><td>&vellip;</td><td>&vellip;</td><td>&vellip;</td><td>&vellip;</td><td>&vellip;</td><td>&vellip;</td><td>&vellip;</td><td>&vellip;</td><td>&vellip;</td><td>&vellip;</td><td>&vellip;</td><td>&vellip;</td><td>&vellip;</td><td>&vellip;</td><td>&vellip;</td></tr></tbody></table>"
      ],
      "text/plain": [
       "690×16 DataFrame. Omitted printing of 9 columns\n",
       "│ Row │ input1 │ input2   │ input3   │ input4 │ input5 │ input6 │ input7   │\n",
       "│     │ \u001b[90mInt64⍰\u001b[39m │ \u001b[90mFloat64⍰\u001b[39m │ \u001b[90mFloat64⍰\u001b[39m │ \u001b[90mInt64⍰\u001b[39m │ \u001b[90mInt64⍰\u001b[39m │ \u001b[90mInt64⍰\u001b[39m │ \u001b[90mFloat64⍰\u001b[39m │\n",
       "├─────┼────────┼──────────┼──────────┼────────┼────────┼────────┼──────────┤\n",
       "│ 1   │ 1      │ 22.08    │ 11.46    │ 2      │ 4      │ 4      │ 1.585    │\n",
       "│ 2   │ 0      │ 22.67    │ 7.0      │ 2      │ 8      │ 4      │ 0.165    │\n",
       "│ 3   │ 0      │ 29.58    │ 1.75     │ 1      │ 4      │ 4      │ 1.25     │\n",
       "│ 4   │ 0      │ 21.67    │ 11.5     │ 1      │ 5      │ 3      │ 0.0      │\n",
       "│ 5   │ 1      │ 20.17    │ 8.17     │ 2      │ 6      │ 4      │ 1.96     │\n",
       "│ 6   │ 0      │ 15.83    │ 0.585    │ 2      │ 8      │ 8      │ 1.5      │\n",
       "│ 7   │ 1      │ 17.42    │ 6.5      │ 2      │ 3      │ 4      │ 0.125    │\n",
       "│ 8   │ 0      │ 58.67    │ 4.46     │ 2      │ 11     │ 8      │ 3.04     │\n",
       "│ 9   │ 1      │ 27.83    │ 1.0      │ 1      │ 2      │ 8      │ 3.0      │\n",
       "│ 10  │ 0      │ 55.75    │ 7.08     │ 2      │ 4      │ 8      │ 6.75     │\n",
       "⋮\n",
       "│ 680 │ 1      │ 48.58    │ 0.205    │ 1      │ 4      │ 4      │ 0.25     │\n",
       "│ 681 │ 1      │ 21.17    │ 0.0      │ 2      │ 8      │ 4      │ 0.5      │\n",
       "│ 682 │ 1      │ 35.25    │ 16.5     │ 1      │ 8      │ 4      │ 4.0      │\n",
       "│ 683 │ 0      │ 22.92    │ 11.585   │ 2      │ 13     │ 4      │ 0.04     │\n",
       "│ 684 │ 0      │ 48.17    │ 1.335    │ 2      │ 3      │ 7      │ 0.335    │\n",
       "│ 685 │ 1      │ 43.0     │ 0.29     │ 1      │ 13     │ 8      │ 1.75     │\n",
       "│ 686 │ 1      │ 31.57    │ 10.5     │ 2      │ 14     │ 4      │ 6.5      │\n",
       "│ 687 │ 1      │ 20.67    │ 0.415    │ 2      │ 8      │ 4      │ 0.125    │\n",
       "│ 688 │ 0      │ 18.83    │ 9.54     │ 2      │ 6      │ 4      │ 0.085    │\n",
       "│ 689 │ 0      │ 27.42    │ 14.5     │ 2      │ 14     │ 8      │ 3.085    │\n",
       "│ 690 │ 1      │ 41.0     │ 0.04     │ 2      │ 10     │ 4      │ 0.04     │"
      ]
     },
     "execution_count": 247,
     "metadata": {},
     "output_type": "execute_result"
    }
   ],
   "source": [
    "df"
   ]
  },
  {
   "cell_type": "code",
   "execution_count": 249,
   "metadata": {
    "collapsed": true
   },
   "outputs": [
    {
     "data": {
      "text/plain": [
       "690-element Array{Float64,1}:\n",
       " 0.0\n",
       " 0.0\n",
       " 0.0\n",
       " 1.0\n",
       " 1.0\n",
       " 1.0\n",
       " 0.0\n",
       " 1.0\n",
       " 0.0\n",
       " 0.0\n",
       " 1.0\n",
       " 1.0\n",
       " 0.0\n",
       " ⋮  \n",
       " 0.0\n",
       " 1.0\n",
       " 0.0\n",
       " 0.0\n",
       " 1.0\n",
       " 0.0\n",
       " 1.0\n",
       " 1.0\n",
       " 0.0\n",
       " 1.0\n",
       " 1.0\n",
       " 1.0"
      ]
     },
     "execution_count": 249,
     "metadata": {},
     "output_type": "execute_result"
    }
   ],
   "source": [
    "df[:y] = Float64.(df[:y])"
   ]
  },
  {
   "cell_type": "code",
   "execution_count": 250,
   "metadata": {
    "collapsed": true
   },
   "outputs": [
    {
     "data": {
      "text/html": [
       "<table class=\"data-frame\"><thead><tr><th></th><th>input1</th><th>input2</th><th>input3</th><th>input4</th><th>input5</th><th>input6</th><th>input7</th><th>input8</th><th>input9</th><th>input10</th><th>input11</th><th>input12</th><th>input13</th><th>input14</th><th>y</th><th>train</th></tr><tr><th></th><th>Int64⍰</th><th>Float64⍰</th><th>Float64⍰</th><th>Int64⍰</th><th>Int64⍰</th><th>Int64⍰</th><th>Float64⍰</th><th>Int64⍰</th><th>Int64⍰</th><th>Int64⍰</th><th>Int64⍰</th><th>Int64⍰</th><th>Int64⍰</th><th>Int64⍰</th><th>Float64</th><th>Bool</th></tr></thead><tbody><tr><th>1</th><td>1</td><td>22.08</td><td>11.46</td><td>2</td><td>4</td><td>4</td><td>1.585</td><td>0</td><td>0</td><td>0</td><td>1</td><td>2</td><td>100</td><td>1213</td><td>0.0</td><td>false</td></tr><tr><th>2</th><td>0</td><td>22.67</td><td>7.0</td><td>2</td><td>8</td><td>4</td><td>0.165</td><td>0</td><td>0</td><td>0</td><td>0</td><td>2</td><td>160</td><td>1</td><td>0.0</td><td>false</td></tr><tr><th>3</th><td>0</td><td>29.58</td><td>1.75</td><td>1</td><td>4</td><td>4</td><td>1.25</td><td>0</td><td>0</td><td>0</td><td>1</td><td>2</td><td>280</td><td>1</td><td>0.0</td><td>true</td></tr><tr><th>4</th><td>0</td><td>21.67</td><td>11.5</td><td>1</td><td>5</td><td>3</td><td>0.0</td><td>1</td><td>1</td><td>11</td><td>1</td><td>2</td><td>0</td><td>1</td><td>1.0</td><td>false</td></tr><tr><th>5</th><td>1</td><td>20.17</td><td>8.17</td><td>2</td><td>6</td><td>4</td><td>1.96</td><td>1</td><td>1</td><td>14</td><td>0</td><td>2</td><td>60</td><td>159</td><td>1.0</td><td>true</td></tr><tr><th>6</th><td>0</td><td>15.83</td><td>0.585</td><td>2</td><td>8</td><td>8</td><td>1.5</td><td>1</td><td>1</td><td>2</td><td>0</td><td>2</td><td>100</td><td>1</td><td>1.0</td><td>true</td></tr><tr><th>7</th><td>1</td><td>17.42</td><td>6.5</td><td>2</td><td>3</td><td>4</td><td>0.125</td><td>0</td><td>0</td><td>0</td><td>0</td><td>2</td><td>60</td><td>101</td><td>0.0</td><td>true</td></tr><tr><th>8</th><td>0</td><td>58.67</td><td>4.46</td><td>2</td><td>11</td><td>8</td><td>3.04</td><td>1</td><td>1</td><td>6</td><td>0</td><td>2</td><td>43</td><td>561</td><td>1.0</td><td>true</td></tr><tr><th>9</th><td>1</td><td>27.83</td><td>1.0</td><td>1</td><td>2</td><td>8</td><td>3.0</td><td>0</td><td>0</td><td>0</td><td>0</td><td>2</td><td>176</td><td>538</td><td>0.0</td><td>true</td></tr><tr><th>10</th><td>0</td><td>55.75</td><td>7.08</td><td>2</td><td>4</td><td>8</td><td>6.75</td><td>1</td><td>1</td><td>3</td><td>1</td><td>2</td><td>100</td><td>51</td><td>0.0</td><td>true</td></tr><tr><th>11</th><td>1</td><td>33.5</td><td>1.75</td><td>2</td><td>14</td><td>8</td><td>4.5</td><td>1</td><td>1</td><td>4</td><td>1</td><td>2</td><td>253</td><td>858</td><td>1.0</td><td>true</td></tr><tr><th>12</th><td>1</td><td>41.42</td><td>5.0</td><td>2</td><td>11</td><td>8</td><td>5.0</td><td>1</td><td>1</td><td>6</td><td>1</td><td>2</td><td>470</td><td>1</td><td>1.0</td><td>true</td></tr><tr><th>13</th><td>1</td><td>20.67</td><td>1.25</td><td>1</td><td>8</td><td>8</td><td>1.375</td><td>1</td><td>1</td><td>3</td><td>1</td><td>2</td><td>140</td><td>211</td><td>0.0</td><td>true</td></tr><tr><th>14</th><td>1</td><td>34.92</td><td>5.0</td><td>2</td><td>14</td><td>8</td><td>7.5</td><td>1</td><td>1</td><td>6</td><td>1</td><td>2</td><td>0</td><td>1001</td><td>1.0</td><td>false</td></tr><tr><th>15</th><td>1</td><td>58.58</td><td>2.71</td><td>2</td><td>8</td><td>4</td><td>2.415</td><td>0</td><td>0</td><td>0</td><td>1</td><td>2</td><td>320</td><td>1</td><td>0.0</td><td>true</td></tr><tr><th>16</th><td>1</td><td>48.08</td><td>6.04</td><td>2</td><td>4</td><td>4</td><td>0.04</td><td>0</td><td>0</td><td>0</td><td>0</td><td>2</td><td>0</td><td>2691</td><td>1.0</td><td>false</td></tr><tr><th>17</th><td>1</td><td>29.58</td><td>4.5</td><td>2</td><td>9</td><td>4</td><td>7.5</td><td>1</td><td>1</td><td>2</td><td>1</td><td>2</td><td>330</td><td>1</td><td>1.0</td><td>true</td></tr><tr><th>18</th><td>0</td><td>18.92</td><td>9.0</td><td>2</td><td>6</td><td>4</td><td>0.75</td><td>1</td><td>1</td><td>2</td><td>0</td><td>2</td><td>88</td><td>592</td><td>1.0</td><td>false</td></tr><tr><th>19</th><td>1</td><td>20.0</td><td>1.25</td><td>1</td><td>4</td><td>4</td><td>0.125</td><td>0</td><td>0</td><td>0</td><td>0</td><td>2</td><td>140</td><td>5</td><td>0.0</td><td>true</td></tr><tr><th>20</th><td>0</td><td>22.42</td><td>5.665</td><td>2</td><td>11</td><td>4</td><td>2.585</td><td>1</td><td>1</td><td>7</td><td>0</td><td>2</td><td>129</td><td>3258</td><td>1.0</td><td>true</td></tr><tr><th>21</th><td>0</td><td>28.17</td><td>0.585</td><td>2</td><td>6</td><td>4</td><td>0.04</td><td>0</td><td>0</td><td>0</td><td>0</td><td>2</td><td>260</td><td>1005</td><td>0.0</td><td>true</td></tr><tr><th>22</th><td>0</td><td>19.17</td><td>0.585</td><td>1</td><td>6</td><td>4</td><td>0.585</td><td>1</td><td>0</td><td>0</td><td>1</td><td>2</td><td>160</td><td>1</td><td>0.0</td><td>false</td></tr><tr><th>23</th><td>1</td><td>41.17</td><td>1.335</td><td>2</td><td>2</td><td>4</td><td>0.165</td><td>0</td><td>0</td><td>0</td><td>0</td><td>2</td><td>168</td><td>1</td><td>0.0</td><td>true</td></tr><tr><th>24</th><td>1</td><td>41.58</td><td>1.75</td><td>2</td><td>4</td><td>4</td><td>0.21</td><td>1</td><td>0</td><td>0</td><td>0</td><td>2</td><td>160</td><td>1</td><td>0.0</td><td>true</td></tr><tr><th>25</th><td>1</td><td>19.5</td><td>9.585</td><td>2</td><td>6</td><td>4</td><td>0.79</td><td>0</td><td>0</td><td>0</td><td>0</td><td>2</td><td>80</td><td>351</td><td>0.0</td><td>false</td></tr><tr><th>26</th><td>1</td><td>32.75</td><td>1.5</td><td>2</td><td>13</td><td>8</td><td>5.5</td><td>1</td><td>1</td><td>3</td><td>1</td><td>2</td><td>0</td><td>1</td><td>1.0</td><td>true</td></tr><tr><th>27</th><td>1</td><td>22.5</td><td>0.125</td><td>1</td><td>4</td><td>4</td><td>0.125</td><td>0</td><td>0</td><td>0</td><td>0</td><td>2</td><td>200</td><td>71</td><td>0.0</td><td>true</td></tr><tr><th>28</th><td>1</td><td>33.17</td><td>3.04</td><td>1</td><td>8</td><td>8</td><td>2.04</td><td>1</td><td>1</td><td>1</td><td>1</td><td>2</td><td>180</td><td>18028</td><td>1.0</td><td>true</td></tr><tr><th>29</th><td>0</td><td>30.67</td><td>12.0</td><td>2</td><td>8</td><td>4</td><td>2.0</td><td>1</td><td>1</td><td>1</td><td>0</td><td>2</td><td>220</td><td>20</td><td>1.0</td><td>false</td></tr><tr><th>30</th><td>1</td><td>23.08</td><td>2.5</td><td>2</td><td>8</td><td>4</td><td>1.085</td><td>1</td><td>1</td><td>11</td><td>1</td><td>2</td><td>60</td><td>2185</td><td>1.0</td><td>true</td></tr><tr><th>&vellip;</th><td>&vellip;</td><td>&vellip;</td><td>&vellip;</td><td>&vellip;</td><td>&vellip;</td><td>&vellip;</td><td>&vellip;</td><td>&vellip;</td><td>&vellip;</td><td>&vellip;</td><td>&vellip;</td><td>&vellip;</td><td>&vellip;</td><td>&vellip;</td><td>&vellip;</td><td>&vellip;</td></tr></tbody></table>"
      ],
      "text/plain": [
       "690×16 DataFrame. Omitted printing of 9 columns\n",
       "│ Row │ input1 │ input2   │ input3   │ input4 │ input5 │ input6 │ input7   │\n",
       "│     │ \u001b[90mInt64⍰\u001b[39m │ \u001b[90mFloat64⍰\u001b[39m │ \u001b[90mFloat64⍰\u001b[39m │ \u001b[90mInt64⍰\u001b[39m │ \u001b[90mInt64⍰\u001b[39m │ \u001b[90mInt64⍰\u001b[39m │ \u001b[90mFloat64⍰\u001b[39m │\n",
       "├─────┼────────┼──────────┼──────────┼────────┼────────┼────────┼──────────┤\n",
       "│ 1   │ 1      │ 22.08    │ 11.46    │ 2      │ 4      │ 4      │ 1.585    │\n",
       "│ 2   │ 0      │ 22.67    │ 7.0      │ 2      │ 8      │ 4      │ 0.165    │\n",
       "│ 3   │ 0      │ 29.58    │ 1.75     │ 1      │ 4      │ 4      │ 1.25     │\n",
       "│ 4   │ 0      │ 21.67    │ 11.5     │ 1      │ 5      │ 3      │ 0.0      │\n",
       "│ 5   │ 1      │ 20.17    │ 8.17     │ 2      │ 6      │ 4      │ 1.96     │\n",
       "│ 6   │ 0      │ 15.83    │ 0.585    │ 2      │ 8      │ 8      │ 1.5      │\n",
       "│ 7   │ 1      │ 17.42    │ 6.5      │ 2      │ 3      │ 4      │ 0.125    │\n",
       "│ 8   │ 0      │ 58.67    │ 4.46     │ 2      │ 11     │ 8      │ 3.04     │\n",
       "│ 9   │ 1      │ 27.83    │ 1.0      │ 1      │ 2      │ 8      │ 3.0      │\n",
       "│ 10  │ 0      │ 55.75    │ 7.08     │ 2      │ 4      │ 8      │ 6.75     │\n",
       "⋮\n",
       "│ 680 │ 1      │ 48.58    │ 0.205    │ 1      │ 4      │ 4      │ 0.25     │\n",
       "│ 681 │ 1      │ 21.17    │ 0.0      │ 2      │ 8      │ 4      │ 0.5      │\n",
       "│ 682 │ 1      │ 35.25    │ 16.5     │ 1      │ 8      │ 4      │ 4.0      │\n",
       "│ 683 │ 0      │ 22.92    │ 11.585   │ 2      │ 13     │ 4      │ 0.04     │\n",
       "│ 684 │ 0      │ 48.17    │ 1.335    │ 2      │ 3      │ 7      │ 0.335    │\n",
       "│ 685 │ 1      │ 43.0     │ 0.29     │ 1      │ 13     │ 8      │ 1.75     │\n",
       "│ 686 │ 1      │ 31.57    │ 10.5     │ 2      │ 14     │ 4      │ 6.5      │\n",
       "│ 687 │ 1      │ 20.67    │ 0.415    │ 2      │ 8      │ 4      │ 0.125    │\n",
       "│ 688 │ 0      │ 18.83    │ 9.54     │ 2      │ 6      │ 4      │ 0.085    │\n",
       "│ 689 │ 0      │ 27.42    │ 14.5     │ 2      │ 14     │ 8      │ 3.085    │\n",
       "│ 690 │ 1      │ 41.0     │ 0.04     │ 2      │ 10     │ 4      │ 0.04     │"
      ]
     },
     "execution_count": 250,
     "metadata": {},
     "output_type": "execute_result"
    }
   ],
   "source": [
    "df"
   ]
  },
  {
   "cell_type": "markdown",
   "metadata": {},
   "source": [
    "#### Q5: Split into train/test (70%/30%)"
   ]
  },
  {
   "cell_type": "markdown",
   "metadata": {},
   "source": [
    "Option 1: We can sample bernouilli RVs"
   ]
  },
  {
   "cell_type": "code",
   "execution_count": 251,
   "metadata": {},
   "outputs": [
    {
     "data": {
      "text/plain": [
       "0.23872777632595765"
      ]
     },
     "execution_count": 251,
     "metadata": {},
     "output_type": "execute_result"
    }
   ],
   "source": [
    "rand()"
   ]
  },
  {
   "cell_type": "code",
   "execution_count": 252,
   "metadata": {},
   "outputs": [
    {
     "data": {
      "text/plain": [
       "690-element BitArray{1}:\n",
       "  true\n",
       "  true\n",
       "  true\n",
       "  true\n",
       " false\n",
       "  true\n",
       "  true\n",
       "  true\n",
       "  true\n",
       " false\n",
       "  true\n",
       "  true\n",
       "  true\n",
       "     ⋮\n",
       " false\n",
       "  true\n",
       "  true\n",
       " false\n",
       "  true\n",
       "  true\n",
       "  true\n",
       "  true\n",
       "  true\n",
       "  true\n",
       " false\n",
       "  true"
      ]
     },
     "execution_count": 252,
     "metadata": {},
     "output_type": "execute_result"
    }
   ],
   "source": [
    "rand(size(df,1)) .< .7"
   ]
  },
  {
   "cell_type": "code",
   "execution_count": 253,
   "metadata": {},
   "outputs": [
    {
     "data": {
      "text/plain": [
       "690-element BitArray{1}:\n",
       "  true\n",
       " false\n",
       "  true\n",
       "  true\n",
       "  true\n",
       "  true\n",
       " false\n",
       " false\n",
       "  true\n",
       "  true\n",
       "  true\n",
       " false\n",
       "  true\n",
       "     ⋮\n",
       "  true\n",
       "  true\n",
       " false\n",
       "  true\n",
       "  true\n",
       "  true\n",
       " false\n",
       "  true\n",
       "  true\n",
       "  true\n",
       "  true\n",
       "  true"
      ]
     },
     "execution_count": 253,
     "metadata": {},
     "output_type": "execute_result"
    }
   ],
   "source": [
    "df[:train] = rand(size(df,1)) .< .7"
   ]
  },
  {
   "cell_type": "code",
   "execution_count": 254,
   "metadata": {},
   "outputs": [
    {
     "data": {
      "text/plain": [
       "484"
      ]
     },
     "execution_count": 254,
     "metadata": {},
     "output_type": "execute_result"
    }
   ],
   "source": [
    "sum(df[:train])"
   ]
  },
  {
   "cell_type": "markdown",
   "metadata": {},
   "source": [
    "Drawback: Not exactly 70% of the data is assigned to the train set"
   ]
  },
  {
   "cell_type": "markdown",
   "metadata": {},
   "source": [
    "Option 2: Select randomly exactly 70% of the whole dataset"
   ]
  },
  {
   "cell_type": "code",
   "execution_count": 255,
   "metadata": {},
   "outputs": [],
   "source": [
    "using Random"
   ]
  },
  {
   "cell_type": "code",
   "execution_count": 256,
   "metadata": {},
   "outputs": [
    {
     "data": {
      "text/plain": [
       "690-element Array{Int64,1}:\n",
       " 283\n",
       " 441\n",
       " 517\n",
       "  70\n",
       " 180\n",
       " 113\n",
       " 105\n",
       " 203\n",
       " 440\n",
       " 412\n",
       " 172\n",
       " 424\n",
       " 607\n",
       "   ⋮\n",
       " 193\n",
       " 510\n",
       " 571\n",
       " 298\n",
       " 542\n",
       " 615\n",
       " 249\n",
       "   5\n",
       " 670\n",
       " 505\n",
       " 647\n",
       " 357"
      ]
     },
     "execution_count": 256,
     "metadata": {},
     "output_type": "execute_result"
    }
   ],
   "source": [
    "Random.shuffle(1:size(df,1))"
   ]
  },
  {
   "cell_type": "code",
   "execution_count": 257,
   "metadata": {},
   "outputs": [
    {
     "data": {
      "text/plain": [
       "690-element Array{Int64,1}:\n",
       " 536\n",
       " 199\n",
       " 688\n",
       " 569\n",
       " 362\n",
       " 627\n",
       "  11\n",
       " 512\n",
       " 584\n",
       " 436\n",
       " 477\n",
       " 499\n",
       " 303\n",
       "   ⋮\n",
       " 251\n",
       " 181\n",
       " 235\n",
       " 166\n",
       "  86\n",
       "  53\n",
       " 282\n",
       " 302\n",
       " 140\n",
       "  22\n",
       " 292\n",
       " 657"
      ]
     },
     "execution_count": 257,
     "metadata": {},
     "output_type": "execute_result"
    }
   ],
   "source": [
    "Random.randperm(size(df,1))"
   ]
  },
  {
   "cell_type": "code",
   "execution_count": 258,
   "metadata": {},
   "outputs": [
    {
     "data": {
      "text/plain": [
       "482"
      ]
     },
     "execution_count": 258,
     "metadata": {},
     "output_type": "execute_result"
    }
   ],
   "source": [
    "df[:train] = Random.randperm(size(df,1)) .<= floor(Int, size(df,1)*.7)\n",
    "sum(df[:train])"
   ]
  },
  {
   "cell_type": "markdown",
   "metadata": {},
   "source": [
    "Then divide the data into separate arrays"
   ]
  },
  {
   "cell_type": "code",
   "execution_count": 259,
   "metadata": {},
   "outputs": [
    {
     "data": {
      "text/html": [
       "<table class=\"data-frame\"><thead><tr><th></th><th>input1</th><th>input2</th><th>input3</th><th>input4</th><th>input5</th><th>input6</th><th>input7</th><th>input8</th><th>input9</th><th>input10</th><th>input11</th><th>input12</th><th>input13</th><th>input14</th><th>y</th><th>train</th></tr><tr><th></th><th>Int64⍰</th><th>Float64⍰</th><th>Float64⍰</th><th>Int64⍰</th><th>Int64⍰</th><th>Int64⍰</th><th>Float64⍰</th><th>Int64⍰</th><th>Int64⍰</th><th>Int64⍰</th><th>Int64⍰</th><th>Int64⍰</th><th>Int64⍰</th><th>Int64⍰</th><th>Float64</th><th>Bool</th></tr></thead><tbody><tr><th>1</th><td>1</td><td>27.83</td><td>1.0</td><td>1</td><td>2</td><td>8</td><td>3.0</td><td>0</td><td>0</td><td>0</td><td>0</td><td>2</td><td>176</td><td>538</td><td>0.0</td><td>false</td></tr><tr><th>2</th><td>1</td><td>41.42</td><td>5.0</td><td>2</td><td>11</td><td>8</td><td>5.0</td><td>1</td><td>1</td><td>6</td><td>1</td><td>2</td><td>470</td><td>1</td><td>1.0</td><td>false</td></tr><tr><th>3</th><td>1</td><td>20.0</td><td>1.25</td><td>1</td><td>4</td><td>4</td><td>0.125</td><td>0</td><td>0</td><td>0</td><td>0</td><td>2</td><td>140</td><td>5</td><td>0.0</td><td>false</td></tr><tr><th>4</th><td>1</td><td>41.17</td><td>1.335</td><td>2</td><td>2</td><td>4</td><td>0.165</td><td>0</td><td>0</td><td>0</td><td>0</td><td>2</td><td>168</td><td>1</td><td>0.0</td><td>false</td></tr><tr><th>5</th><td>1</td><td>41.58</td><td>1.75</td><td>2</td><td>4</td><td>4</td><td>0.21</td><td>1</td><td>0</td><td>0</td><td>0</td><td>2</td><td>160</td><td>1</td><td>0.0</td><td>false</td></tr><tr><th>6</th><td>1</td><td>19.5</td><td>9.585</td><td>2</td><td>6</td><td>4</td><td>0.79</td><td>0</td><td>0</td><td>0</td><td>0</td><td>2</td><td>80</td><td>351</td><td>0.0</td><td>false</td></tr><tr><th>7</th><td>1</td><td>23.08</td><td>11.5</td><td>2</td><td>9</td><td>8</td><td>2.125</td><td>1</td><td>1</td><td>11</td><td>1</td><td>2</td><td>290</td><td>285</td><td>1.0</td><td>false</td></tr><tr><th>8</th><td>1</td><td>42.83</td><td>1.25</td><td>2</td><td>7</td><td>4</td><td>13.875</td><td>0</td><td>1</td><td>1</td><td>1</td><td>2</td><td>352</td><td>113</td><td>0.0</td><td>false</td></tr><tr><th>9</th><td>1</td><td>23.17</td><td>0.0</td><td>2</td><td>13</td><td>4</td><td>0.085</td><td>1</td><td>0</td><td>0</td><td>0</td><td>2</td><td>0</td><td>1</td><td>1.0</td><td>false</td></tr><tr><th>10</th><td>1</td><td>63.33</td><td>0.54</td><td>2</td><td>8</td><td>4</td><td>0.585</td><td>1</td><td>1</td><td>3</td><td>1</td><td>2</td><td>180</td><td>1</td><td>0.0</td><td>false</td></tr><tr><th>11</th><td>1</td><td>23.75</td><td>0.415</td><td>1</td><td>8</td><td>4</td><td>0.04</td><td>0</td><td>1</td><td>2</td><td>0</td><td>2</td><td>128</td><td>7</td><td>0.0</td><td>false</td></tr><tr><th>12</th><td>0</td><td>20.75</td><td>10.25</td><td>2</td><td>11</td><td>4</td><td>0.71</td><td>1</td><td>1</td><td>2</td><td>1</td><td>2</td><td>49</td><td>1</td><td>1.0</td><td>false</td></tr><tr><th>13</th><td>1</td><td>32.33</td><td>3.5</td><td>2</td><td>4</td><td>4</td><td>0.5</td><td>0</td><td>0</td><td>0</td><td>1</td><td>2</td><td>232</td><td>1</td><td>0.0</td><td>false</td></tr><tr><th>14</th><td>1</td><td>21.08</td><td>4.125</td><td>1</td><td>3</td><td>8</td><td>0.04</td><td>0</td><td>0</td><td>0</td><td>0</td><td>2</td><td>140</td><td>101</td><td>0.0</td><td>false</td></tr><tr><th>15</th><td>1</td><td>19.0</td><td>1.75</td><td>1</td><td>8</td><td>4</td><td>2.335</td><td>0</td><td>0</td><td>0</td><td>1</td><td>2</td><td>112</td><td>7</td><td>0.0</td><td>false</td></tr><tr><th>16</th><td>0</td><td>37.33</td><td>2.5</td><td>2</td><td>3</td><td>8</td><td>0.21</td><td>0</td><td>0</td><td>0</td><td>0</td><td>2</td><td>260</td><td>247</td><td>0.0</td><td>false</td></tr><tr><th>17</th><td>1</td><td>42.5</td><td>4.915</td><td>1</td><td>9</td><td>4</td><td>3.165</td><td>1</td><td>0</td><td>0</td><td>1</td><td>2</td><td>52</td><td>1443</td><td>1.0</td><td>false</td></tr><tr><th>18</th><td>1</td><td>56.75</td><td>12.25</td><td>2</td><td>7</td><td>4</td><td>1.25</td><td>1</td><td>1</td><td>4</td><td>1</td><td>2</td><td>200</td><td>1</td><td>1.0</td><td>false</td></tr><tr><th>19</th><td>0</td><td>23.75</td><td>0.71</td><td>2</td><td>9</td><td>4</td><td>0.25</td><td>0</td><td>1</td><td>1</td><td>1</td><td>2</td><td>240</td><td>5</td><td>0.0</td><td>false</td></tr><tr><th>20</th><td>1</td><td>48.75</td><td>26.335</td><td>1</td><td>1</td><td>1</td><td>0.0</td><td>1</td><td>0</td><td>0</td><td>1</td><td>2</td><td>0</td><td>1</td><td>0.0</td><td>false</td></tr><tr><th>21</th><td>1</td><td>28.25</td><td>5.04</td><td>1</td><td>8</td><td>5</td><td>1.5</td><td>1</td><td>1</td><td>8</td><td>1</td><td>2</td><td>144</td><td>8</td><td>1.0</td><td>false</td></tr><tr><th>22</th><td>1</td><td>40.25</td><td>21.5</td><td>2</td><td>10</td><td>9</td><td>20.0</td><td>1</td><td>1</td><td>11</td><td>0</td><td>2</td><td>0</td><td>1201</td><td>1.0</td><td>false</td></tr><tr><th>23</th><td>0</td><td>35.17</td><td>3.75</td><td>2</td><td>1</td><td>1</td><td>0.0</td><td>0</td><td>1</td><td>6</td><td>0</td><td>2</td><td>0</td><td>201</td><td>0.0</td><td>false</td></tr><tr><th>24</th><td>1</td><td>37.58</td><td>0.0</td><td>2</td><td>8</td><td>4</td><td>0.0</td><td>0</td><td>0</td><td>0</td><td>0</td><td>3</td><td>184</td><td>1</td><td>1.0</td><td>false</td></tr><tr><th>25</th><td>1</td><td>27.75</td><td>1.29</td><td>2</td><td>4</td><td>8</td><td>0.25</td><td>0</td><td>0</td><td>0</td><td>1</td><td>1</td><td>140</td><td>1</td><td>0.0</td><td>false</td></tr><tr><th>26</th><td>1</td><td>28.67</td><td>14.5</td><td>2</td><td>2</td><td>4</td><td>0.125</td><td>0</td><td>0</td><td>0</td><td>0</td><td>2</td><td>0</td><td>287</td><td>0.0</td><td>false</td></tr><tr><th>27</th><td>1</td><td>21.25</td><td>1.5</td><td>2</td><td>9</td><td>4</td><td>1.5</td><td>0</td><td>0</td><td>0</td><td>0</td><td>2</td><td>150</td><td>9</td><td>1.0</td><td>false</td></tr><tr><th>28</th><td>0</td><td>20.42</td><td>0.835</td><td>2</td><td>11</td><td>4</td><td>1.585</td><td>1</td><td>1</td><td>1</td><td>0</td><td>2</td><td>0</td><td>1</td><td>1.0</td><td>false</td></tr><tr><th>29</th><td>1</td><td>38.67</td><td>0.21</td><td>2</td><td>4</td><td>4</td><td>0.085</td><td>1</td><td>0</td><td>0</td><td>1</td><td>2</td><td>280</td><td>1</td><td>1.0</td><td>false</td></tr><tr><th>30</th><td>1</td><td>27.67</td><td>13.75</td><td>2</td><td>9</td><td>4</td><td>5.75</td><td>1</td><td>0</td><td>0</td><td>1</td><td>2</td><td>487</td><td>501</td><td>1.0</td><td>false</td></tr><tr><th>&vellip;</th><td>&vellip;</td><td>&vellip;</td><td>&vellip;</td><td>&vellip;</td><td>&vellip;</td><td>&vellip;</td><td>&vellip;</td><td>&vellip;</td><td>&vellip;</td><td>&vellip;</td><td>&vellip;</td><td>&vellip;</td><td>&vellip;</td><td>&vellip;</td><td>&vellip;</td><td>&vellip;</td></tr></tbody></table>"
      ],
      "text/plain": [
       "208×16 DataFrame. Omitted printing of 9 columns\n",
       "│ Row │ input1 │ input2   │ input3   │ input4 │ input5 │ input6 │ input7   │\n",
       "│     │ \u001b[90mInt64⍰\u001b[39m │ \u001b[90mFloat64⍰\u001b[39m │ \u001b[90mFloat64⍰\u001b[39m │ \u001b[90mInt64⍰\u001b[39m │ \u001b[90mInt64⍰\u001b[39m │ \u001b[90mInt64⍰\u001b[39m │ \u001b[90mFloat64⍰\u001b[39m │\n",
       "├─────┼────────┼──────────┼──────────┼────────┼────────┼────────┼──────────┤\n",
       "│ 1   │ 1      │ 27.83    │ 1.0      │ 1      │ 2      │ 8      │ 3.0      │\n",
       "│ 2   │ 1      │ 41.42    │ 5.0      │ 2      │ 11     │ 8      │ 5.0      │\n",
       "│ 3   │ 1      │ 20.0     │ 1.25     │ 1      │ 4      │ 4      │ 0.125    │\n",
       "│ 4   │ 1      │ 41.17    │ 1.335    │ 2      │ 2      │ 4      │ 0.165    │\n",
       "│ 5   │ 1      │ 41.58    │ 1.75     │ 2      │ 4      │ 4      │ 0.21     │\n",
       "│ 6   │ 1      │ 19.5     │ 9.585    │ 2      │ 6      │ 4      │ 0.79     │\n",
       "│ 7   │ 1      │ 23.08    │ 11.5     │ 2      │ 9      │ 8      │ 2.125    │\n",
       "│ 8   │ 1      │ 42.83    │ 1.25     │ 2      │ 7      │ 4      │ 13.875   │\n",
       "│ 9   │ 1      │ 23.17    │ 0.0      │ 2      │ 13     │ 4      │ 0.085    │\n",
       "│ 10  │ 1      │ 63.33    │ 0.54     │ 2      │ 8      │ 4      │ 0.585    │\n",
       "⋮\n",
       "│ 198 │ 1      │ 35.17    │ 25.125   │ 2      │ 14     │ 8      │ 1.625    │\n",
       "│ 199 │ 1      │ 23.75    │ 12.0     │ 2      │ 8      │ 4      │ 2.085    │\n",
       "│ 200 │ 1      │ 18.67    │ 5.0      │ 2      │ 11     │ 4      │ 0.375    │\n",
       "│ 201 │ 0      │ 19.75    │ 0.75     │ 2      │ 8      │ 4      │ 0.795    │\n",
       "│ 202 │ 1      │ 26.17    │ 0.835    │ 2      │ 13     │ 4      │ 1.165    │\n",
       "│ 203 │ 0      │ 25.25    │ 12.5     │ 2      │ 2      │ 4      │ 1.0      │\n",
       "│ 204 │ 1      │ 33.17    │ 3.165    │ 1      │ 14     │ 4      │ 3.165    │\n",
       "│ 205 │ 1      │ 39.5     │ 1.625    │ 2      │ 8      │ 4      │ 1.5      │\n",
       "│ 206 │ 0      │ 17.67    │ 0.0      │ 1      │ 5      │ 1      │ 0.0      │\n",
       "│ 207 │ 0      │ 17.92    │ 10.21    │ 2      │ 1      │ 1      │ 0.0      │\n",
       "│ 208 │ 1      │ 26.17    │ 12.5     │ 1      │ 4      │ 8      │ 1.25     │"
      ]
     },
     "execution_count": 259,
     "metadata": {},
     "output_type": "execute_result"
    }
   ],
   "source": [
    "df_train = df[df[:train],:]\n",
    "df_test = df[.!df[:train],:]"
   ]
  },
  {
   "cell_type": "code",
   "execution_count": 260,
   "metadata": {
    "collapsed": true
   },
   "outputs": [
    {
     "data": {
      "text/plain": [
       "482×14 Array{Union{Missing, Float64},2}:\n",
       " 1.0  22.08  11.46   2.0   4.0  4.0  …  0.0   0.0  1.0  2.0  100.0  1213.0\n",
       " 0.0  22.67   7.0    2.0   8.0  4.0     0.0   0.0  0.0  2.0  160.0     1.0\n",
       " 0.0  29.58   1.75   1.0   4.0  4.0     0.0   0.0  1.0  2.0  280.0     1.0\n",
       " 0.0  21.67  11.5    1.0   5.0  3.0     1.0  11.0  1.0  2.0    0.0     1.0\n",
       " 1.0  20.17   8.17   2.0   6.0  4.0     1.0  14.0  0.0  2.0   60.0   159.0\n",
       " 0.0  15.83   0.585  2.0   8.0  8.0  …  1.0   2.0  0.0  2.0  100.0     1.0\n",
       " 1.0  17.42   6.5    2.0   3.0  4.0     0.0   0.0  0.0  2.0   60.0   101.0\n",
       " 0.0  58.67   4.46   2.0  11.0  8.0     1.0   6.0  0.0  2.0   43.0   561.0\n",
       " 0.0  55.75   7.08   2.0   4.0  8.0     1.0   3.0  1.0  2.0  100.0    51.0\n",
       " 1.0  33.5    1.75   2.0  14.0  8.0     1.0   4.0  1.0  2.0  253.0   858.0\n",
       " 1.0  20.67   1.25   1.0   8.0  8.0  …  1.0   3.0  1.0  2.0  140.0   211.0\n",
       " 1.0  34.92   5.0    2.0  14.0  8.0     1.0   6.0  1.0  2.0    0.0  1001.0\n",
       " 1.0  58.58   2.71   2.0   8.0  4.0     0.0   0.0  1.0  2.0  320.0     1.0\n",
       " ⋮                              ⋮    ⋱             ⋮                      \n",
       " 1.0  25.67   0.29   1.0   8.0  4.0  …  0.0   0.0  1.0  2.0  160.0     1.0\n",
       " 1.0  48.58   0.205  1.0   4.0  4.0     1.0  11.0  0.0  2.0  380.0  2733.0\n",
       " 1.0  21.17   0.0    2.0   8.0  4.0     0.0   0.0  1.0  1.0    0.0     1.0\n",
       " 1.0  35.25  16.5    1.0   8.0  4.0     0.0   0.0  0.0  2.0   80.0     1.0\n",
       " 0.0  22.92  11.585  2.0  13.0  4.0     0.0   0.0  0.0  2.0   80.0  1350.0\n",
       " 0.0  48.17   1.335  2.0   3.0  7.0  …  0.0   0.0  0.0  2.0    0.0   121.0\n",
       " 1.0  43.0    0.29   1.0  13.0  8.0     1.0   8.0  0.0  2.0  100.0   376.0\n",
       " 1.0  31.57  10.5    2.0  14.0  4.0     0.0   0.0  0.0  2.0    0.0     1.0\n",
       " 1.0  20.67   0.415  2.0   8.0  4.0     0.0   0.0  0.0  2.0    0.0    45.0\n",
       " 0.0  18.83   9.54   2.0   6.0  4.0     0.0   0.0  0.0  2.0  100.0     1.0\n",
       " 0.0  27.42  14.5    2.0  14.0  8.0  …  1.0   1.0  0.0  2.0  120.0    12.0\n",
       " 1.0  41.0    0.04   2.0  10.0  4.0     1.0   1.0  0.0  1.0  560.0     1.0"
      ]
     },
     "execution_count": 260,
     "metadata": {},
     "output_type": "execute_result"
    }
   ],
   "source": [
    "X_train = convert(Array, df_train[1:14])"
   ]
  },
  {
   "cell_type": "code",
   "execution_count": 261,
   "metadata": {
    "collapsed": true
   },
   "outputs": [
    {
     "data": {
      "text/plain": [
       "482-element Array{Float64,1}:\n",
       " 0.0\n",
       " 0.0\n",
       " 0.0\n",
       " 1.0\n",
       " 1.0\n",
       " 1.0\n",
       " 0.0\n",
       " 1.0\n",
       " 0.0\n",
       " 1.0\n",
       " 0.0\n",
       " 1.0\n",
       " 0.0\n",
       " ⋮  \n",
       " 0.0\n",
       " 1.0\n",
       " 0.0\n",
       " 0.0\n",
       " 1.0\n",
       " 0.0\n",
       " 1.0\n",
       " 1.0\n",
       " 0.0\n",
       " 1.0\n",
       " 1.0\n",
       " 1.0"
      ]
     },
     "execution_count": 261,
     "metadata": {},
     "output_type": "execute_result"
    }
   ],
   "source": [
    "y_train = df_train[:y]"
   ]
  },
  {
   "cell_type": "code",
   "execution_count": 262,
   "metadata": {
    "collapsed": true
   },
   "outputs": [
    {
     "data": {
      "text/plain": [
       "208-element Array{Float64,1}:\n",
       " 0.0\n",
       " 1.0\n",
       " 0.0\n",
       " 0.0\n",
       " 0.0\n",
       " 0.0\n",
       " 1.0\n",
       " 0.0\n",
       " 1.0\n",
       " 0.0\n",
       " 0.0\n",
       " 1.0\n",
       " 0.0\n",
       " ⋮  \n",
       " 0.0\n",
       " 1.0\n",
       " 0.0\n",
       " 0.0\n",
       " 0.0\n",
       " 0.0\n",
       " 0.0\n",
       " 1.0\n",
       " 0.0\n",
       " 0.0\n",
       " 0.0\n",
       " 0.0"
      ]
     },
     "execution_count": 262,
     "metadata": {},
     "output_type": "execute_result"
    }
   ],
   "source": [
    "X_test = convert(Array, df_test[1:14])\n",
    "y_test = df_test[:y]"
   ]
  },
  {
   "cell_type": "markdown",
   "metadata": {},
   "source": [
    "### Step 3: Ordinary Least Squares\n",
    "Ordinary least square regression \n",
    "$$ \\min_w \\: \\dfrac{1}{2} \\| Y - X w \\|_2^2$$\n",
    "admits a closed-form solution\n",
    "$$ w^\\star = (X^T X)^{-1} X Y $$\n",
    "\n"
   ]
  },
  {
   "cell_type": "code",
   "execution_count": 277,
   "metadata": {},
   "outputs": [
    {
     "data": {
      "text/plain": [
       "linearRegression (generic function with 1 method)"
      ]
     },
     "execution_count": 277,
     "metadata": {},
     "output_type": "execute_result"
    }
   ],
   "source": [
    "using LinearAlgebra\n",
    "function linearRegression(X, y)\n",
    "    M = X'*X\n",
    "    M = inv(M)\n",
    "    return M*(X'*y)\n",
    "end"
   ]
  },
  {
   "cell_type": "code",
   "execution_count": 275,
   "metadata": {
    "collapsed": true
   },
   "outputs": [
    {
     "data": {
      "text/plain": [
       "14-element Array{Union{Missing, Float64},1}:\n",
       " -0.0382320521123299   \n",
       " -3.8289331865242696e-5\n",
       " -0.005162729673997548 \n",
       "  0.039582821493464246 \n",
       "  0.01457560706630033  \n",
       " -0.0017760114453349743\n",
       "  0.0049486146516989635\n",
       "  0.5706760572479913   \n",
       "  0.15426218333775107  \n",
       "  0.007967018192317635 \n",
       " -0.05694519525341613  \n",
       " -0.00770086343394413  \n",
       " -0.000259891304885199 \n",
       "  1.1704478378411655e-5"
      ]
     },
     "execution_count": 275,
     "metadata": {},
     "output_type": "execute_result"
    }
   ],
   "source": [
    "w = linearRegression(X_train, y_train)"
   ]
  },
  {
   "cell_type": "markdown",
   "metadata": {},
   "source": [
    "Timing"
   ]
  },
  {
   "cell_type": "code",
   "execution_count": 333,
   "metadata": {
    "collapsed": true
   },
   "outputs": [
    {
     "name": "stdout",
     "output_type": "stream",
     "text": [
      "  0.000310 seconds (13 allocations: 13.453 KiB)\n"
     ]
    },
    {
     "data": {
      "text/plain": [
       "14-element Array{Union{Missing, Float64},1}:\n",
       " -0.03823205211232969   \n",
       " -3.8289331865211254e-5 \n",
       " -0.005162729673997598  \n",
       "  0.039582821493463996  \n",
       "  0.014575607066300334  \n",
       " -0.001776011445334797  \n",
       "  0.004948614651698937  \n",
       "  0.5706760572479918    \n",
       "  0.154262183337751     \n",
       "  0.007967018192317665  \n",
       " -0.056945195253416084  \n",
       " -0.007700863433944098  \n",
       " -0.00025989130488519933\n",
       "  1.170447837841166e-5  "
      ]
     },
     "execution_count": 333,
     "metadata": {},
     "output_type": "execute_result"
    }
   ],
   "source": [
    "@time linearRegression(X_train, y_train)"
   ]
  },
  {
   "cell_type": "markdown",
   "metadata": {},
   "source": [
    "### Step 3: Best subset selection with JuMP"
   ]
  },
  {
   "cell_type": "markdown",
   "metadata": {},
   "source": [
    "Ordinary least square regression with sparsity constraint\n",
    "$$ \\min_w \\: \\dfrac{1}{2} \\| Y - X w \\|_2^2 \\quad s.t. \\quad \\| w \\|_0 \\leqslant k$$"
   ]
  },
  {
   "cell_type": "markdown",
   "metadata": {},
   "source": [
    "We can linearize the cardinality constraint by introducing and extra binary variable $s\\in \\{ 0,1\\}^p$ and big-$M$ constraints.\n",
    "$$ \\min_{w, s \\in \\{0,1\\}^p} \\: \\dfrac{1}{2} \\| Y - X w \\|_2^2 \\quad s.t. \\quad \\sum_j s_j \\leqslant k, \\; |w|\\leqslant M s$$"
   ]
  },
  {
   "cell_type": "code",
   "execution_count": 120,
   "metadata": {},
   "outputs": [],
   "source": [
    "using JuMP, Gurobi, CPLEX, LinearAlgebra"
   ]
  },
  {
   "cell_type": "code",
   "execution_count": 166,
   "metadata": {
    "collapsed": true
   },
   "outputs": [
    {
     "data": {
      "text/plain": [
       "sparseRegression (generic function with 1 method)"
      ]
     },
     "execution_count": 166,
     "metadata": {},
     "output_type": "execute_result"
    }
   ],
   "source": [
    "function sparseRegression(X, y, k; M=10,\n",
    "        verbose=true, MIPGap=1e-6, Tmax=600)\n",
    "\n",
    "    n,p = size(X)\n",
    "\n",
    "#     model = JuMP.Model(solver=CplexSolver(CPX_PARAM_SCRIND=1*verbose, CPX_PARAM_EPGAP=MIPGap, CPX_PARAM_TILIM=Tmax))\n",
    "    model = JuMP.Model(solver=GurobiSolver(OutputFlag=1*verbose, MIPGap=MIPGap, TimeLimit=Tmax))\n",
    "\n",
    "    #Variables\n",
    "    @variable(model, w[1:p])\n",
    "    @variable(model, s[i=1:p], category=:Bin)\n",
    "    \n",
    "    #Objective\n",
    "    @objective(model, Min, LinearAlgebra.dot(y-X*w, y-X*w)/2)\n",
    "    \n",
    "    #Constraints\n",
    "    @constraint(model, sum(s) <= k)  #sparsity\n",
    "    @constraint(model, w .<= M*s)    #big-M\n",
    "    @constraint(model, -w .<= M*s)   #big-M\n",
    "\n",
    "    status = solve(model)\n",
    "    \n",
    "    println(\"Final objective value: \", getobjectivevalue(model))\n",
    "    return getvalue(w), getvalue(s)\n",
    "end"
   ]
  },
  {
   "cell_type": "markdown",
   "metadata": {},
   "source": [
    "An easy example: $k = p$"
   ]
  },
  {
   "cell_type": "code",
   "execution_count": 175,
   "metadata": {
    "collapsed": true
   },
   "outputs": [
    {
     "name": "stdout",
     "output_type": "stream",
     "text": [
      "Academic license - for non-commercial use only\n",
      "Optimize a model with 29 rows, 28 columns and 70 nonzeros\n",
      "Model has 105 quadratic objective terms\n",
      "Variable types: 14 continuous, 14 integer (14 binary)\n",
      "Coefficient statistics:\n",
      "  Matrix range     [1e+00, 1e+01]\n",
      "  Objective range  [1e+02, 5e+05]\n",
      "  QObjective range [2e+02, 2e+10]\n",
      "  Bounds range     [1e+00, 1e+00]\n",
      "  RHS range        [1e+01, 1e+01]\n",
      "Warning: Model contains large quadratic objective coefficients\n",
      "         Consider reformulating model or setting NumericFocus parameter\n",
      "         to avoid numerical issues.\n",
      "Found heuristic solution: objective 0.0000000\n",
      "Presolve removed 29 rows and 14 columns\n",
      "Presolve time: 0.00s\n",
      "Presolved: 0 rows, 14 columns, 0 nonzeros\n",
      "Presolved model has 105 quadratic objective terms\n",
      "Variable types: 14 continuous, 0 integer (0 binary)\n",
      "Presolve time: 0.00s\n",
      "Presolved: 0 rows, 14 columns, 0 nonzeros\n",
      "Presolved model has 105 quadratic objective terms\n",
      "Root barrier log...\n",
      "\n",
      "Ordering time: 0.00s\n",
      "\n",
      "Barrier statistics:\n",
      " Free vars  : 13\n",
      " AA' NZ     : 7.800e+01\n",
      " Factor NZ  : 9.100e+01\n",
      " Factor Ops : 8.190e+02 (less than 1 second per iteration)\n",
      " Threads    : 1\n",
      "\n",
      "                  Objective                Residual\n",
      "Iter       Primal          Dual         Primal    Dual     Compl     Time\n",
      "   0  -3.08441715e+07 -6.24070881e+06  6.58e+03 2.49e+02  1.16e+06     0s\n",
      "   1  -2.02754835e+04 -1.09579144e+06  4.59e+00 1.74e-01  3.98e+04     0s\n",
      "   2  -1.80753231e+02 -8.78841207e+03  2.06e-02 7.82e-04  3.11e+02     0s\n",
      "   3  -8.87321647e+01 -9.80174952e+01  5.06e-07 1.92e-08  3.32e-01     0s\n",
      "   4  -8.87297779e+01 -8.87390747e+01  4.69e-13 4.55e-13  3.32e-04     0s\n",
      "   5  -8.87297779e+01 -8.87297872e+01  2.27e-13 1.82e-12  3.32e-07     0s\n",
      "   6  -8.87297779e+01 -8.87297779e+01  1.14e-13 9.09e-13  3.33e-10     0s\n",
      "\n",
      "Barrier solved model in 6 iterations and 0.00 seconds\n",
      "Optimal objective -8.87297779e+01\n",
      "\n",
      "\n",
      "Root relaxation: objective -8.872978e+01, 0 iterations, 0.00 seconds\n",
      "\n",
      "    Nodes    |    Current Node    |     Objective Bounds      |     Work\n",
      " Expl Unexpl |  Obj  Depth IntInf | Incumbent    BestBd   Gap | It/Node Time\n",
      "\n",
      "*    0     0               0     -88.7297778  -88.72978  0.00%     -    0s\n",
      "\n",
      "Explored 0 nodes (0 simplex iterations) in 0.00 seconds\n",
      "Thread count was 4 (of 4 available processors)\n",
      "\n",
      "Solution count 2: -88.7298 0 \n",
      "\n",
      "Optimal solution found (tolerance 1.00e-06)\n",
      "Best objective -8.872977784997e+01, best bound -8.872977785207e+01, gap 0.0000%\n",
      "Final objective value: 25.27022215003221\n"
     ]
    },
    {
     "data": {
      "text/plain": [
       "([-0.0172539, -0.000781153, -0.00422994, 0.0352977, 0.0220486, -0.00950128, 0.0148418, 0.557382, 0.0850958, 0.00803085, -0.0397398, -0.00431352, -0.000123353, 1.00465e-5], [1.0, 1.0, 1.0, 1.0, 1.0, 1.0, 1.0, 1.0, 1.0, 1.0, 1.0, 1.0, 1.0, 1.0])"
      ]
     },
     "execution_count": 175,
     "metadata": {},
     "output_type": "execute_result"
    }
   ],
   "source": [
    "w, s = sparseRegression(X_train, y_train, 14)"
   ]
  },
  {
   "cell_type": "markdown",
   "metadata": {},
   "source": [
    "Make sure the big-$M$ value is not binding"
   ]
  },
  {
   "cell_type": "code",
   "execution_count": 176,
   "metadata": {
    "collapsed": true
   },
   "outputs": [
    {
     "data": {
      "text/plain": [
       "14-element Array{Float64,1}:\n",
       " -0.01725387415040025   \n",
       " -0.0007811533695498696 \n",
       " -0.004229942566686518  \n",
       "  0.03529773597758634   \n",
       "  0.02204857545493688   \n",
       " -0.009501276944185122  \n",
       "  0.014841777261613842  \n",
       "  0.557381881370949     \n",
       "  0.08509582497041102   \n",
       "  0.008030846118842305  \n",
       " -0.03973980547765876   \n",
       " -0.004313517897148955  \n",
       " -0.00012335299295074265\n",
       "  1.0046487291859307e-5 "
      ]
     },
     "execution_count": 176,
     "metadata": {},
     "output_type": "execute_result"
    }
   ],
   "source": [
    "w"
   ]
  },
  {
   "cell_type": "code",
   "execution_count": 177,
   "metadata": {},
   "outputs": [
    {
     "data": {
      "text/plain": [
       "false"
      ]
     },
     "execution_count": 177,
     "metadata": {},
     "output_type": "execute_result"
    }
   ],
   "source": [
    "any(abs.(w) .> 10)"
   ]
  },
  {
   "cell_type": "markdown",
   "metadata": {},
   "source": [
    "The solution is trivial"
   ]
  },
  {
   "cell_type": "code",
   "execution_count": 178,
   "metadata": {
    "collapsed": true
   },
   "outputs": [
    {
     "data": {
      "text/plain": [
       "14-element Array{Float64,1}:\n",
       " 1.0\n",
       " 1.0\n",
       " 1.0\n",
       " 1.0\n",
       " 1.0\n",
       " 1.0\n",
       " 1.0\n",
       " 1.0\n",
       " 1.0\n",
       " 1.0\n",
       " 1.0\n",
       " 1.0\n",
       " 1.0\n",
       " 1.0"
      ]
     },
     "execution_count": 178,
     "metadata": {},
     "output_type": "execute_result"
    }
   ],
   "source": [
    "s"
   ]
  },
  {
   "cell_type": "code",
   "execution_count": 179,
   "metadata": {},
   "outputs": [
    {
     "data": {
      "text/plain": [
       "6.210654375711913e-13"
      ]
     },
     "execution_count": 179,
     "metadata": {},
     "output_type": "execute_result"
    }
   ],
   "source": [
    "LinearAlgebra.norm(w - inv(X_train'*X_train)*(X_train'*y_train))"
   ]
  },
  {
   "cell_type": "code",
   "execution_count": 181,
   "metadata": {},
   "outputs": [
    {
     "name": "stdout",
     "output_type": "stream",
     "text": [
      "Out-of-sample performance: 10.132358774723583\n"
     ]
    }
   ],
   "source": [
    "println(\"Out-of-sample performance: \", norm(X_test*w - y_test)^2/2)"
   ]
  },
  {
   "cell_type": "markdown",
   "metadata": {},
   "source": [
    "Another example"
   ]
  },
  {
   "cell_type": "code",
   "execution_count": 182,
   "metadata": {
    "collapsed": true
   },
   "outputs": [
    {
     "name": "stdout",
     "output_type": "stream",
     "text": [
      "Academic license - for non-commercial use only\n",
      "Optimize a model with 29 rows, 28 columns and 70 nonzeros\n",
      "Model has 105 quadratic objective terms\n",
      "Variable types: 14 continuous, 14 integer (14 binary)\n",
      "Coefficient statistics:\n",
      "  Matrix range     [1e+00, 1e+01]\n",
      "  Objective range  [1e+02, 5e+05]\n",
      "  QObjective range [2e+02, 2e+10]\n",
      "  Bounds range     [1e+00, 1e+00]\n",
      "  RHS range        [5e+00, 5e+00]\n",
      "Warning: Model contains large quadratic objective coefficients\n",
      "         Consider reformulating model or setting NumericFocus parameter\n",
      "         to avoid numerical issues.\n",
      "Found heuristic solution: objective 0.0000000\n",
      "Presolve time: 0.00s\n",
      "Presolved: 29 rows, 28 columns, 70 nonzeros\n",
      "Presolved model has 105 quadratic objective terms\n",
      "Variable types: 14 continuous, 14 integer (14 binary)\n",
      "\n",
      "Root relaxation: objective -8.872978e+01, 76 iterations, 0.00 seconds\n",
      "\n",
      "    Nodes    |    Current Node    |     Objective Bounds      |     Work\n",
      " Expl Unexpl |  Obj  Depth IntInf | Incumbent    BestBd   Gap | It/Node Time\n",
      "\n",
      "     0     0  -88.72978    0   12    0.00000  -88.72978      -     -    0s\n",
      "H    0     0                     -87.3597366  -88.72978  1.57%     -    0s\n",
      "     0     2  -88.72978    0   11  -87.35974  -88.72978  1.57%     -    0s\n",
      "*   13     4               5     -87.7973244  -88.47800  0.78%   4.5    0s\n",
      "*   35     6               6     -87.8350921  -88.17643  0.39%   4.1    0s\n",
      "*   50     1               7     -87.8588470  -87.85885  0.00%   3.9    0s\n",
      "\n",
      "Explored 52 nodes (276 simplex iterations) in 0.01 seconds\n",
      "Thread count was 4 (of 4 available processors)\n",
      "\n",
      "Solution count 5: -87.8588 -87.8351 -87.7973 ... 0\n",
      "\n",
      "Optimal solution found (tolerance 1.00e-06)\n",
      "Best objective -8.785884701095e+01, best bound -8.785884701095e+01, gap 0.0000%\n",
      "Final objective value: 26.14115298905098\n"
     ]
    },
    {
     "data": {
      "text/plain": [
       "([0.0, 0.0, 0.0, 0.0, 0.0153826, 0.0, 0.0, 0.560069, 0.091543, 0.00903591, 0.0, 0.0, 0.0, 9.04507e-6], [0.0, 0.0, 0.0, 0.0, 1.0, -0.0, 0.0, 1.0, 1.0, 1.0, 0.0, 0.0, 0.0, 1.0])"
      ]
     },
     "execution_count": 182,
     "metadata": {},
     "output_type": "execute_result"
    }
   ],
   "source": [
    "w, s = sparseRegression(X_train, y_train, 5)"
   ]
  },
  {
   "cell_type": "code",
   "execution_count": 184,
   "metadata": {
    "collapsed": true
   },
   "outputs": [
    {
     "data": {
      "text/plain": [
       "14-element Array{Float64,1}:\n",
       " 0.0                 \n",
       " 0.0                 \n",
       " 0.0                 \n",
       " 0.0                 \n",
       " 0.015382578467273783\n",
       " 0.0                 \n",
       " 0.0                 \n",
       " 0.5600686240405057  \n",
       " 0.09154297606750145 \n",
       " 0.009035914928043514\n",
       " 0.0                 \n",
       " 0.0                 \n",
       " 0.0                 \n",
       " 9.045072429419977e-6"
      ]
     },
     "execution_count": 184,
     "metadata": {},
     "output_type": "execute_result"
    }
   ],
   "source": [
    "w"
   ]
  },
  {
   "cell_type": "code",
   "execution_count": 183,
   "metadata": {
    "collapsed": true
   },
   "outputs": [
    {
     "data": {
      "text/plain": [
       "14-element Array{Float64,1}:\n",
       "  0.0\n",
       "  0.0\n",
       "  0.0\n",
       "  0.0\n",
       "  1.0\n",
       " -0.0\n",
       "  0.0\n",
       "  1.0\n",
       "  1.0\n",
       "  1.0\n",
       "  0.0\n",
       "  0.0\n",
       "  0.0\n",
       "  1.0"
      ]
     },
     "execution_count": 183,
     "metadata": {},
     "output_type": "execute_result"
    }
   ],
   "source": [
    "s"
   ]
  },
  {
   "cell_type": "code",
   "execution_count": 185,
   "metadata": {},
   "outputs": [
    {
     "name": "stdout",
     "output_type": "stream",
     "text": [
      "Out-of-sample performance: 10.132788880127833\n"
     ]
    }
   ],
   "source": [
    "println(\"Out-of-sample performance: \", norm(X_test*w - y_test)^2/2)"
   ]
  },
  {
   "cell_type": "markdown",
   "metadata": {},
   "source": [
    "### Step 3: Benchmark against existing methods\n",
    "Julia has a growing number of packages implementing basic up to state-of-the-art statistics/ML techniques (e.g. GLM, GLMnet, LibLinear, ...). \n",
    "\n",
    "When this is not the case, we can also interact directly with R or Julia"
   ]
  },
  {
   "cell_type": "code",
   "execution_count": 334,
   "metadata": {},
   "outputs": [
    {
     "name": "stderr",
     "output_type": "stream",
     "text": [
      "┌ Info: Precompiling RCall [6f49c342-dc21-5d91-9882-a32aef131414]\n",
      "└ @ Base loading.jl:1189\n"
     ]
    }
   ],
   "source": [
    "using RCall"
   ]
  },
  {
   "cell_type": "markdown",
   "metadata": {},
   "source": [
    "We can easily write and compile R code with the Rstring syntaxt"
   ]
  },
  {
   "cell_type": "code",
   "execution_count": 335,
   "metadata": {},
   "outputs": [
    {
     "data": {
      "text/plain": [
       "RObject{RealSxp}\n",
       "[1] 3\n"
      ]
     },
     "execution_count": 335,
     "metadata": {},
     "output_type": "execute_result"
    }
   ],
   "source": [
    "R\"1+2\""
   ]
  },
  {
   "cell_type": "markdown",
   "metadata": {},
   "source": [
    "We can use Julia objects in the R code using the \"$\" prefix"
   ]
  },
  {
   "cell_type": "code",
   "execution_count": 337,
   "metadata": {
    "collapsed": true
   },
   "outputs": [
    {
     "data": {
      "text/plain": [
       "RObject{VecSxp}\n",
       "    input1 input2 input3 input4 input5 input6 input7 input8 input9 input10\n",
       "1        1  22.08 11.460      2      4      4  1.585      0      0       0\n",
       "2        0  22.67  7.000      2      8      4  0.165      0      0       0\n",
       "3        0  29.58  1.750      1      4      4  1.250      0      0       0\n",
       "4        0  21.67 11.500      1      5      3  0.000      1      1      11\n",
       "5        1  20.17  8.170      2      6      4  1.960      1      1      14\n",
       "6        0  15.83  0.585      2      8      8  1.500      1      1       2\n",
       "7        1  17.42  6.500      2      3      4  0.125      0      0       0\n",
       "8        0  58.67  4.460      2     11      8  3.040      1      1       6\n",
       "9        1  27.83  1.000      1      2      8  3.000      0      0       0\n",
       "10       0  55.75  7.080      2      4      8  6.750      1      1       3\n",
       "11       1  33.50  1.750      2     14      8  4.500      1      1       4\n",
       "12       1  41.42  5.000      2     11      8  5.000      1      1       6\n",
       "13       1  20.67  1.250      1      8      8  1.375      1      1       3\n",
       "14       1  34.92  5.000      2     14      8  7.500      1      1       6\n",
       "15       1  58.58  2.710      2      8      4  2.415      0      0       0\n",
       "16       1  48.08  6.040      2      4      4  0.040      0      0       0\n",
       "17       1  29.58  4.500      2      9      4  7.500      1      1       2\n",
       "18       0  18.92  9.000      2      6      4  0.750      1      1       2\n",
       "19       1  20.00  1.250      1      4      4  0.125      0      0       0\n",
       "20       0  22.42  5.665      2     11      4  2.585      1      1       7\n",
       "21       0  28.17  0.585      2      6      4  0.040      0      0       0\n",
       "22       0  19.17  0.585      1      6      4  0.585      1      0       0\n",
       "23       1  41.17  1.335      2      2      4  0.165      0      0       0\n",
       "24       1  41.58  1.750      2      4      4  0.210      1      0       0\n",
       "25       1  19.50  9.585      2      6      4  0.790      0      0       0\n",
       "26       1  32.75  1.500      2     13      8  5.500      1      1       3\n",
       "27       1  22.50  0.125      1      4      4  0.125      0      0       0\n",
       "28       1  33.17  3.040      1      8      8  2.040      1      1       1\n",
       "29       0  30.67 12.000      2      8      4  2.000      1      1       1\n",
       "30       1  23.08  2.500      2      8      4  1.085      1      1      11\n",
       "31       1  27.00  0.750      2      8      8  4.250      1      1       3\n",
       "32       0  20.42 10.500      1     14      8  0.000      0      0       0\n",
       "33       1  52.33  1.375      1      8      8  9.460      1      0       0\n",
       "34       1  23.08 11.500      2      9      8  2.125      1      1      11\n",
       "35       1  42.83  1.250      2      7      4 13.875      0      1       1\n",
       "36       1  74.83 19.000      1      1      1  0.040      0      1       2\n",
       "37       1  25.00 12.500      2      6      4  3.000      1      0       0\n",
       "38       1  39.58 13.915      2      9      4  8.625      1      1       6\n",
       "39       0  47.75  8.000      2      8      4  7.875      1      1       6\n",
       "40       0  47.42  3.000      2     14      4 13.875      1      1       2\n",
       "41       1  23.17  0.000      2     13      4  0.085      1      0       0\n",
       "42       1  22.58  1.500      1      6      4  0.540      0      0       0\n",
       "43       1  26.75  1.125      2     14      8  1.250      1      0       0\n",
       "44       1  63.33  0.540      2      8      4  0.585      1      1       3\n",
       "45       1  23.75  0.415      1      8      4  0.040      0      1       2\n",
       "46       0  20.75 10.250      2     11      4  0.710      1      1       2\n",
       "47       0  24.50  1.750      1      8      4  0.165      0      0       0\n",
       "48       1  16.17  0.040      2      8      4  0.040      0      0       0\n",
       "49       0  29.50  2.000      1     10      8  2.000      0      0       0\n",
       "50       0  52.83 15.000      2      8      4  5.500      1      1      14\n",
       "51       1  32.33  3.500      2      4      4  0.500      0      0       0\n",
       "52       1  21.08  4.125      1      3      8  0.040      0      0       0\n",
       "53       1  28.17  0.125      1      4      4  0.085      0      0       0\n",
       "54       1  19.00  1.750      1      8      4  2.335      0      0       0\n",
       "55       1  27.58  3.250      1     11      8  5.085      0      1       2\n",
       "56       1  27.83  1.500      2      9      4  2.000      1      1      11\n",
       "57       1  40.00  6.500      2      6      5  3.500      1      1       1\n",
       "58       0  37.33  2.500      2      3      8  0.210      0      0       0\n",
       "59       1  42.50  4.915      1      9      4  3.165      1      0       0\n",
       "60       1  56.75 12.250      2      7      4  1.250      1      1       4\n",
       "61       1  43.17  5.000      2      3      5  2.250      0      0       0\n",
       "62       0  23.75  0.710      2      9      4  0.250      0      1       1\n",
       "63       1  18.50  2.000      2      3      4  1.500      1      1       2\n",
       "64       0  40.83  3.500      2      3      5  0.500      0      0       0\n",
       "65       0  24.50  0.500      2     11      8  1.500      1      0       0\n",
       "66       1  42.00  9.790      2     14      8  7.960      1      1       8\n",
       "67       0  19.50  0.165      2     11      4  0.040      0      0       0\n",
       "68       1  21.50 11.500      2      3      4  0.500      1      0       0\n",
       "69       1  31.25  2.835      2      1      1  0.000      0      1       5\n",
       "70       1  27.25  1.585      2     13      8  1.835      1      1      12\n",
       "71       1  48.75 26.335      1      1      1  0.000      1      0       0\n",
       "72       0  30.42  1.375      2      9      8  0.040      0      1       3\n",
       "73       1  29.42  1.250      2      9      4  1.750      0      0       0\n",
       "74       1  28.25  5.040      1      8      5  1.500      1      1       8\n",
       "75       1  40.25 21.500      2     10      9 20.000      1      1      11\n",
       "76       1  36.50  4.250      2     11      4  3.500      0      0       0\n",
       "77       1  25.58  0.335      2      4      8  3.500      0      0       0\n",
       "78       1  29.83  3.500      2      8      4  0.165      0      0       0\n",
       "79       1  23.08  0.000      2      4      4  1.000      0      1      11\n",
       "80       0  32.17  1.460      2      9      4  1.085      1      1      16\n",
       "81       1  25.17  3.500      2     13      4  0.625      1      1       7\n",
       "82       0  35.17  3.750      2      1      1  0.000      0      1       6\n",
       "83       0  18.58 10.000      2      2      4  0.415      0      0       0\n",
       "84       1  39.92  5.000      2      3      5  0.210      0      0       0\n",
       "85       1  23.42  1.000      2      8      4  0.500      0      0       0\n",
       "86       1  37.58  0.000      2      8      4  0.000      0      0       0\n",
       "87       0  24.75 13.665      2     11      8  1.500      0      0       0\n",
       "88       0  47.00 13.000      2      3      5  5.165      1      1       9\n",
       "89       1  34.17  5.250      2      9      4  0.085      0      0       0\n",
       "90       1  22.17  0.585      1      1      1  0.000      0      0       0\n",
       "91       1  27.75  1.290      2      4      8  0.250      0      0       0\n",
       "92       1  42.75  4.085      2      6      4  0.040      0      0       0\n",
       "93       1  28.67 14.500      2      2      4  0.125      0      0       0\n",
       "94       1  36.25  5.000      2      8      5  2.500      1      1       6\n",
       "95       0  18.17 10.000      1     11      8  0.165      0      0       0\n",
       "96       1  21.25  1.500      2      9      4  1.500      0      0       0\n",
       "97       0  38.92  1.665      2      6      4  0.250      0      0       0\n",
       "98       1  31.83  0.040      1      7      4  0.040      0      0       0\n",
       "99       0  17.33  9.500      2      6      4  1.750      0      1      10\n",
       "100      0  20.42  0.835      2     11      4  1.585      1      1       1\n",
       "101      0  39.08  4.000      2      8      4  3.000      0      0       0\n",
       "102      1  38.67  0.210      2      4      4  0.085      1      0       0\n",
       "103      1  27.67 13.750      2      9      4  5.750      1      0       0\n",
       "104      1  27.75  0.585      1     13      4  0.250      1      1       2\n",
       "105      1  19.00  0.000      1      1      1  0.000      0      1       4\n",
       "106      0  25.00  0.875      2     14      8  1.040      1      0       0\n",
       "107      1  27.67  2.000      2     14      8  1.000      1      1       4\n",
       "108      1  22.25  9.000      2      6      4  0.085      0      0       0\n",
       "109      0  49.83 13.585      2      4      8  8.500      1      0       0\n",
       "110      1  32.33  2.500      2      8      4  1.250      0      0       0\n",
       "111      1  38.25 10.125      1      4      4  0.125      0      0       0\n",
       "112      1  47.33  6.500      2      8      4  1.000      0      0       0\n",
       "113      1  27.83  4.000      1      3      8  5.750      1      1       2\n",
       "114      0  35.75  0.915      2      6      4  0.750      1      1       4\n",
       "115      1  33.58  0.250      2      3      5  4.000      0      0       0\n",
       "116      1  34.08  0.080      1      7      5  0.040      1      1       1\n",
       "117      0  20.75 10.335      2     13      8  0.335      1      1       1\n",
       "118      1  33.17  1.000      2     14      4  0.750      1      1       7\n",
       "119      1  22.75 11.000      2     11      4  2.500      1      1       7\n",
       "120      1  48.75  8.500      2      8      8 12.500      1      1       9\n",
       "121      1  40.58  5.000      2      8      4  5.000      1      1       7\n",
       "122      1  20.67  0.835      1      8      4  2.000      0      0       0\n",
       "123      0  38.75  1.500      2      1      1  0.000      0      0       0\n",
       "124      0  57.08 19.500      2      8      4  5.500      1      1       7\n",
       "125      0  31.25  3.750      2     13      8  0.625      1      1       9\n",
       "126      1  22.00  0.790      2      9      4  0.290      0      1       1\n",
       "127      0  58.33 10.000      2     11      4  4.000      1      1      14\n",
       "128      1  28.92  0.375      2      8      4  0.290      0      0       0\n",
       "129      0  46.00  4.000      2      5      3  0.000      1      0       0\n",
       "130      1  21.00  3.000      1      2      4  1.085      1      1       8\n",
       "131      0  24.75 12.500      2      6      4  1.500      1      1      12\n",
       "132      0  20.83  0.500      1     10      2  1.000      0      0       0\n",
       "133      1  24.58 13.500      1      1      1  0.000      0      0       0\n",
       "134      0  26.50  2.710      1      8      4  0.085      0      0       0\n",
       "135      1  40.92  0.835      2      1      1  0.000      1      0       0\n",
       "136      0  38.33  4.415      2      8      4  0.125      0      0       0\n",
       "137      1  19.58  0.585      2      1      1  0.000      0      1       3\n",
       "138      1  39.25  9.500      2      7      4  6.500      1      1      14\n",
       "139      1  25.75  0.500      2      8      4  1.460      1      1       5\n",
       "140      0  46.08  3.000      2      8      4  2.375      1      1       8\n",
       "141      1  19.67 10.000      1      4      8  0.835      1      0       0\n",
       "142      0  22.25  1.250      1      1      1  3.250      0      0       0\n",
       "143      1  18.83  3.540      1      1      1  0.000      0      0       0\n",
       "144      1  64.08 20.000      2     14      8 17.500      1      1       9\n",
       "145      0  16.50  1.250      2     11      4  0.250      0      1       1\n",
       "146      0  68.67 15.000      2     10      9  0.000      1      1      14\n",
       "147      1  76.75 22.290      2     10      9 12.750      1      1       1\n",
       "148      0  15.92  2.875      2     11      4  0.085      0      0       0\n",
       "149      1  34.83  4.000      2      2      5 12.500      1      0       0\n",
       "150      0  47.42  8.000      2     10      5  6.500      1      1       6\n",
       "151      1  23.17  0.000      2      8      4  0.000      0      0       0\n",
       "152      1  45.17  1.500      2      8      4  2.500      1      0       0\n",
       "153      1  15.17  7.000      2     10      4  1.000      0      0       0\n",
       "154      1  18.83  0.415      1      8      4  0.165      0      1       1\n",
       "155      1  52.50  6.500      2      4      4  6.290      1      1      15\n",
       "156      1  19.17  0.000      1      7      5  0.000      0      0       0\n",
       "157      1  18.00  0.165      2     11      7  0.210      0      0       0\n",
       "158      1  37.50  0.835      2     10      4  0.040      0      0       0\n",
       "159      1  22.67  1.585      1      9      4  3.085      1      1       6\n",
       "160      1  47.83  4.165      2     14      5  0.085      0      0       0\n",
       "161      1  34.08  2.500      2      8      4  1.000      0      0       0\n",
       "162      0  33.08  1.625      2      2      4  0.540      0      0       0\n",
       "163      1  43.08  0.375      1      8      4  0.375      1      1       8\n",
       "164      1  34.50  4.040      1      3      5  8.500      1      1       7\n",
       "165      1  42.75  3.000      2      3      5  1.000      1      0       0\n",
       "166      1  18.25  0.165      2      2      4  0.250      0      0       0\n",
       "167      1  23.08  2.500      2      1      1  0.085      0      0       0\n",
       "168      0  22.50  8.460      1     14      4  2.460      0      0       0\n",
       "169      1  17.92  0.205      2      6      4  0.040      0      0       0\n",
       "170      1  18.42 10.415      1      6      4  0.125      1      0       0\n",
       "171      0  27.67  1.500      2      7      4  2.000      1      0       0\n",
       "172      0  18.92  9.250      1      8      4  1.000      1      1       4\n",
       "173      1  22.67  0.750      2      3      4  1.585      0      1       1\n",
       "174      1  62.50 12.750      1      8      8  5.000      1      0       0\n",
       "175      0  23.50  9.000      2     11      4  8.500      1      1       5\n",
       "176      1  35.25  3.165      2     14      8  3.750      1      0       0\n",
       "177      0  56.83  4.250      1      1      1  5.000      0      0       0\n",
       "178      0  53.33  0.165      2      1      1  0.000      0      0       0\n",
       "179      1  41.17  4.040      2     13      8  7.000      1      1       8\n",
       "180      1  42.17  5.040      2     11      8 12.750      1      0       0\n",
       "181      1  41.17  1.250      1      9      4  0.250      0      0       0\n",
       "182      0  33.75  0.750      2      4      5  1.000      1      1       3\n",
       "183      1  25.67 12.500      2     13      4  1.210      1      1      67\n",
       "184      1  24.33  6.625      1      2      4  5.500      1      0       0\n",
       "185      1  23.33 11.625      1      9      4  0.835      1      0       0\n",
       "186      1  30.67  2.500      2     13      8  2.250      0      0       0\n",
       "187      1  37.17  4.000      2      8      5  5.000      1      0       0\n",
       "188      1  26.25  1.540      2      9      4  0.125      0      0       0\n",
       "189      0  29.75  0.665      2      9      4  0.250      0      0       0\n",
       "190      0  23.00  1.835      2      5      3  0.000      0      1       1\n",
       "191      1  17.25  3.000      2      4      4  0.040      0      0       0\n",
       "192      1  29.25 14.790      2      6      4  5.040      1      1       5\n",
       "193      0  28.58  3.540      2      3      5  0.500      1      0       0\n",
       "194      1  34.58  0.000      2      8      4  0.000      0      0       0\n",
       "195      1  23.42  0.585      2      8      8  0.085      1      0       0\n",
       "196      1  25.00 11.250      2      8      4  2.500      1      1      17\n",
       "197      0  18.75  7.500      2     11      4  2.710      1      1       5\n",
       "198      1  17.08  0.250      2     11      4  0.335      0      1       4\n",
       "199      0  16.08  0.335      2      1      1  0.000      0      1       1\n",
       "200      1  32.92  2.500      2      6      4  1.750      0      1       2\n",
       "201      0  20.33 10.000      2      8      8  1.000      1      1       4\n",
       "202      0  21.75  1.750      1      5      3  0.000      0      0       0\n",
       "203      1  33.17  1.040      2     12      8  6.500      1      0       0\n",
       "204      0  25.33  2.085      2      8      8  2.750      1      0       0\n",
       "205      0  24.75  3.000      2     11      8  1.835      1      1      19\n",
       "206      1  30.83  0.000      2      9      4  1.250      1      1       1\n",
       "207      1  20.75  5.085      1      5      4  0.290      0      0       0\n",
       "208      0  40.33  8.125      1      4      4  0.165      0      1       2\n",
       "209      1  29.42  1.250      2      8      8  0.250      0      1       2\n",
       "210      1  40.92  0.500      1      7      4  0.500      0      0       0\n",
       "211      0  29.50  0.460      2      4      4  0.540      1      1       4\n",
       "212      1  54.42  0.500      1      4      8  3.960      1      0       0\n",
       "213      1  34.00  5.500      1      8      4  1.500      0      0       0\n",
       "214      1  25.00 12.000      2      4      4  2.250      1      1       2\n",
       "215      0  26.58  2.540      1      1      1  0.000      0      0       0\n",
       "216      0  33.08  4.625      2     11      8  1.625      1      1       2\n",
       "217      1  33.67  2.165      2      8      4  1.500      0      0       0\n",
       "218      1  36.17  5.500      2      3      5  5.000      0      0       0\n",
       "219      1  19.50  0.290      2      4      4  0.290      0      0       0\n",
       "220      1  24.17  0.875      2     11      4  4.625      1      1       2\n",
       "221      0  30.50  6.500      2      8      5  4.000      1      1       7\n",
       "222      1  20.00  7.000      2      8      4  0.500      0      0       0\n",
       "223      1  25.33  0.580      2      8      4  0.290      1      1       7\n",
       "224      1  29.58  4.750      2      7      4  2.000      0      1       1\n",
       "225      1  43.17  2.250      2      3      5  0.750      1      0       0\n",
       "226      1  28.75  1.165      2      4      4  0.500      1      0       0\n",
       "227      1  31.57  3.000      1      3      5  7.000      0      0       0\n",
       "228      1  20.25  9.960      2     10      2  0.000      1      0       0\n",
       "229      1  45.00  8.500      2     13      8 14.000      1      1       1\n",
       "230      0  22.83  2.290      2     11      8  2.290      1      1       7\n",
       "231      0  20.67  3.000      2     11      4  0.165      1      1       3\n",
       "232      1  27.83  1.500      2      9      4  2.250      0      1       1\n",
       "233      1  40.92  2.250      1     14      8 10.000      1      0       0\n",
       "234      1  56.42 28.000      1      8      4 28.500      1      1      40\n",
       "235      0  64.08  0.165      2      1      1  0.000      1      1       1\n",
       "236      0  22.42 11.250      1     14      8  0.750      1      1       4\n",
       "237      0  24.33  2.500      1      3      5  4.500      0      0       0\n",
       "238      0  69.50  6.000      2      1      1  0.000      0      0       0\n",
       "239      1  35.58  0.750      2      4      4  1.500      0      0       0\n",
       "240      1  48.33 12.000      2      7      4 16.000      1      0       0\n",
       "241      0  28.08 15.000      1     10      9  0.000      1      0       0\n",
       "242      1  35.17  2.500      2      4      4  4.500      1      1       7\n",
       "243      1  49.50  7.585      2      3      5  7.585      1      1      15\n",
       "244      1  80.25  5.500      2      8      4  0.540      1      0       0\n",
       "245      1  29.25 13.000      2      2      8  0.500      0      0       0\n",
       "246      0  16.92  0.500      2      3      4  0.165      0      1       6\n",
       "247      0  16.00  0.165      2      6      4  1.000      0      1       2\n",
       "248      1  60.08 14.500      2      1      1 18.000      1      1      15\n",
       "249      1  28.00  2.000      2      4      8  4.165      1      1       2\n",
       "250      1  41.50  1.540      2      3      5  3.500      0      0       0\n",
       "251      1  24.08  9.000      2      6      4  0.250      0      0       0\n",
       "252      1  24.50 13.335      1      6      4  0.040      0      0       0\n",
       "253      1  34.75 15.000      2     12      7  5.375      1      1       9\n",
       "254      1  33.67  1.250      2      9      4  1.165      0      0       0\n",
       "255      0  40.83 10.000      2     11      8  1.750      1      0       0\n",
       "256      1  20.42  1.835      2      8      4  2.250      1      1       1\n",
       "257      1  37.50  1.125      1      2      4  1.500      0      0       0\n",
       "258      1  48.50  4.250      2      7      4  0.125      1      0       0\n",
       "259      1  23.00  0.750      2      7      4  0.500      0      0       0\n",
       "260      1  35.00  3.375      2      8      8  8.290      0      0       0\n",
       "261      1  16.33  2.750      2      6      4  0.665      0      1       1\n",
       "262      1  22.67 10.500      2     11      8  1.335      1      0       0\n",
       "263      0  21.75 11.750      2      8      4  0.250      0      0       0\n",
       "264      0  25.08  2.540      1      6      4  0.250      1      0       0\n",
       "265      1  36.33  2.125      1      9      4  0.085      1      1       1\n",
       "266      0  28.58  3.750      2      8      4  0.250      0      1       1\n",
       "267      1  22.17 12.125      2      8      4  3.335      0      1       2\n",
       "268      1  34.17  1.540      2     13      4  1.540      1      1       1\n",
       "269      1  35.00  2.500      2      3      4  1.000      0      0       0\n",
       "270      1  28.58  3.625      2      6      4  0.250      0      0       0\n",
       "271      0  19.17  5.415      2      3      8  0.290      0      0       0\n",
       "272      1  23.25  1.000      2      8      4  0.835      1      0       0\n",
       "273      1  16.50  0.125      2      8      4  0.165      0      0       0\n",
       "274      0  20.08  0.125      2     11      4  1.000      0      1       1\n",
       "275      1  22.33 11.000      2      9      4  2.000      1      1       1\n",
       "276      1  34.00  5.085      1      3      5  1.085      0      0       0\n",
       "277      0  57.08  0.335      2      3      5  1.000      1      0       0\n",
       "278      1  16.25  0.835      2      7      4  0.085      1      0       0\n",
       "279      1  32.83  2.500      2     13      8  2.750      1      1       6\n",
       "280      1  48.25 25.085      2      9      4  1.750      1      1       3\n",
       "281      1  34.17  2.750      2      3      5  2.500      0      0       0\n",
       "282      1  18.33  1.210      1     10      2  0.000      0      0       0\n",
       "283      1  44.25  0.500      2      7      4 10.750      1      0       0\n",
       "284      1  38.92  1.750      2      4      4  0.500      0      0       0\n",
       "285      1  31.58  0.750      1      6      4  3.500      0      0       0\n",
       "286      1  25.08  1.710      2     14      4  1.665      1      1       1\n",
       "287      1  65.42 11.000      2     10      9 20.000      1      1       7\n",
       "288      1  41.33  0.000      2      8      5 15.000      1      0       0\n",
       "289      1  31.25  1.125      2      1      1  0.000      0      1       1\n",
       "290      0  36.75  4.710      2      1      1  0.000      0      0       0\n",
       "291      1  32.33  7.500      2     10      5  1.585      1      0       0\n",
       "292      0  31.92  3.125      2      1      1  3.040      0      1       2\n",
       "293      1  24.83  2.750      2      8      4  2.250      1      1       6\n",
       "294      1  21.92  0.540      1     14      4  0.040      1      1       1\n",
       "295      1  34.25  3.000      2     13      8  7.415      1      0       0\n",
       "296      1  51.83  3.000      1      1      1  1.500      0      0       0\n",
       "297      0  31.57  1.500      2      1      1  0.000      0      1       2\n",
       "298      1  38.42  0.705      2      8      4  0.375      0      1       2\n",
       "299      1  39.17  1.710      2     14      4  0.125      1      1       5\n",
       "300      1  18.17  2.460      2      8      7  0.960      0      1       2\n",
       "301      1  39.00  5.000      2     13      4  3.500      1      1      10\n",
       "302      1  20.00 11.045      2      8      4  2.000      0      0       0\n",
       "303      1  32.75  2.335      2      2      8  5.750      0      0       0\n",
       "304      1  18.58  5.710      2      2      4  0.540      0      0       0\n",
       "305      0  15.83  7.625      2     11      4  0.125      0      1       1\n",
       "306      1  39.33  5.875      2     13      8 10.000      1      1      14\n",
       "307      0  19.58  0.665      2      9      4  1.665      0      0       0\n",
       "308      1  21.33 10.500      2      8      4  3.000      1      0       0\n",
       "309      0  22.67  0.750      2      8      4  2.000      0      1       2\n",
       "310      1  25.67  3.250      2      8      8  2.290      0      1       1\n",
       "311      1  21.08 10.085      1     10      8  1.250      0      0       0\n",
       "312      0  49.00  1.500      2      5      3  0.000      1      0       0\n",
       "313      1  20.67  5.290      2     11      4  0.375      1      1       1\n",
       "314      0  19.67  0.210      2     11      8  0.290      1      1      11\n",
       "315      1  21.83  0.250      2      2      8  0.665      1      0       0\n",
       "316      1  26.83  0.540      2      4      1  0.000      0      0       0\n",
       "317      0  38.58  5.000      2     13      4 13.500      1      0       0\n",
       "318      0  50.08 12.540      2      6      4  2.290      1      1       3\n",
       "319      0  15.75  0.375      2      8      4  1.000      0      0       0\n",
       "320      0  24.50 12.750      2      8      5  4.750      1      1       2\n",
       "321      1  21.00  4.790      1      9      4  2.250      1      1       1\n",
       "322      1  22.08 11.000      2     13      4  0.665      1      0       0\n",
       "323      1  54.58  9.415      2      1      1 14.415      1      1      11\n",
       "324      1  18.08  5.500      2      4      4  0.500      1      0       0\n",
       "325      1  36.67  4.415      1      4      4  0.250      1      1      10\n",
       "326      1  38.17 10.125      2     14      4  2.500      1      1       6\n",
       "327      1  21.83  1.540      2      4      4  0.085      0      0       0\n",
       "328      0  51.92  6.500      2      3      5  3.085      0      0       0\n",
       "329      1  22.17  2.250      2      3      4  0.125      0      0       0\n",
       "330      1  52.42  1.500      2      2      4  3.750      0      0       0\n",
       "331      0  60.92  5.000      2      6      4  4.000      1      1       4\n",
       "332      1  20.17  5.625      2      9      4  1.710      1      0       0\n",
       "333      1  23.25  4.000      2      8      5  0.250      1      0       0\n",
       "334      1  36.17  0.420      1      9      4  0.290      0      0       0\n",
       "335      0  42.25  1.750      1      8      4  0.000      0      0       0\n",
       "336      1  23.58  0.835      2      3      8  0.085      0      0       0\n",
       "337      0  36.00  1.000      2      8      4  2.000      1      1      11\n",
       "338      1  39.58  5.000      2      1      1  0.000      0      1       2\n",
       "339      0  18.83  4.415      1      8      8  3.000      1      0       0\n",
       "340      1  27.25  0.625      2      6      4  0.455      1      0       0\n",
       "341      1  32.42  3.000      2      2      4  0.165      0      0       0\n",
       "342      1  19.42  1.500      1     13      4  2.000      1      0       0\n",
       "343      0  22.58 10.750      2     11      4  0.415      1      1       5\n",
       "344      1  39.92  6.210      2     11      4  0.040      1      1       1\n",
       "345      1  22.67  0.165      2      8      3  2.250      0      0       0\n",
       "346      0  23.42  0.790      1     11      4  1.500      1      1       2\n",
       "347      0  30.00  5.290      2     10      2  2.250      1      1       5\n",
       "348      0  40.33  7.540      1     11      8  8.000      1      1      14\n",
       "349      0  36.75  5.125      2     10      4  5.000      1      0       0\n",
       "350      1  31.00  2.085      2      8      4  0.085      0      0       0\n",
       "351      0  25.17  2.875      2     14      8  0.875      1      0       0\n",
       "352      1  27.42 12.500      2      6      5  0.250      0      0       0\n",
       "353      1  31.57  4.000      2     14      4  5.000      1      1       3\n",
       "354      1  34.08  6.500      2      6      4  0.125      1      0       0\n",
       "355      1  22.08  2.335      2      4      4  0.750      0      0       0\n",
       "356      1  31.08  3.085      2      8      4  2.500      0      1       2\n",
       "357      1  31.57  0.500      2      8      5  0.835      1      0       0\n",
       "358      1  16.00  3.125      2      9      4  0.085      0      1       1\n",
       "359      1  27.25  1.665      2     13      8  5.085      1      1       9\n",
       "360      1  25.17  3.000      2      8      4  1.250      0      1       1\n",
       "361      1  67.75  5.500      2     10      9 13.000      1      1       1\n",
       "362      0  18.83  9.500      2      9      4  1.625      1      1       6\n",
       "363      0  27.25  0.290      2      7      8  0.125      0      1       1\n",
       "364      0  19.58  0.665      1      8      4  1.000      0      1       1\n",
       "365      1  30.75  1.585      2      2      4  0.585      0      0       0\n",
       "366      0  50.25  0.835      2      6      4  0.500      0      0       0\n",
       "367      1  31.08  1.500      1      9      4  0.040      0      0       0\n",
       "368      1  51.58 15.000      2      8      4  8.500      1      1       9\n",
       "369      0  36.58  0.290      2      1      1  0.000      0      1      10\n",
       "370      1  33.58  2.750      2      7      4  4.250      1      1       6\n",
       "371      0  20.83  3.000      2      6      4  0.040      1      0       0\n",
       "372      1  36.17 18.125      2      9      4  0.085      0      0       0\n",
       "373      1  50.75  0.585      2      1      1  0.000      0      0       0\n",
       "374      0  23.58  0.830      2     11      4  0.415      0      1       1\n",
       "375      1  35.17  4.500      2     14      8  5.750      0      0       0\n",
       "376      0  58.42 21.000      2      3      5 10.000      1      1      13\n",
       "377      1  28.25  0.875      2      7      4  0.960      1      1       3\n",
       "378      1  31.57  0.625      2      4      4  0.250      0      0       0\n",
       "379      0  31.75  3.000      1      5      3  0.000      0      0       0\n",
       "380      1  19.42  6.500      2      9      8  1.460      1      1       7\n",
       "381      1  39.08  6.000      2      7      4  1.290      1      1       5\n",
       "382      1  17.08  3.290      2      3      4  0.335      0      0       0\n",
       "383      1  44.83  7.000      1      8      4  1.625      0      0       0\n",
       "384      1  16.25  0.000      1      6      4  0.250      0      0       0\n",
       "385      0  41.17  6.500      2     11      4  0.500      1      1       3\n",
       "386      1  28.92 15.000      2      8      8  5.335      1      1      11\n",
       "387      0  26.17  2.000      2      5      3  0.000      0      0       0\n",
       "388      1  38.58  3.335      2      9      4  4.000      1      1      14\n",
       "389      1  25.17  6.000      2      8      4  1.000      1      1       3\n",
       "390      0  28.17  0.375      2     11      4  0.585      1      1       4\n",
       "391      1  73.42 17.750      2      1      1  0.000      1      0       0\n",
       "392      1  22.50 11.500      1      7      4  1.500      0      0       0\n",
       "393      0  27.17  1.250      2      1      1  0.000      0      1       1\n",
       "394      0  19.17  8.585      2     13      8  0.750      1      1       7\n",
       "395      0  25.58  0.000      2      8      4  0.000      0      0       0\n",
       "396      1  31.57  0.040      1      2      4  4.250      0      0       0\n",
       "397      0  22.50  8.500      2     11      4  1.750      1      1      10\n",
       "398      0  22.92  1.250      2     11      4  0.250      0      0       0\n",
       "399      1  23.25 12.625      2      8      4  0.125      0      1       2\n",
       "400      0  29.50  1.085      1     14      4  1.000      0      0       0\n",
       "401      0  32.00  6.000      2      2      4  1.250      0      0       0\n",
       "402      1  27.00  1.500      1      9      4  0.375      1      0       0\n",
       "403      1  19.33 10.915      2      8      5  0.585      0      1       2\n",
       "404      1  35.75  2.415      2      9      4  0.125      0      1       2\n",
       "405      1  18.83  0.000      2     11      4  0.665      0      0       0\n",
       "406      0  28.75  3.750      2      8      4  1.085      1      1       1\n",
       "407      1  34.42  4.250      2      3      5  3.250      1      1       2\n",
       "408      0  33.25  3.000      1      6      4  2.000      0      0       0\n",
       "409      1  53.92  9.625      2     10      4  8.665      1      1       5\n",
       "410      1  25.25  1.000      2      6      4  0.500      0      0       0\n",
       "411      1  32.42  2.165      1      4      1  0.000      0      0       0\n",
       "412      0  21.08  5.000      1      1      1  0.000      0      0       0\n",
       "413      0  56.50 16.000      2      5      1  0.000      1      1      15\n",
       "414      1  32.25  0.165      1      8      8  3.250      1      1       1\n",
       "415      0  20.50 11.835      2      8      8  6.000      1      0       0\n",
       "416      0  30.25  5.500      2      4      4  5.500      0      0       0\n",
       "417      0  24.58  0.670      2      6      8  1.750      1      0       0\n",
       "418      1  23.17 11.125      2     14      8  0.460      1      1       1\n",
       "419      0  31.57 11.250      2      1      1  0.000      0      0       0\n",
       "420      0  32.33  0.540      2     13      4  0.040      1      0       0\n",
       "421      1  23.92  1.500      2      2      8  1.875      1      1       6\n",
       "422      1  36.75  0.125      1      8      4  1.500      0      0       0\n",
       "423      1  29.83  1.250      1      4      4  0.250      0      0       0\n",
       "424      0  24.08  0.500      2     11      8  1.250      1      1       1\n",
       "425      1  21.17  0.250      1      8      8  0.250      0      0       0\n",
       "426      1  31.42 15.500      2      8      4  0.500      1      0       0\n",
       "427      1  22.83  3.000      2      7      4  1.290      1      1       1\n",
       "428      1  37.50  1.750      1      8      5  0.250      1      0       0\n",
       "429      0  24.83  4.500      2      9      4  1.000      0      0       0\n",
       "430      1  36.33  3.790      2      9      4  1.165      1      0       0\n",
       "431      0  47.25  0.750      2     11      8  2.750      1      1       1\n",
       "432      1  32.08  4.000      1     13      4  1.500      0      0       0\n",
       "433      0  30.58 10.665      2     11      8  0.085      0      1      12\n",
       "434      1  27.83  1.540      2      9      4  3.750      1      1       5\n",
       "435      1  54.83 15.500      2     10      9  0.000      1      1      20\n",
       "436      1  16.08  0.750      2      8      4  1.750      1      1       5\n",
       "437      1  24.58 12.500      2      9      4  0.875      1      0       0\n",
       "438      1  32.67  5.500      2     11      8  5.500      1      1      12\n",
       "439      1  30.17  0.500      2      8      4  1.750      1      1      11\n",
       "440      1  22.25  0.460      2      4      4  0.125      0      0       0\n",
       "441      1  41.75  0.960      2     14      4  2.500      1      0       0\n",
       "442      1  36.67  2.000      2      3      4  0.250      0      0       0\n",
       "443      1  25.83 12.835      2     13      4  0.500      0      0       0\n",
       "444      1  29.92  1.835      2      8      8  4.335      1      0       0\n",
       "445      1  20.08  0.250      2     11      4  0.125      0      0       0\n",
       "446      1  19.67  0.375      2     11      4  2.000      1      1       2\n",
       "447      1  51.42  0.040      2     14      8  0.040      1      0       0\n",
       "448      1  62.75  7.000      2     10      9  0.000      0      0       0\n",
       "449      1  40.58  3.290      2      7      4  3.500      0      0       0\n",
       "450      0  16.33  0.210      2      6      4  0.125      0      0       0\n",
       "451      1  29.50  0.580      2      9      4  0.290      0      1       1\n",
       "452      1  34.00  4.500      2      6      4  1.000      1      0       0\n",
       "453      0  71.58  0.000      2      8      4  0.000      0      0       0\n",
       "454      1  42.00  0.205      2      3      8  5.125      1      0       0\n",
       "455      0  22.50 11.000      1     11      4  3.000      1      0       0\n",
       "456      1  24.42  2.000      2     10      2  0.165      0      1       2\n",
       "457      1  44.33  0.500      2      3      8  5.000      1      0       0\n",
       "458      0  23.00 11.750      2     14      8  0.500      1      1       2\n",
       "459      1  34.42  1.335      2      3      5  0.125      0      0       0\n",
       "460      1  23.08 11.500      2      3      4  3.500      1      1       9\n",
       "461      1  25.92  0.875      2      4      4  0.375      0      1       2\n",
       "462      0  17.58  9.000      2      6      4  1.375      1      0       0\n",
       "463      1  20.42  1.085      2     11      4  1.500      0      0       0\n",
       "464      1  31.67 16.165      2      2      4  3.000      1      1       9\n",
       "465      0  57.58  2.000      2      1      1  6.500      0      1       1\n",
       "466      1  59.67  1.540      2     11      4  0.125      1      0       0\n",
       "467      0  65.17 14.000      2      1      1  0.000      1      1      11\n",
       "468      1  30.08  1.040      1      3      5  0.500      1      1      10\n",
       "469      1  48.58  6.500      2     11      8  6.000      1      0       0\n",
       "470      0  23.58 11.500      1      4      8  3.000      0      0       0\n",
       "471      1  20.17  9.250      2      8      4  1.665      1      1       3\n",
       "472      1  48.17  7.625      2      9      8 15.500      1      1      12\n",
       "473      1  23.25  1.500      2     11      4  2.375      1      1       3\n",
       "474      1  32.25 14.000      1      1      1  0.000      0      1       2\n",
       "475      1  33.58  0.335      1     13      4  0.085      0      0       0\n",
       "476      1  23.58  0.460      1      9      4  2.625      1      1       6\n",
       "477      1  16.92  0.335      1      4      4  0.290      0      0       0\n",
       "478      0  20.83  8.500      2      8      4  0.165      0      0       0\n",
       "479      0  60.58 16.500      2     11      4 11.000      1      0       0\n",
       "480      1  31.57  5.000      1      6      4  8.500      1      0       0\n",
       "481      0  25.00 12.330      2     13      8  3.500      1      1       6\n",
       "482      1  21.50  9.750      2      8      4  0.250      1      0       0\n",
       "483      1  20.42  0.000      2      8      4  0.000      0      0       0\n",
       "484      0  25.25 13.500      1      1      1  2.000      0      1       1\n",
       "485      1  42.83  4.625      2     11      4  4.580      1      0       0\n",
       "486      1  26.67  1.750      1      8      4  1.000      1      1       5\n",
       "487      1  57.83  7.040      2      7      4 14.000      1      1       6\n",
       "488      1  55.92 11.500      2      1      1  5.000      1      1       5\n",
       "489      1  51.33 10.000      2      3      5  0.000      1      1      11\n",
       "490      1  39.83  0.500      2      7      4  0.250      1      0       0\n",
       "491      1  27.58  2.040      1      6      4  2.000      1      1       3\n",
       "492      1  30.17  6.500      2     13      4  3.125      1      1       8\n",
       "493      1  51.83  2.040      1      1      1  1.500      0      0       0\n",
       "494      0  25.00 11.000      1      6      4  4.500      1      0       0\n",
       "495      1  29.67  0.750      1      8      4  0.040      0      0       0\n",
       "496      0  33.67  0.375      2     13      4  0.375      0      0       0\n",
       "497      1  25.75  0.750      2      8      5  0.250      1      0       0\n",
       "498      0  28.67  1.040      2      8      4  2.500      1      1       5\n",
       "499      0  18.08  0.375      3     13      1 10.000      0      0       0\n",
       "500      1  20.42  7.000      2      8      4  1.625      1      1       3\n",
       "501      1  17.50 22.000      3      1      7  0.000      0      0       0\n",
       "502      1  18.08  6.750      1      7      4  0.040      0      0       0\n",
       "503      1  47.67  2.500      2      7      5  2.500      1      1      12\n",
       "504      1  57.42  8.500      2     10      8  7.000      1      1       3\n",
       "505      1  13.75  4.000      1      9      4  1.750      1      1       2\n",
       "506      1  19.33  9.500      2     11      4  1.000      1      0       0\n",
       "507      0  21.92 11.665      2      4      8  0.085      0      0       0\n",
       "508      1  17.58 10.000      2      9      8  0.165      0      1       1\n",
       "509      1  34.83  2.500      1      9      4  3.000      0      0       0\n",
       "510      1  29.17  3.500      2      9      4  3.500      1      1       3\n",
       "511      1  21.42  0.750      1     12      7  0.750      0      0       0\n",
       "512      1  18.17 10.250      2      8      8  1.085      0      0       0\n",
       "513      1  28.00  3.000      2      9      4  0.750      0      0       0\n",
       "514      0  45.83 10.500      2     11      4  5.000      1      1       7\n",
       "515      1  22.75 11.500      2      3      4  0.415      0      0       0\n",
       "516      0  31.57  3.500      2      2      4  3.000      1      0       0\n",
       "517      0  20.42  7.500      2      4      4  1.500      1      1       1\n",
       "518      0  21.25  2.335      2      3      5  0.500      1      1       4\n",
       "519      1  26.67  4.250      2     13      4  4.290      1      1       1\n",
       "520      0  27.33  1.665      2      1      1  0.000      0      0       0\n",
       "521      1  42.08  1.040      2      9      4  5.000      1      1       6\n",
       "522      0  18.25 10.000      2      9      4  1.000      0      1       1\n",
       "523      0  28.50  1.000      2     11      4  1.000      1      1       2\n",
       "524      0  21.50  6.000      2      6      4  2.500      1      1       3\n",
       "525      1  21.83 11.000      2     14      4  0.290      1      1       6\n",
       "526      1  21.92  0.500      2      8      4  0.125      0      0       0\n",
       "527      1  32.67  9.000      1      9      8  5.250      1      0       0\n",
       "528      0  45.33  1.000      2     11      4  0.125      0      0       0\n",
       "529      0  23.58  0.585      1      1      1  0.125      0      0       0\n",
       "530      0  17.92  0.540      2      8      4  1.750      0      1       1\n",
       "531      1  33.00  2.500      1      9      4  7.000      0      0       0\n",
       "532      0  22.67  0.335      2     11      4  0.750      0      0       0\n",
       "533      1  34.67  1.080      2      7      4  1.165      0      0       0\n",
       "534      1  29.67  1.415      2      9      8  0.750      1      1       1\n",
       "535      1  31.83  2.500      2      6      4  7.500      1      0       0\n",
       "536      0  20.67  1.835      2     11      4  2.085      1      1       5\n",
       "537      1  33.75  2.750      2      3      5  0.000      0      0       0\n",
       "538      1  22.08  0.830      2      8      8  2.165      0      0       0\n",
       "539      0  35.42 12.000      2     11      8 14.000      1      1       8\n",
       "540      1  31.92  4.460      2     13      8  6.040      1      1       3\n",
       "541      0  22.67  0.790      2      3      4  0.085      0      0       0\n",
       "542      1  26.67 14.585      2      3      5  0.000      0      0       0\n",
       "543      1  44.00  2.000      2      7      4  1.750      1      1       2\n",
       "544      1  30.17  1.085      1      8      4  0.040      0      0       0\n",
       "545      1  37.75  7.000      2     11      8 11.500      1      1       7\n",
       "546      1  17.08  0.085      1      8      4  0.040      0      0       0\n",
       "547      1  49.17  2.290      2      1      1  0.290      0      0       0\n",
       "548      1  22.92  0.170      2      7      4  0.085      0      0       0\n",
       "549      0  34.83  1.250      1      3      8  0.500      0      0       0\n",
       "550      1  44.25 11.000      1      2      4  1.500      1      0       0\n",
       "551      1  59.50  2.750      2      9      4  1.750      1      1       5\n",
       "552      1  25.50  0.375      2      7      4  0.250      1      1       3\n",
       "553      0  41.58  1.040      2      6      4  0.665      0      0       0\n",
       "554      1  49.58 19.000      2      1      1  0.000      1      1       1\n",
       "555      0  33.92  1.585      1      1      1  0.000      1      0       0\n",
       "556      1  19.17  4.000      1      3      4  1.000      0      0       0\n",
       "557      0  24.50  2.415      1      8      4  0.000      0      0       0\n",
       "558      1  23.33  1.500      2      8      8  1.415      1      0       0\n",
       "559      1  69.17  9.000      2      1      1  4.000      0      1       1\n",
       "560      1  47.67  0.290      2      8      5 15.000      1      1      20\n",
       "561      0  33.25  2.500      1      8      4  2.500      0      0       0\n",
       "562      1  43.25  3.000      2     11      8  6.000      1      1      11\n",
       "563      1  23.00  0.625      1      6      4  0.125      1      0       0\n",
       "564      1  34.75  2.500      2     13      5  0.500      0      0       0\n",
       "565      1  56.58 18.500      2      2      5 15.000      1      1      17\n",
       "566      0  44.17  6.665      2     11      4  7.375      1      1       3\n",
       "567      0  44.33  0.000      2      8      4  2.500      1      0       0\n",
       "568      1  34.25  1.750      2      9      5  0.250      1      0       0\n",
       "569      0  45.00  4.585      2      4      8  1.000      0      0       0\n",
       "570      1  30.58  2.710      1      7      4  0.125      0      0       0\n",
       "571      1  27.67  0.750      2     11      8  0.165      0      0       0\n",
       "572      1  19.42  7.250      2      7      4  0.040      0      1       1\n",
       "573      0  41.33  1.000      2      3      5  2.250      1      0       0\n",
       "574      0  23.50  1.500      2      9      4  0.875      0      0       0\n",
       "575      1  31.67  0.830      2     14      4  1.335      1      1       8\n",
       "576      0  17.83 11.000      2     14      8  1.000      1      1      11\n",
       "577      0  33.17  2.250      1     13      4  3.500      0      0       0\n",
       "578      0  52.50  7.000      2      6      8  3.000      0      0       0\n",
       "579      0  25.42  1.125      2     11      4  1.290      1      1       2\n",
       "580      1  40.58  1.500      2      3      5  0.000      0      0       0\n",
       "581      1  23.92  0.585      1     13      8  0.125      0      0       0\n",
       "582      1  56.00 12.500      2      4      8  8.000      1      0       0\n",
       "583      0  28.50  3.040      1     14      8  2.540      1      1       1\n",
       "584      1  32.08  4.000      2      7      4  2.500      1      0       0\n",
       "585      1  21.17  0.875      1      8      8  0.250      0      0       0\n",
       "586      1  34.17  9.170      2      8      4  4.500      1      1      12\n",
       "587      1  43.25 25.210      2     11      8  0.210      1      1       1\n",
       "588      0  38.25  6.000      2      4      4  1.000      1      0       0\n",
       "589      1  37.42  2.040      2      9      4  0.040      1      0       0\n",
       "590      1  29.83  2.040      1     14      8  0.040      0      0       0\n",
       "591      1  37.33  2.665      2     13      4  0.165      0      0       0\n",
       "592      1  31.33 19.500      2      8      4  7.000      1      1      16\n",
       "593      1  36.08  2.540      2      1      1  0.000      0      0       0\n",
       "594      1  20.50  2.415      2      8      4  2.000      1      1      11\n",
       "595      1  47.17  5.835      2      9      4  5.500      0      0       0\n",
       "596      1  22.00  7.835      1      3      5  0.165      0      0       0\n",
       "597      1  20.50 10.000      1      8      4  2.500      1      0       0\n",
       "598      1  34.92  2.500      2      9      4  0.000      1      0       0\n",
       "599      1  24.08  0.875      2      7      4  0.085      0      1       4\n",
       "600      1  37.33  6.500      2      7      8  4.250      1      1      12\n",
       "601      0  20.75  9.540      2      3      4  0.040      0      0       0\n",
       "602      1  36.67  3.250      2     11      8  9.000      1      0       0\n",
       "603      1  22.58 10.040      2     14      4  0.040      1      1       9\n",
       "604      0  26.92 13.500      2     11      8  5.000      1      1       2\n",
       "605      0  46.67  0.460      2     13      8  0.415      1      1      11\n",
       "606      0  52.17  0.000      1      1      1  0.000      0      0       0\n",
       "607      1  39.17  2.500      1      3      8 10.000      0      0       0\n",
       "608      1  39.17  1.625      2      8      4  1.500      1      1      10\n",
       "609      0  27.67  2.040      2      9      4  0.250      0      0       0\n",
       "610      1  19.17  9.500      2      9      4  1.500      1      0       0\n",
       "611      1  39.50  4.250      2      8      5  6.500      1      1      16\n",
       "612      1  36.42  0.750      1      2      4  0.585      0      0       0\n",
       "613      1  26.17  0.250      2      3      5  0.000      1      0       0\n",
       "614      1  39.42  1.710      1      7      4  0.165      0      0       0\n",
       "615      1  41.92  0.420      2      8      8  0.210      1      1       6\n",
       "616      1  21.33  7.500      2      6      4  1.415      1      1       1\n",
       "617      0  20.08  1.250      2      8      4  0.000      0      0       0\n",
       "618      0  27.58  3.000      2      7      4  2.790      0      1       1\n",
       "619      1  21.58  0.790      1     13      4  0.665      0      0       0\n",
       "620      1  28.25  5.125      2     14      4  4.750      1      1       2\n",
       "621      1  26.92  2.250      2      3      5  0.500      0      0       0\n",
       "622      0  18.42  9.250      2     11      4  1.210      1      1       4\n",
       "623      0  23.25  5.875      2     11      4  3.170      1      1      10\n",
       "624      1  23.58  1.790      2      8      4  0.540      0      0       0\n",
       "625      1  28.33  5.000      2      9      4 11.000      1      0       0\n",
       "626      1  25.67  2.210      1      6      4  4.000      1      0       0\n",
       "627      0  28.58  1.665      2     11      4  2.415      1      0       0\n",
       "628      1  22.92  3.165      1      8      4  0.165      0      0       0\n",
       "629      0  24.50  1.040      1      1      1  0.500      1      1       3\n",
       "630      1  24.75  0.540      2      7      4  1.000      0      0       0\n",
       "631      1  32.00  1.750      1     10      8  0.040      1      0       0\n",
       "632      1  48.08  3.750      2      3      5  1.000      0      0       0\n",
       "633      0  28.42  3.500      2      9      4  0.835      1      0       0\n",
       "634      1  25.42  0.540      2      9      4  0.165      0      1       1\n",
       "635      1  18.58 10.290      2      1      1  0.415      0      0       0\n",
       "636      1  21.67  1.165      1      4      4  2.500      1      1       1\n",
       "637      1  24.58  1.250      2      8      4  0.250      0      0       0\n",
       "638      1  16.33  4.085      2      3      8  0.415      0      0       0\n",
       "639      1  26.75  2.000      2      2      4  0.750      0      0       0\n",
       "640      1  48.17  3.500      2      6      4  3.500      1      0       0\n",
       "641      1  23.50  2.750      2      1      1  4.500      0      0       0\n",
       "642      0  41.00  2.040      1     11      8  0.125      1      1      23\n",
       "643      1  35.17 25.125      2     14      8  1.625      1      1       1\n",
       "644      1  23.75 12.000      2      8      4  2.085      0      0       0\n",
       "645      1  18.67  5.000      2     11      4  0.375      1      1       2\n",
       "646      1  30.33  0.500      2      2      8  0.085      0      0       0\n",
       "647      0  19.75  0.750      2      8      4  0.795      1      1       5\n",
       "648      1  26.17  0.835      2     13      4  1.165      0      0       0\n",
       "649      1  28.75  1.500      1      8      4  1.500      1      0       0\n",
       "650      1  28.67  9.335      2     11      8  5.665      1      1       6\n",
       "651      1  26.00  1.000      2     11      4  1.750      1      0       0\n",
       "652      1  23.50  3.165      1      4      4  0.415      0      1       1\n",
       "653      1  26.33 13.000      2     10      2  0.000      0      0       0\n",
       "654      1  54.33  6.750      2      8      8  2.625      1      1      11\n",
       "655      1  31.57  0.375      2      2      4  0.875      1      0       0\n",
       "656      0  25.25 12.500      2      2      4  1.000      0      0       0\n",
       "657      1  33.17  3.165      1     14      4  3.165      1      1       3\n",
       "658      1  39.50  1.625      2      8      4  1.500      0      0       0\n",
       "659      0  17.67  0.000      1      5      1  0.000      0      0       0\n",
       "660      1  23.92  0.665      2      8      4  0.165      0      0       0\n",
       "661      1  26.67  2.710      1     13      4  5.250      1      1       1\n",
       "662      0  22.50  0.415      2      3      4  0.335      0      0       0\n",
       "663      1  39.92  0.540      1      6      4  0.500      1      1       3\n",
       "664      0  26.08  8.665      2      6      4  1.415      1      0       0\n",
       "665      1  20.00  0.000      2      2      4  0.500      0      0       0\n",
       "666      1  31.57  4.000      1      3      4  0.085      0      0       0\n",
       "667      1  26.75  4.500      1      8      5  2.500      0      0       0\n",
       "668      0  24.92  1.250      2      1      1  0.000      1      0       0\n",
       "669      0  32.25  1.500      2      8      4  0.250      0      0       0\n",
       "670      1  17.67  4.460      2      8      4  0.250      0      0       0\n",
       "671      0  37.75  5.500      2     11      4  0.125      1      0       0\n",
       "672      1  22.67  2.540      1      8      8  2.585      1      0       0\n",
       "673      0  17.92 10.210      2      1      1  0.000      0      0       0\n",
       "674      1  24.42 12.335      2     11      8  1.585      1      0       0\n",
       "675      0  25.75  0.500      2      8      8  0.875      1      0       0\n",
       "676      1  26.17 12.500      1      4      8  1.250      0      0       0\n",
       "677      0  22.75  6.165      2      6      4  0.165      0      0       0\n",
       "678      1  23.00  0.750      2      7      4  0.500      1      0       0\n",
       "679      1  25.67  0.290      1      8      4  1.500      0      0       0\n",
       "680      1  48.58  0.205      1      4      4  0.250      1      1      11\n",
       "681      1  21.17  0.000      2      8      4  0.500      0      0       0\n",
       "682      1  35.25 16.500      1      8      4  4.000      1      0       0\n",
       "683      0  22.92 11.585      2     13      4  0.040      1      0       0\n",
       "684      0  48.17  1.335      2      3      7  0.335      0      0       0\n",
       "685      1  43.00  0.290      1     13      8  1.750      1      1       8\n",
       "686      1  31.57 10.500      2     14      4  6.500      1      0       0\n",
       "687      1  20.67  0.415      2      8      4  0.125      0      0       0\n",
       "688      0  18.83  9.540      2      6      4  0.085      1      0       0\n",
       "689      0  27.42 14.500      2     14      8  3.085      1      1       1\n",
       "690      1  41.00  0.040      2     10      4  0.040      0      1       1\n",
       "    input11 input12 input13 input14 y train\n",
       "1         1       2     100    1213 0  TRUE\n",
       "2         0       2     160       1 0  TRUE\n",
       "3         1       2     280       1 0  TRUE\n",
       "4         1       2       0       1 1  TRUE\n",
       "5         0       2      60     159 1  TRUE\n",
       "6         0       2     100       1 1  TRUE\n",
       "7         0       2      60     101 0  TRUE\n",
       "8         0       2      43     561 1  TRUE\n",
       "9         0       2     176     538 0 FALSE\n",
       "10        1       2     100      51 0  TRUE\n",
       "11        1       2     253     858 1  TRUE\n",
       "12        1       2     470       1 1 FALSE\n",
       "13        1       2     140     211 0  TRUE\n",
       "14        1       2       0    1001 1  TRUE\n",
       "15        1       2     320       1 0  TRUE\n",
       "16        0       2       0    2691 1  TRUE\n",
       "17        1       2     330       1 1  TRUE\n",
       "18        0       2      88     592 1  TRUE\n",
       "19        0       2     140       5 0 FALSE\n",
       "20        0       2     129    3258 1  TRUE\n",
       "21        0       2     260    1005 0  TRUE\n",
       "22        1       2     160       1 0  TRUE\n",
       "23        0       2     168       1 0 FALSE\n",
       "24        0       2     160       1 0 FALSE\n",
       "25        0       2      80     351 0 FALSE\n",
       "26        1       2       0       1 1  TRUE\n",
       "27        0       2     200      71 0  TRUE\n",
       "28        1       2     180   18028 1  TRUE\n",
       "29        0       2     220      20 1  TRUE\n",
       "30        1       2      60    2185 1  TRUE\n",
       "31        1       2     312     151 1  TRUE\n",
       "32        1       2     154      33 0  TRUE\n",
       "33        1       2     200     101 0  TRUE\n",
       "34        1       2     290     285 1 FALSE\n",
       "35        1       2     352     113 0 FALSE\n",
       "36        0       2       0     352 0  TRUE\n",
       "37        1       1      20       1 1  TRUE\n",
       "38        1       2      70       1 1  TRUE\n",
       "39        1       2       0    1261 1  TRUE\n",
       "40        1       2     519    1705 1  TRUE\n",
       "41        0       2       0       1 1 FALSE\n",
       "42        1       2     120      68 0  TRUE\n",
       "43        0       2       0    5299 1  TRUE\n",
       "44        1       2     180       1 0 FALSE\n",
       "45        0       2     128       7 0 FALSE\n",
       "46        1       2      49       1 1 FALSE\n",
       "47        0       2     132       1 0  TRUE\n",
       "48        0       2       0       1 1  TRUE\n",
       "49        0       2     256      18 0  TRUE\n",
       "50        0       2       0    2201 1  TRUE\n",
       "51        1       2     232       1 0 FALSE\n",
       "52        0       2     140     101 0 FALSE\n",
       "53        0       2     216    2101 0  TRUE\n",
       "54        1       2     112       7 0 FALSE\n",
       "55        1       2     369       2 0  TRUE\n",
       "56        1       2     434      36 1  TRUE\n",
       "57        0       2       0     501 1  TRUE\n",
       "58        0       2     260     247 0 FALSE\n",
       "59        1       2      52    1443 1 FALSE\n",
       "60        1       2     200       1 1 FALSE\n",
       "61        1       2     141       1 0  TRUE\n",
       "62        1       2     240       5 0 FALSE\n",
       "63        0       2     120     301 1  TRUE\n",
       "64        0       1    1160       1 0  TRUE\n",
       "65        0       2     280     825 1  TRUE\n",
       "66        0       2       0       1 1  TRUE\n",
       "67        1       2     380       1 0  TRUE\n",
       "68        1       2     100      69 0  TRUE\n",
       "69        0       2     176     147 0  TRUE\n",
       "70        1       2     583     714 1  TRUE\n",
       "71        1       2       0       1 0 FALSE\n",
       "72        0       2       0      34 0  TRUE\n",
       "73        0       2     200       1 0  TRUE\n",
       "74        1       2     144       8 1 FALSE\n",
       "75        0       2       0    1201 1 FALSE\n",
       "76        0       2     454      51 0  TRUE\n",
       "77        1       2     340       1 0  TRUE\n",
       "78        0       2     216       1 0  TRUE\n",
       "79        0       1       0       1 0  TRUE\n",
       "80        0       2     120    2080 1  TRUE\n",
       "81        0       2       0    7060 1  TRUE\n",
       "82        0       2       0     201 0 FALSE\n",
       "83        0       2      80      43 0  TRUE\n",
       "84        0       2     550       1 0  TRUE\n",
       "85        1       1     280       1 0  TRUE\n",
       "86        0       3     184       1 1 FALSE\n",
       "87        0       2     280       2 0  TRUE\n",
       "88        1       2       0       1 1  TRUE\n",
       "89        1       2     290       7 1  TRUE\n",
       "90        0       2     100       1 0  TRUE\n",
       "91        1       1     140       1 0 FALSE\n",
       "92        0       2     108     101 0  TRUE\n",
       "93        0       2       0     287 0 FALSE\n",
       "94        0       2       0     368 1  TRUE\n",
       "95        0       2     340       1 0  TRUE\n",
       "96        0       2     150       9 1 FALSE\n",
       "97        0       2       0     391 0  TRUE\n",
       "98        0       2       0       1 0  TRUE\n",
       "99        1       2       0      11 0  TRUE\n",
       "100       0       2       0       1 1 FALSE\n",
       "101       0       2     480       1 0  TRUE\n",
       "102       1       2     280       1 1 FALSE\n",
       "103       1       2     487     501 1 FALSE\n",
       "104       0       2     260     501 1 FALSE\n",
       "105       0       2      45       2 0  TRUE\n",
       "106       1       2     160    5861 1  TRUE\n",
       "107       0       2     140    7545 1  TRUE\n",
       "108       0       2       0       1 0  TRUE\n",
       "109       1       2       0       1 1 FALSE\n",
       "110       1       2     280       1 0 FALSE\n",
       "111       0       2     160       1 0  TRUE\n",
       "112       1       2       0     229 0 FALSE\n",
       "113       1       2      75       1 0  TRUE\n",
       "114       0       2       0    1584 1  TRUE\n",
       "115       1       1     420       1 0  TRUE\n",
       "116       1       2     280    2001 1  TRUE\n",
       "117       1       2      80      51 1  TRUE\n",
       "118       1       2     340    4072 1 FALSE\n",
       "119       1       2     100     810 1  TRUE\n",
       "120       0       2     181    1656 1  TRUE\n",
       "121       0       2       0    3066 1  TRUE\n",
       "122       1       1     240       1 0  TRUE\n",
       "123       0       2      76       1 0 FALSE\n",
       "124       0       2       0    3001 1  TRUE\n",
       "125       1       2     181       1 1  TRUE\n",
       "126       0       2     420     284 0  TRUE\n",
       "127       0       2       0    1603 1  TRUE\n",
       "128       0       2     220     141 0  TRUE\n",
       "129       0       2     100     961 1  TRUE\n",
       "130       1       2     160       2 1  TRUE\n",
       "131       1       2     120     568 1  TRUE\n",
       "132       0       2     260       1 0  TRUE\n",
       "133       0       2     184       1 0  TRUE\n",
       "134       0       1      80       1 0  TRUE\n",
       "135       0       2     130       2 0  TRUE\n",
       "136       0       2     160       1 0 FALSE\n",
       "137       0       2     350     770 0  TRUE\n",
       "138       0       2     240    4608 1  TRUE\n",
       "139       1       2     312       1 1 FALSE\n",
       "140       1       2     396    4160 1  TRUE\n",
       "141       1       2     140       1 0  TRUE\n",
       "142       0       2     280       1 0  TRUE\n",
       "143       1       2     180       2 0  TRUE\n",
       "144       1       2       0    1001 1  TRUE\n",
       "145       0       2     108      99 0 FALSE\n",
       "146       0       2       0    3377 1  TRUE\n",
       "147       1       2       0     110 1  TRUE\n",
       "148       0       2     120       1 0  TRUE\n",
       "149       1       2     184       1 0  TRUE\n",
       "150       0       2     375   51101 1  TRUE\n",
       "151       0       3     184       1 1  TRUE\n",
       "152       1       2     140       1 0  TRUE\n",
       "153       0       2     600       1 0  TRUE\n",
       "154       0       2     200       2 0  TRUE\n",
       "155       0       2       0   11203 1 FALSE\n",
       "156       1       1     500       2 1 FALSE\n",
       "157       0       2     200      41 1 FALSE\n",
       "158       0       2     120       6 0 FALSE\n",
       "159       0       2      80       1 1  TRUE\n",
       "160       1       2     520       1 0  TRUE\n",
       "161       0       2     460      17 0 FALSE\n",
       "162       1       2       0       1 0  TRUE\n",
       "163       1       2     300     163 1 FALSE\n",
       "164       1       2     195       1 1  TRUE\n",
       "165       0       2       0     201 0 FALSE\n",
       "166       1       1     280       1 0  TRUE\n",
       "167       1       2     100    4209 0  TRUE\n",
       "168       0       2     164       1 1 FALSE\n",
       "169       0       2     280     751 0 FALSE\n",
       "170       0       2     120     376 0  TRUE\n",
       "171       0       1     368       1 0 FALSE\n",
       "172       1       2      80     501 1  TRUE\n",
       "173       1       2     400      10 0 FALSE\n",
       "174       0       2     112       1 0  TRUE\n",
       "175       1       2     120       1 1  TRUE\n",
       "176       1       2     680       1 0  TRUE\n",
       "177       1       2       0       5 0  TRUE\n",
       "178       1       1      62      28 0  TRUE\n",
       "179       0       2     320       1 1  TRUE\n",
       "180       1       2      92       1 1  TRUE\n",
       "181       0       2       0     196 0  TRUE\n",
       "182       1       2     212       1 0 FALSE\n",
       "183       1       2     140     259 1  TRUE\n",
       "184       1       1     100       1 1  TRUE\n",
       "185       1       2     160     301 1  TRUE\n",
       "186       1       1     340       1 0  TRUE\n",
       "187       1       1     280       1 0  TRUE\n",
       "188       0       2     100       1 0  TRUE\n",
       "189       1       2     300       1 0  TRUE\n",
       "190       0       2     200      54 0 FALSE\n",
       "191       1       2     160      41 0  TRUE\n",
       "192       1       2     168       1 1 FALSE\n",
       "193       1       2     171       1 0  TRUE\n",
       "194       0       3     184       1 0  TRUE\n",
       "195       0       2     180       1 0  TRUE\n",
       "196       0       2     200    1209 1  TRUE\n",
       "197       0       2     184   26727 1  TRUE\n",
       "198       0       2     160       9 0  TRUE\n",
       "199       0       2     160     127 0 FALSE\n",
       "200       1       2     720       1 0  TRUE\n",
       "201       0       2      50    1466 1  TRUE\n",
       "202       0       2     160       1 0  TRUE\n",
       "203       1       2     164   31286 1  TRUE\n",
       "204       1       2     360       2 0  TRUE\n",
       "205       0       2       0     501 1 FALSE\n",
       "206       0       2     202       1 1  TRUE\n",
       "207       0       2     140     185 0 FALSE\n",
       "208       0       2     184      19 0 FALSE\n",
       "209       1       2     400     109 0  TRUE\n",
       "210       1       2     130       1 0  TRUE\n",
       "211       0       2     380     501 1 FALSE\n",
       "212       0       2     180     315 1  TRUE\n",
       "213       1       2      60       1 0  TRUE\n",
       "214       1       2     120       6 0  TRUE\n",
       "215       1       2     180      61 0  TRUE\n",
       "216       0       2       0       1 1 FALSE\n",
       "217       0       3     120       1 0 FALSE\n",
       "218       0       2     210     688 0  TRUE\n",
       "219       0       2     280     365 0 FALSE\n",
       "220       1       2     520    2001 1 FALSE\n",
       "221       1       2       0    3066 1  TRUE\n",
       "222       0       2       0       1 0  TRUE\n",
       "223       1       2      96    5125 1  TRUE\n",
       "224       1       2     460      69 0 FALSE\n",
       "225       0       2     560       1 0  TRUE\n",
       "226       0       1     280       1 0  TRUE\n",
       "227       0       2       0       2 0  TRUE\n",
       "228       0       2       0       1 1  TRUE\n",
       "229       1       2      88    2001 1  TRUE\n",
       "230       1       2     140    2385 1 FALSE\n",
       "231       0       2     100       7 1 FALSE\n",
       "232       1       2     100       4 0  TRUE\n",
       "233       1       2     176       1 0  TRUE\n",
       "234       0       2       0      16 1 FALSE\n",
       "235       0       2     232     101 1  TRUE\n",
       "236       0       2       0     322 1  TRUE\n",
       "237       0       2     200     457 0  TRUE\n",
       "238       0       1       0       1 0  TRUE\n",
       "239       1       2     231       1 0  TRUE\n",
       "240       0       1     110       1 1  TRUE\n",
       "241       0       2       0   13213 1  TRUE\n",
       "242       0       2     150    1271 1 FALSE\n",
       "243       1       2       0    5001 1  TRUE\n",
       "244       0       2       0     341 0  TRUE\n",
       "245       0       2     228       1 0  TRUE\n",
       "246       1       2     240      36 0  TRUE\n",
       "247       1       2     320       2 0 FALSE\n",
       "248       1       2       0    1001 1  TRUE\n",
       "249       1       2     181       1 1  TRUE\n",
       "250       0       2     216       1 1 FALSE\n",
       "251       1       2       0       1 0 FALSE\n",
       "252       1       2     120     476 0 FALSE\n",
       "253       1       2       0     135 1  TRUE\n",
       "254       0       2     120       1 0  TRUE\n",
       "255       0       2      29     838 1 FALSE\n",
       "256       0       2     100     151 1  TRUE\n",
       "257       1       2     431       1 1  TRUE\n",
       "258       1       2     225       1 1 FALSE\n",
       "259       1       1     320       1 0 FALSE\n",
       "260       1       2       0       1 0  TRUE\n",
       "261       0       2      80      22 0 FALSE\n",
       "262       0       2     100       1 1  TRUE\n",
       "263       1       2     180       1 0 FALSE\n",
       "264       1       2     370       1 1 FALSE\n",
       "265       0       2      50    1188 1  TRUE\n",
       "266       1       2      40     155 0  TRUE\n",
       "267       1       2     180     174 0 FALSE\n",
       "268       1       2     520   50001 1 FALSE\n",
       "269       1       2     210       1 0 FALSE\n",
       "270       1       2     100       1 0  TRUE\n",
       "271       0       2      80     485 0  TRUE\n",
       "272       0       1     300       1 1 FALSE\n",
       "273       0       2     132       1 0 FALSE\n",
       "274       0       2     240     769 1  TRUE\n",
       "275       0       2      80     279 1  TRUE\n",
       "276       1       2     480       1 0  TRUE\n",
       "277       1       2     252    2198 0  TRUE\n",
       "278       0       1     200       1 0  TRUE\n",
       "279       0       2     160    2073 1  TRUE\n",
       "280       0       2     120      15 1 FALSE\n",
       "281       1       2     232     201 0 FALSE\n",
       "282       0       2     100       1 0  TRUE\n",
       "283       0       1     400       1 0 FALSE\n",
       "284       1       2     300       3 0  TRUE\n",
       "285       1       2     320       1 0  TRUE\n",
       "286       1       2     395      21 1 FALSE\n",
       "287       1       2      22       1 1  TRUE\n",
       "288       0       2       0       1 1 FALSE\n",
       "289       0       2      96      20 0  TRUE\n",
       "290       0       2     160       1 0 FALSE\n",
       "291       1       1     420       1 0  TRUE\n",
       "292       1       2     200       5 0  TRUE\n",
       "293       0       2     184     601 1 FALSE\n",
       "294       1       2     840      60 1  TRUE\n",
       "295       1       2       0       1 1 FALSE\n",
       "296       0       2     180       5 0 FALSE\n",
       "297       1       2     200     106 0  TRUE\n",
       "298       0       2     225     501 0  TRUE\n",
       "299       1       2     480       1 1  TRUE\n",
       "300       1       2     160     588 0 FALSE\n",
       "301       1       2       0       1 1  TRUE\n",
       "302       1       2     136       1 0  TRUE\n",
       "303       1       2     292       1 0  TRUE\n",
       "304       0       2     120       1 0  TRUE\n",
       "305       1       2       0     161 0  TRUE\n",
       "306       1       2     399       1 1 FALSE\n",
       "307       0       2     220       6 0  TRUE\n",
       "308       1       2       0       1 1  TRUE\n",
       "309       1       2     200     395 0  TRUE\n",
       "310       1       2     416      22 0 FALSE\n",
       "311       0       2     260       1 0  TRUE\n",
       "312       1       2     100      28 0  TRUE\n",
       "313       0       2     160       1 0 FALSE\n",
       "314       0       2      80     100 1 FALSE\n",
       "315       1       2       0       1 1  TRUE\n",
       "316       0       2     100       1 0 FALSE\n",
       "317       1       2     980       1 0  TRUE\n",
       "318       1       2     156       1 1  TRUE\n",
       "319       0       2     120      19 0  TRUE\n",
       "320       0       2      73     445 1  TRUE\n",
       "321       1       2      80     301 1  TRUE\n",
       "322       0       2     100       1 1  TRUE\n",
       "323       1       2      30     301 1 FALSE\n",
       "324       0       2      80       1 1  TRUE\n",
       "325       1       2     320       1 1  TRUE\n",
       "326       0       2     520     197 1  TRUE\n",
       "327       1       2     356       1 0  TRUE\n",
       "328       1       2      73       1 0  TRUE\n",
       "329       0       2     160      11 0  TRUE\n",
       "330       1       2       0     351 0  TRUE\n",
       "331       0       2       0     100 1  TRUE\n",
       "332       0       1     120       1 1 FALSE\n",
       "333       1       2     160       1 1 FALSE\n",
       "334       1       2     309       3 0 FALSE\n",
       "335       1       2     150       2 0  TRUE\n",
       "336       1       2     220       6 0  TRUE\n",
       "337       0       2       0     457 1  TRUE\n",
       "338       0       2      17       2 0  TRUE\n",
       "339       0       2     240       1 1  TRUE\n",
       "340       1       2     200       1 0 FALSE\n",
       "341       1       2     120       1 0  TRUE\n",
       "342       1       2     100      21 0  TRUE\n",
       "343       1       2       0     561 1  TRUE\n",
       "344       0       2     200     301 1 FALSE\n",
       "345       1       1       0       1 1 FALSE\n",
       "346       1       2      80     401 1 FALSE\n",
       "347       1       2      99     501 1  TRUE\n",
       "348       0       2       0    2301 1  TRUE\n",
       "349       1       2       0    4001 1 FALSE\n",
       "350       0       2     300       1 0  TRUE\n",
       "351       0       2     360       1 1  TRUE\n",
       "352       1       2     720       1 0  TRUE\n",
       "353       1       2     290    2280 1 FALSE\n",
       "354       1       2     443       1 0  TRUE\n",
       "355       0       2     180       1 0 FALSE\n",
       "356       1       2     160      42 0  TRUE\n",
       "357       1       1     320       1 0  TRUE\n",
       "358       0       2       0       7 0  TRUE\n",
       "359       0       2     399     828 1 FALSE\n",
       "360       0       2       0      23 0  TRUE\n",
       "361       1       2       0       1 1 FALSE\n",
       "362       1       2      40     601 1 FALSE\n",
       "363       1       2     272     109 0 FALSE\n",
       "364       0       2    2000       3 0  TRUE\n",
       "365       1       1       0       1 0 FALSE\n",
       "366       1       2     240     118 0  TRUE\n",
       "367       0       1     160       1 0 FALSE\n",
       "368       0       2       0       1 1 FALSE\n",
       "369       0       2     200      19 0  TRUE\n",
       "370       0       2     204       1 1 FALSE\n",
       "371       0       2     100       1 1  TRUE\n",
       "372       0       2     320    3553 0  TRUE\n",
       "373       0       2     145       1 0  TRUE\n",
       "374       1       2     200      12 0  TRUE\n",
       "375       1       1     711       1 1 FALSE\n",
       "376       0       2       0    6701 1  TRUE\n",
       "377       1       2     396       1 1 FALSE\n",
       "378       0       2     380    2011 0  TRUE\n",
       "379       0       2     160      21 0  TRUE\n",
       "380       0       2      80    2955 1  TRUE\n",
       "381       1       2     108    1098 1 FALSE\n",
       "382       1       2     140       3 0  TRUE\n",
       "383       0       2     160       3 0  TRUE\n",
       "384       0       2      60       1 0 FALSE\n",
       "385       1       2     145       1 1  TRUE\n",
       "386       0       2       0    2284 1  TRUE\n",
       "387       1       2     276       2 0 FALSE\n",
       "388       0       2     383    1345 1  TRUE\n",
       "389       0       2       0       1 1 FALSE\n",
       "390       0       2      80       1 1 FALSE\n",
       "391       1       2       0       1 1  TRUE\n",
       "392       1       2       0    4001 0 FALSE\n",
       "393       0       2      92     301 0  TRUE\n",
       "394       0       2      96       1 1 FALSE\n",
       "395       0       3     184       1 1  TRUE\n",
       "396       1       2     460       1 0  TRUE\n",
       "397       0       2      80     991 0  TRUE\n",
       "398       1       2     120     810 0  TRUE\n",
       "399       0       2       0    5553 0  TRUE\n",
       "400       0       2     280      14 0  TRUE\n",
       "401       0       2     272       1 0  TRUE\n",
       "402       1       2     260    1066 1  TRUE\n",
       "403       1       2     200       8 0  TRUE\n",
       "404       0       2     220       2 0  TRUE\n",
       "405       0       2     160       2 0 FALSE\n",
       "406       1       2     371       1 1  TRUE\n",
       "407       0       2     274     611 1  TRUE\n",
       "408       0       2     180       1 0  TRUE\n",
       "409       0       2       0       1 1 FALSE\n",
       "410       0       2     200       1 0 FALSE\n",
       "411       0       2     120       1 0  TRUE\n",
       "412       0       2       0       1 0  TRUE\n",
       "413       0       2       0     248 1  TRUE\n",
       "414       1       2     432    8001 1 FALSE\n",
       "415       0       2     340       1 1  TRUE\n",
       "416       1       1     100       1 0  TRUE\n",
       "417       0       2     400       1 0  TRUE\n",
       "418       0       2     100       1 1 FALSE\n",
       "419       0       2     184    5201 0  TRUE\n",
       "420       0       2     440   11178 1  TRUE\n",
       "421       0       2     200     328 1  TRUE\n",
       "422       1       2     232     114 1 FALSE\n",
       "423       0       2     224       1 0  TRUE\n",
       "424       0       2       0     679 1  TRUE\n",
       "425       0       2     280     205 0  TRUE\n",
       "426       0       2     120       1 0  TRUE\n",
       "427       0       2     260     801 1  TRUE\n",
       "428       1       2     164     401 0  TRUE\n",
       "429       1       2     360       7 0  TRUE\n",
       "430       1       2     200       1 0  TRUE\n",
       "431       0       2     333     893 1 FALSE\n",
       "432       1       2     120       1 0 FALSE\n",
       "433       1       2     129       4 0 FALSE\n",
       "434       1       2     100       4 1  TRUE\n",
       "435       0       2     152     131 0  TRUE\n",
       "436       1       2     352     691 1 FALSE\n",
       "437       1       2     260       1 0  TRUE\n",
       "438       1       2     408    1001 1  TRUE\n",
       "439       0       2      32     541 1  TRUE\n",
       "440       1       2     280      56 0  TRUE\n",
       "441       0       2     510     601 1  TRUE\n",
       "442       1       2     221       1 0  TRUE\n",
       "443       0       2       0       3 0 FALSE\n",
       "444       0       2     260     201 1  TRUE\n",
       "445       0       2     200       1 0  TRUE\n",
       "446       1       2      80       1 1 FALSE\n",
       "447       0       2       0    3001 1 FALSE\n",
       "448       0       2       0      13 0  TRUE\n",
       "449       1       1     400       1 0  TRUE\n",
       "450       0       2     200       2 0 FALSE\n",
       "451       0       2     340    2804 0  TRUE\n",
       "452       1       2     240       1 0  TRUE\n",
       "453       0       3     184       1 1  TRUE\n",
       "454       0       2     400       1 1  TRUE\n",
       "455       1       2     268       1 0  TRUE\n",
       "456       0       2     320    1301 0 FALSE\n",
       "457       1       2     320       1 1 FALSE\n",
       "458       1       2     300     552 1 FALSE\n",
       "459       1       2     440    4501 0 FALSE\n",
       "460       0       2      56     743 1 FALSE\n",
       "461       1       2     174       4 0 FALSE\n",
       "462       1       2       0       1 1  TRUE\n",
       "463       0       2     108       8 0  TRUE\n",
       "464       0       2     250     731 1 FALSE\n",
       "465       0       2       0      11 0  TRUE\n",
       "466       1       2     260       1 1  TRUE\n",
       "467       1       2       0    1401 1  TRUE\n",
       "468       1       2     132      29 0  TRUE\n",
       "469       1       2     350       1 1  TRUE\n",
       "470       1       2      20      17 0  TRUE\n",
       "471       1       2      40      29 1 FALSE\n",
       "472       0       2       0     791 1  TRUE\n",
       "473       1       2       0     583 1  TRUE\n",
       "474       0       2     160       2 0  TRUE\n",
       "475       0       2     180       1 0  TRUE\n",
       "476       1       2     208     348 0 FALSE\n",
       "477       0       1     200       1 0 FALSE\n",
       "478       0       2       0     352 0  TRUE\n",
       "479       1       2      21   10562 1 FALSE\n",
       "480       0       2       0       1 0  TRUE\n",
       "481       0       2     400     459 1 FALSE\n",
       "482       0       2     140       1 0 FALSE\n",
       "483       0       3     184       1 0  TRUE\n",
       "484       1       2     200       2 0  TRUE\n",
       "485       0       1       0       1 1  TRUE\n",
       "486       1       2     160    5778 1  TRUE\n",
       "487       1       2     360    1333 1  TRUE\n",
       "488       0       2       0    8852 1  TRUE\n",
       "489       0       2       0    1250 1  TRUE\n",
       "490       0       1     288       1 0 FALSE\n",
       "491       1       2     370     561 1  TRUE\n",
       "492       0       2     330    1201 1 FALSE\n",
       "493       0       2     120       2 0 FALSE\n",
       "494       0       2     120       1 0  TRUE\n",
       "495       0       2     240       1 0  TRUE\n",
       "496       0       2     300      45 1  TRUE\n",
       "497       0       2     349      24 1  TRUE\n",
       "498       1       2     300    1431 1  TRUE\n",
       "499       1       1     300       1 1 FALSE\n",
       "500       0       2     200    1392 1  TRUE\n",
       "501       1       3     450  100001 1  TRUE\n",
       "502       0       2     140       1 0  TRUE\n",
       "503       1       2     410    2511 1  TRUE\n",
       "504       0       2       0       1 1 FALSE\n",
       "505       1       2     120    1001 1 FALSE\n",
       "506       1       2      60     401 1  TRUE\n",
       "507       0       2     320       6 0 FALSE\n",
       "508       0       2     120       2 0 FALSE\n",
       "509       0       1     200       1 0 FALSE\n",
       "510       1       2     329       1 0  TRUE\n",
       "511       1       2     132       3 0 FALSE\n",
       "512       0       2     320      14 0  TRUE\n",
       "513       1       2     300      68 0 FALSE\n",
       "514       1       2       0       1 1  TRUE\n",
       "515       0       2       0       1 0 FALSE\n",
       "516       1       2     300       1 0  TRUE\n",
       "517       0       2     160     235 1  TRUE\n",
       "518       0       1      80       1 1 FALSE\n",
       "519       1       2     120       1 1 FALSE\n",
       "520       0       2     340       2 0 FALSE\n",
       "521       1       2     500   10001 1  TRUE\n",
       "522       0       2     120       2 0  TRUE\n",
       "523       1       2     167     501 0 FALSE\n",
       "524       0       2      80     919 1 FALSE\n",
       "525       0       2     121       1 1  TRUE\n",
       "526       0       2     360       1 0  TRUE\n",
       "527       1       2     154       1 1  TRUE\n",
       "528       1       2     263       1 0  TRUE\n",
       "529       0       2     120      88 0 FALSE\n",
       "530       1       2      80       6 0  TRUE\n",
       "531       1       2     280       1 0 FALSE\n",
       "532       0       1     160       1 0  TRUE\n",
       "533       0       1      28       1 0  TRUE\n",
       "534       0       2     240     101 1  TRUE\n",
       "535       1       2     523       1 0  TRUE\n",
       "536       0       2     220    2504 1  TRUE\n",
       "537       0       2     180       1 0 FALSE\n",
       "538       1       2     128       1 1 FALSE\n",
       "539       0       2       0    6591 1  TRUE\n",
       "540       0       2     311     301 1  TRUE\n",
       "541       0       2     144       1 0  TRUE\n",
       "542       1       2     178       1 0  TRUE\n",
       "543       1       2       0      16 1  TRUE\n",
       "544       0       2     170     180 0  TRUE\n",
       "545       1       2     300       6 0  TRUE\n",
       "546       0       2     140     723 0  TRUE\n",
       "547       0       2     200       4 0  TRUE\n",
       "548       0       1       0       1 0  TRUE\n",
       "549       1       2     160       1 0  TRUE\n",
       "550       0       1       0       1 0  TRUE\n",
       "551       1       2      60      59 1  TRUE\n",
       "552       0       2     260   15109 1  TRUE\n",
       "553       0       2     240     238 0  TRUE\n",
       "554       0       2      94       1 0  TRUE\n",
       "555       0       2     320       1 0 FALSE\n",
       "556       1       2     360    1001 0  TRUE\n",
       "557       0       2     120       1 0  TRUE\n",
       "558       0       2     422     201 1 FALSE\n",
       "559       0       2      70       7 0  TRUE\n",
       "560       0       2       0   15001 1 FALSE\n",
       "561       1       2       0       3 0  TRUE\n",
       "562       0       2      80       1 1  TRUE\n",
       "563       0       2     180       2 0  TRUE\n",
       "564       0       2     348       1 0  TRUE\n",
       "565       1       2       0       1 1  TRUE\n",
       "566       1       2       0       1 1  TRUE\n",
       "567       0       2       0       1 1  TRUE\n",
       "568       1       2     163       1 0  TRUE\n",
       "569       1       1     240       1 0  TRUE\n",
       "570       1       1      80       1 0 FALSE\n",
       "571       1       2     220     252 0 FALSE\n",
       "572       0       2     100       2 0 FALSE\n",
       "573       1       2       0     301 1 FALSE\n",
       "574       1       2     160       1 0  TRUE\n",
       "575       1       2     303    3291 1  TRUE\n",
       "576       0       2       0    3001 1 FALSE\n",
       "577       1       2     200     142 0  TRUE\n",
       "578       0       2       0       1 0  TRUE\n",
       "579       0       2     200       1 0  TRUE\n",
       "580       0       1     300       1 0  TRUE\n",
       "581       0       2     240       2 0  TRUE\n",
       "582       1       2      24    2029 1  TRUE\n",
       "583       0       2      70       1 1  TRUE\n",
       "584       1       2     360       1 1  TRUE\n",
       "585       0       2     280     205 0  TRUE\n",
       "586       1       2       0     222 1  TRUE\n",
       "587       0       2     760      91 0  TRUE\n",
       "588       1       2       0       1 1  TRUE\n",
       "589       1       2     400    5801 1  TRUE\n",
       "590       0       2     128       2 0  TRUE\n",
       "591       1       2       0     502 0  TRUE\n",
       "592       0       2       0    5001 1  TRUE\n",
       "593       0       2       0    1001 0  TRUE\n",
       "594       1       2     200    3001 1  TRUE\n",
       "595       0       2     465     151 0  TRUE\n",
       "596       1       2     184       1 0  TRUE\n",
       "597       0       1      40       1 1 FALSE\n",
       "598       1       2     239     201 1  TRUE\n",
       "599       0       2     254    1951 0  TRUE\n",
       "600       1       2      93       1 1  TRUE\n",
       "601       0       2     200    1001 0 FALSE\n",
       "602       1       2     102     640 1  TRUE\n",
       "603       0       2      60     397 1  TRUE\n",
       "604       0       2       0    5001 1  TRUE\n",
       "605       1       2     440       7 1  TRUE\n",
       "606       0       2       0       1 0 FALSE\n",
       "607       1       1     200       1 0 FALSE\n",
       "608       0       2     186    4701 1 FALSE\n",
       "609       1       2     180      51 0  TRUE\n",
       "610       0       2     120    2207 1 FALSE\n",
       "611       0       2     117    1211 1  TRUE\n",
       "612       0       2     240       4 0  TRUE\n",
       "613       1       2       0       1 1  TRUE\n",
       "614       0       1     400       1 0  TRUE\n",
       "615       0       2     220     949 1  TRUE\n",
       "616       0       2      80    9801 1  TRUE\n",
       "617       0       2       0       1 0 FALSE\n",
       "618       1       2     280      11 0  TRUE\n",
       "619       0       2     160       1 0  TRUE\n",
       "620       0       2     420       8 1 FALSE\n",
       "621       1       2     640    4001 0  TRUE\n",
       "622       0       2      60     541 1  TRUE\n",
       "623       0       2     120     246 1 FALSE\n",
       "624       1       2     136       2 0  TRUE\n",
       "625       1       2      70       1 1  TRUE\n",
       "626       0       2     188       1 0  TRUE\n",
       "627       1       2     440       1 0  TRUE\n",
       "628       0       2     160    1059 0  TRUE\n",
       "629       0       2     180     148 0 FALSE\n",
       "630       1       2     120       2 0 FALSE\n",
       "631       1       2     393       1 1  TRUE\n",
       "632       0       2     100       3 0 FALSE\n",
       "633       0       1     280       1 1  TRUE\n",
       "634       0       2     272     445 0  TRUE\n",
       "635       0       2      80       1 0 FALSE\n",
       "636       0       2     180      21 0  TRUE\n",
       "637       0       2     110       1 0  TRUE\n",
       "638       1       2     120       1 0 FALSE\n",
       "639       1       2      80       1 0 FALSE\n",
       "640       0       1     230       1 1  TRUE\n",
       "641       0       2     160      26 0 FALSE\n",
       "642       1       2     455    1237 1  TRUE\n",
       "643       1       2     515     501 1 FALSE\n",
       "644       0       1      80       1 0 FALSE\n",
       "645       0       2       0      39 0 FALSE\n",
       "646       1       1     252       1 0  TRUE\n",
       "647       1       2     140       6 0 FALSE\n",
       "648       0       2     100       1 0 FALSE\n",
       "649       1       2       0     226 0  TRUE\n",
       "650       0       2     381     169 1  TRUE\n",
       "651       1       2     280       1 1  TRUE\n",
       "652       1       2     280      81 0  TRUE\n",
       "653       1       2     140    1111 0  TRUE\n",
       "654       1       2       0     285 1  TRUE\n",
       "655       1       1     928       1 0  TRUE\n",
       "656       1       2     180    1063 0 FALSE\n",
       "657       1       2     380       1 1 FALSE\n",
       "658       0       2       0     317 0 FALSE\n",
       "659       0       2      86       1 0 FALSE\n",
       "660       0       2     100       1 1  TRUE\n",
       "661       0       2     211       1 1  TRUE\n",
       "662       1       1     144       1 0  TRUE\n",
       "663       0       2     200    1001 1  TRUE\n",
       "664       0       2     160     151 1  TRUE\n",
       "665       0       2     144       1 0  TRUE\n",
       "666       1       2     411       1 0  TRUE\n",
       "667       0       2     200    1211 0  TRUE\n",
       "668       0       2      80       1 0  TRUE\n",
       "669       1       2     372     123 0  TRUE\n",
       "670       0       1      80       1 0  TRUE\n",
       "671       1       2     228       1 1  TRUE\n",
       "672       0       2       0       1 1  TRUE\n",
       "673       0       2       0      51 0 FALSE\n",
       "674       1       2     120       1 1  TRUE\n",
       "675       1       2     491       1 1  TRUE\n",
       "676       1       2       0      18 0 FALSE\n",
       "677       0       2     220    1001 0  TRUE\n",
       "678       1       1     320       1 0  TRUE\n",
       "679       1       2     160       1 0  TRUE\n",
       "680       0       2     380    2733 1  TRUE\n",
       "681       1       1       0       1 0  TRUE\n",
       "682       0       2      80       1 0  TRUE\n",
       "683       0       2      80    1350 1  TRUE\n",
       "684       0       2       0     121 0  TRUE\n",
       "685       0       2     100     376 1  TRUE\n",
       "686       0       2       0       1 1  TRUE\n",
       "687       0       2       0      45 0  TRUE\n",
       "688       0       2     100       1 1  TRUE\n",
       "689       0       2     120      12 1  TRUE\n",
       "690       0       1     560       1 1  TRUE\n"
      ]
     },
     "execution_count": 337,
     "metadata": {},
     "output_type": "execute_result"
    }
   ],
   "source": [
    "R\"$df\""
   ]
  },
  {
   "cell_type": "markdown",
   "metadata": {},
   "source": [
    "So if you\n",
    "- do not know how to do something in Julia\n",
    "- do know how to do it in R \n",
    "- are lazy to go from one language into another "
   ]
  },
  {
   "cell_type": "code",
   "execution_count": 365,
   "metadata": {},
   "outputs": [
    {
     "data": {
      "image/png": "[encoded data removed]"
     },
     "metadata": {},
     "output_type": "display_data"
    },
    {
     "data": {
      "text/plain": [
       "RObject{VecSxp}\n"
      ]
     },
     "execution_count": 365,
     "metadata": {},
     "output_type": "execute_result"
    }
   ],
   "source": [
    "R\"\"\"\n",
    "library(dplyr)\n",
    "library(ggplot2)\n",
    "\n",
    "$df %>% \n",
    "    ggplot()+aes(x=input2, y=input3, color=factor(input6)) + geom_point()\n",
    "\"\"\""
   ]
  },
  {
   "cell_type": "code",
   "execution_count": null,
   "metadata": {
    "collapsed": true
   },
   "outputs": [],
   "source": []
  }
 ],
 "metadata": {
  "kernelspec": {
   "display_name": "Julia 1.0.1",
   "language": "julia",
   "name": "julia-1.0"
  },
  "language_info": {
   "file_extension": ".jl",
   "mimetype": "application/julia",
   "name": "julia",
   "version": "1.0.1"
  }
 },
 "nbformat": 4,
 "nbformat_minor": 2
}
